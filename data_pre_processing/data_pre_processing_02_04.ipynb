{
  "cells": [
    {
      "cell_type": "code",
      "execution_count": 1,
      "metadata": {
        "id": "0xxOmpVSP8OH"
      },
      "outputs": [],
      "source": [
        "import pandas as pd\n",
        "import numpy as np\n",
        "import os"
      ]
    },
    {
      "cell_type": "code",
      "execution_count": 2,
      "metadata": {
        "colab": {
          "base_uri": "https://localhost:8080/"
        },
        "id": "kBgURNqlQIYq",
        "outputId": "ab49f060-9d7b-4db4-e827-99afe3431f6e"
      },
      "outputs": [
        {
          "name": "stdout",
          "output_type": "stream",
          "text": [
            "Requirement already satisfied: pandas in c:\\users\\meyer\\documents\\dom_detecter_code\\dom_detecter\\dom_detecter_env\\lib\\site-packages (2.1.0)\n",
            "Requirement already satisfied: openpyxl in c:\\users\\meyer\\documents\\dom_detecter_code\\dom_detecter\\dom_detecter_env\\lib\\site-packages (3.1.2)\n",
            "Requirement already satisfied: numpy>=1.22.4 in c:\\users\\meyer\\documents\\dom_detecter_code\\dom_detecter\\dom_detecter_env\\lib\\site-packages (from pandas) (1.24.3)\n",
            "Requirement already satisfied: tzdata>=2022.1 in c:\\users\\meyer\\documents\\dom_detecter_code\\dom_detecter\\dom_detecter_env\\lib\\site-packages (from pandas) (2023.3)\n",
            "Requirement already satisfied: python-dateutil>=2.8.2 in c:\\users\\meyer\\documents\\dom_detecter_code\\dom_detecter\\dom_detecter_env\\lib\\site-packages (from pandas) (2.8.2)\n",
            "Requirement already satisfied: pytz>=2020.1 in c:\\users\\meyer\\documents\\dom_detecter_code\\dom_detecter\\dom_detecter_env\\lib\\site-packages (from pandas) (2023.3.post1)\n",
            "Requirement already satisfied: et-xmlfile in c:\\users\\meyer\\documents\\dom_detecter_code\\dom_detecter\\dom_detecter_env\\lib\\site-packages (from openpyxl) (1.1.0)\n",
            "Requirement already satisfied: six>=1.5 in c:\\users\\meyer\\documents\\dom_detecter_code\\dom_detecter\\dom_detecter_env\\lib\\site-packages (from python-dateutil>=2.8.2->pandas) (1.16.0)\n",
            "Note: you may need to restart the kernel to use updated packages.\n"
          ]
        },
        {
          "name": "stderr",
          "output_type": "stream",
          "text": [
            "WARNING: You are using pip version 22.0.4; however, version 23.3.1 is available.\n",
            "You should consider upgrading via the 'c:\\Users\\Meyer\\Documents\\Dom_Detecter_Code\\Dom_Detecter\\dom_detecter_env\\Scripts\\python.exe -m pip install --upgrade pip' command.\n"
          ]
        }
      ],
      "source": [
        "%pip install pandas openpyxl"
      ]
    },
    {
      "cell_type": "code",
      "execution_count": 3,
      "metadata": {
        "id": "iiir7iZt1Kk0"
      },
      "outputs": [],
      "source": [
        "directory = r\"C:\\Users\\Meyer\\Documents\\Dom_Detecter\\UNSW-csv_03-04\"  # Replace with your directory path\n",
        "all_files = [f for f in os.listdir(directory) if os.path.isfile(os.path.join(directory, f))]"
      ]
    },
    {
      "cell_type": "code",
      "execution_count": 4,
      "metadata": {
        "colab": {
          "base_uri": "https://localhost:8080/"
        },
        "id": "A7WW7TQh1hSG",
        "outputId": "39b13ad9-1997-422c-c4d4-1556befa6c9e"
      },
      "outputs": [
        {
          "name": "stderr",
          "output_type": "stream",
          "text": [
            "C:\\Users\\Meyer\\AppData\\Local\\Temp\\ipykernel_14448\\2217386177.py:1: DtypeWarning: Columns (24,25) have mixed types. Specify dtype option on import or set low_memory=False.\n",
            "  list_of_dataframes = [pd.read_csv(os.path.join(directory, f)) for f in all_files]\n"
          ]
        }
      ],
      "source": [
        "list_of_dataframes = [pd.read_csv(os.path.join(directory, f)) for f in all_files]\n",
        "merged_dataframe = pd.concat(list_of_dataframes, ignore_index=True)"
      ]
    },
    {
      "cell_type": "code",
      "execution_count": 5,
      "metadata": {
        "id": "EyEeMGfaMlGD"
      },
      "outputs": [],
      "source": [
        "# Set Pandas to display all columns and rows\n",
        "pd.set_option('display.max_columns', None)\n",
        "#pd.set_option('display.max_rows', None)"
      ]
    },
    {
      "cell_type": "code",
      "execution_count": 5,
      "metadata": {
        "id": "uGwiBFwl14eM"
      },
      "outputs": [],
      "source": [
        "df_merged = merged_dataframe"
      ]
    },
    {
      "cell_type": "code",
      "execution_count": 6,
      "metadata": {
        "colab": {
          "base_uri": "https://localhost:8080/",
          "height": 255
        },
        "id": "ZvbgvcDGdCh3",
        "outputId": "eef2d99a-5662-4f28-dcd0-634a48d362cb"
      },
      "outputs": [
        {
          "data": {
            "text/html": [
              "<div>\n",
              "<style scoped>\n",
              "    .dataframe tbody tr th:only-of-type {\n",
              "        vertical-align: middle;\n",
              "    }\n",
              "\n",
              "    .dataframe tbody tr th {\n",
              "        vertical-align: top;\n",
              "    }\n",
              "\n",
              "    .dataframe thead th {\n",
              "        text-align: right;\n",
              "    }\n",
              "</style>\n",
              "<table border=\"1\" class=\"dataframe\">\n",
              "  <thead>\n",
              "    <tr style=\"text-align: right;\">\n",
              "      <th></th>\n",
              "      <th>idx</th>\n",
              "      <th>protocol</th>\n",
              "      <th>src_ip</th>\n",
              "      <th>src_port</th>\n",
              "      <th>dst_ip</th>\n",
              "      <th>dst_port</th>\n",
              "      <th>packet_length</th>\n",
              "      <th>tcp_flags</th>\n",
              "      <th>window_size</th>\n",
              "      <th>ttl</th>\n",
              "      <th>...</th>\n",
              "      <th>Start_Time</th>\n",
              "      <th>End_Time</th>\n",
              "      <th>Duration</th>\n",
              "      <th>Flow_Volume</th>\n",
              "      <th>Flow_Rate</th>\n",
              "      <th>Inter_Arrival_Time</th>\n",
              "      <th>Total_Fwd_Packets</th>\n",
              "      <th>Total_Bwd_Packets</th>\n",
              "      <th>Fwd_Packet_Length_Total</th>\n",
              "      <th>Bwd_Packet_Length_Total</th>\n",
              "    </tr>\n",
              "  </thead>\n",
              "  <tbody>\n",
              "    <tr>\n",
              "      <th>3015146</th>\n",
              "      <td>2344987</td>\n",
              "      <td>UDP</td>\n",
              "      <td>192.168.1.240</td>\n",
              "      <td>47532.0</td>\n",
              "      <td>23.23.189.20</td>\n",
              "      <td>33434.0</td>\n",
              "      <td>191.0</td>\n",
              "      <td>NaN</td>\n",
              "      <td>NaN</td>\n",
              "      <td>64.0</td>\n",
              "      <td>...</td>\n",
              "      <td>1.475500e+09</td>\n",
              "      <td>1.475586e+09</td>\n",
              "      <td>86377.446387</td>\n",
              "      <td>603981</td>\n",
              "      <td>6.992346</td>\n",
              "      <td>27.028617</td>\n",
              "      <td>3159</td>\n",
              "      <td>2</td>\n",
              "      <td>603369</td>\n",
              "      <td>612</td>\n",
              "    </tr>\n",
              "    <tr>\n",
              "      <th>3015147</th>\n",
              "      <td>2344988</td>\n",
              "      <td>TCP</td>\n",
              "      <td>192.168.1.106</td>\n",
              "      <td>47940.0</td>\n",
              "      <td>52.87.241.159</td>\n",
              "      <td>443.0</td>\n",
              "      <td>156.0</td>\n",
              "      <td>ack</td>\n",
              "      <td>2549.0</td>\n",
              "      <td>64.0</td>\n",
              "      <td>...</td>\n",
              "      <td>1.475500e+09</td>\n",
              "      <td>1.475586e+09</td>\n",
              "      <td>86396.665415</td>\n",
              "      <td>29968618</td>\n",
              "      <td>346.872392</td>\n",
              "      <td>0.808389</td>\n",
              "      <td>114406</td>\n",
              "      <td>113720</td>\n",
              "      <td>22253830</td>\n",
              "      <td>7714788</td>\n",
              "    </tr>\n",
              "    <tr>\n",
              "      <th>3015148</th>\n",
              "      <td>2344989</td>\n",
              "      <td>TCP</td>\n",
              "      <td>89.30.121.22</td>\n",
              "      <td>5222.0</td>\n",
              "      <td>192.168.1.156</td>\n",
              "      <td>40179.0</td>\n",
              "      <td>195.0</td>\n",
              "      <td>ack</td>\n",
              "      <td>185856.0</td>\n",
              "      <td>44.0</td>\n",
              "      <td>...</td>\n",
              "      <td>1.475523e+09</td>\n",
              "      <td>1.475586e+09</td>\n",
              "      <td>63310.846057</td>\n",
              "      <td>1546822</td>\n",
              "      <td>24.432180</td>\n",
              "      <td>0.272993</td>\n",
              "      <td>6261</td>\n",
              "      <td>3482</td>\n",
              "      <td>911350</td>\n",
              "      <td>635472</td>\n",
              "    </tr>\n",
              "    <tr>\n",
              "      <th>3015149</th>\n",
              "      <td>2344990</td>\n",
              "      <td>TCP</td>\n",
              "      <td>192.168.1.156</td>\n",
              "      <td>40179.0</td>\n",
              "      <td>89.30.121.22</td>\n",
              "      <td>5222.0</td>\n",
              "      <td>66.0</td>\n",
              "      <td>ack</td>\n",
              "      <td>126160.0</td>\n",
              "      <td>64.0</td>\n",
              "      <td>...</td>\n",
              "      <td>1.475523e+09</td>\n",
              "      <td>1.475586e+09</td>\n",
              "      <td>63310.846057</td>\n",
              "      <td>1546822</td>\n",
              "      <td>24.432180</td>\n",
              "      <td>0.002094</td>\n",
              "      <td>6261</td>\n",
              "      <td>3482</td>\n",
              "      <td>911350</td>\n",
              "      <td>635472</td>\n",
              "    </tr>\n",
              "    <tr>\n",
              "      <th>3015150</th>\n",
              "      <td>2344991</td>\n",
              "      <td>NaN</td>\n",
              "      <td>fe80::216:6cff:feab:6b88</td>\n",
              "      <td>NaN</td>\n",
              "      <td>ff02::1:ffab:6b88</td>\n",
              "      <td>NaN</td>\n",
              "      <td>NaN</td>\n",
              "      <td>NaN</td>\n",
              "      <td>NaN</td>\n",
              "      <td>1.0</td>\n",
              "      <td>...</td>\n",
              "      <td>0.000000e+00</td>\n",
              "      <td>0.000000e+00</td>\n",
              "      <td>0.000000</td>\n",
              "      <td>0</td>\n",
              "      <td>0.000000</td>\n",
              "      <td>1.279176</td>\n",
              "      <td>0</td>\n",
              "      <td>0</td>\n",
              "      <td>0</td>\n",
              "      <td>0</td>\n",
              "    </tr>\n",
              "  </tbody>\n",
              "</table>\n",
              "<p>5 rows × 41 columns</p>\n",
              "</div>"
            ],
            "text/plain": [
              "             idx protocol                    src_ip  src_port  \\\n",
              "3015146  2344987      UDP             192.168.1.240   47532.0   \n",
              "3015147  2344988      TCP             192.168.1.106   47940.0   \n",
              "3015148  2344989      TCP              89.30.121.22    5222.0   \n",
              "3015149  2344990      TCP             192.168.1.156   40179.0   \n",
              "3015150  2344991      NaN  fe80::216:6cff:feab:6b88       NaN   \n",
              "\n",
              "                    dst_ip  dst_port  packet_length tcp_flags  window_size  \\\n",
              "3015146       23.23.189.20   33434.0          191.0       NaN          NaN   \n",
              "3015147      52.87.241.159     443.0          156.0       ack       2549.0   \n",
              "3015148      192.168.1.156   40179.0          195.0       ack     185856.0   \n",
              "3015149       89.30.121.22    5222.0           66.0       ack     126160.0   \n",
              "3015150  ff02::1:ffab:6b88       NaN            NaN       NaN          NaN   \n",
              "\n",
              "          ttl  ...    Start_Time      End_Time      Duration  Flow_Volume  \\\n",
              "3015146  64.0  ...  1.475500e+09  1.475586e+09  86377.446387       603981   \n",
              "3015147  64.0  ...  1.475500e+09  1.475586e+09  86396.665415     29968618   \n",
              "3015148  44.0  ...  1.475523e+09  1.475586e+09  63310.846057      1546822   \n",
              "3015149  64.0  ...  1.475523e+09  1.475586e+09  63310.846057      1546822   \n",
              "3015150   1.0  ...  0.000000e+00  0.000000e+00      0.000000            0   \n",
              "\n",
              "          Flow_Rate  Inter_Arrival_Time  Total_Fwd_Packets Total_Bwd_Packets  \\\n",
              "3015146    6.992346           27.028617               3159                 2   \n",
              "3015147  346.872392            0.808389             114406            113720   \n",
              "3015148   24.432180            0.272993               6261              3482   \n",
              "3015149   24.432180            0.002094               6261              3482   \n",
              "3015150    0.000000            1.279176                  0                 0   \n",
              "\n",
              "         Fwd_Packet_Length_Total  Bwd_Packet_Length_Total  \n",
              "3015146                   603369                      612  \n",
              "3015147                 22253830                  7714788  \n",
              "3015148                   911350                   635472  \n",
              "3015149                   911350                   635472  \n",
              "3015150                        0                        0  \n",
              "\n",
              "[5 rows x 41 columns]"
            ]
          },
          "execution_count": 6,
          "metadata": {},
          "output_type": "execute_result"
        }
      ],
      "source": [
        "df_merged.tail()"
      ]
    },
    {
      "cell_type": "code",
      "execution_count": 7,
      "metadata": {
        "colab": {
          "base_uri": "https://localhost:8080/"
        },
        "id": "bZ3YXv4_hbwX",
        "outputId": "7c501ef7-d54e-4cfa-eece-6f862f6a58f0"
      },
      "outputs": [
        {
          "name": "stdout",
          "output_type": "stream",
          "text": [
            "The DataFrame has 3015151 rows.\n"
          ]
        }
      ],
      "source": [
        "# Count the number of rows\n",
        "num_rows = df_merged.shape[0]\n",
        "\n",
        "# Print the number of rows\n",
        "print(f\"The DataFrame has {num_rows} rows.\")"
      ]
    },
    {
      "cell_type": "code",
      "execution_count": 8,
      "metadata": {
        "id": "BIc51wDCgxOc"
      },
      "outputs": [],
      "source": [
        "# Read the mapping DataFrame from Excel\n",
        "mapping_df = pd.read_excel(r'C:\\Users\\Meyer\\Documents\\Dom_Detecter\\UNSW_csv_23-02\\mapping\\mapping.xlsx', engine='openpyxl')"
      ]
    },
    {
      "cell_type": "code",
      "execution_count": 9,
      "metadata": {
        "id": "IhYgTwVcha0j"
      },
      "outputs": [],
      "source": [
        "# Create a mapping dictionary\n",
        "mapping_dict = dict(zip(mapping_df.packet_eth_src, mapping_df.target))"
      ]
    },
    {
      "cell_type": "code",
      "execution_count": 10,
      "metadata": {
        "id": "5dsDUkIgP-xF"
      },
      "outputs": [],
      "source": [
        "# Apply the mapping to the 'packet_eth_src' column in df_merged\n",
        "df_merged['target'] = df_merged['packet_eth_src'].map(mapping_dict)\n",
        "\n",
        "# Fill any NaN values with 'unknown'\n",
        "df_merged['target'] = df_merged['target'].fillna('unknown')"
      ]
    },
    {
      "cell_type": "code",
      "execution_count": 11,
      "metadata": {
        "colab": {
          "base_uri": "https://localhost:8080/"
        },
        "id": "oXGHJKD4uBfg",
        "outputId": "8c1761ff-c831-4377-fc05-0d9967adbcf9"
      },
      "outputs": [
        {
          "name": "stdout",
          "output_type": "stream",
          "text": [
            "Number of packets for each target:\n",
            "target\n",
            "unknown               2617678\n",
            "samsung_cam             75405\n",
            "belkin_motion           70803\n",
            "belkin_switch           59506\n",
            "amazon_echo             57436\n",
            "withings_sleep          30498\n",
            "netatmo_cam             29845\n",
            "smart_things            23918\n",
            "tp-link_cam             11350\n",
            "lifx                     9117\n",
            "netatmo_weather          7161\n",
            "triby_speaker            6973\n",
            "ihome_plug               5867\n",
            "hp_printer               4200\n",
            "pixstar_photoframe       2674\n",
            "tp-link_plug             2245\n",
            "withings_scale            231\n",
            "nest_smoke                218\n",
            "blipcare_bp_meter          26\n",
            "Name: count, dtype: int64\n"
          ]
        }
      ],
      "source": [
        "# Count the number of packets for each target and print it\n",
        "target_counts = df_merged['target'].value_counts()\n",
        "print(\"Number of packets for each target:\")\n",
        "print(target_counts)"
      ]
    },
    {
      "cell_type": "code",
      "execution_count": 13,
      "metadata": {},
      "outputs": [
        {
          "name": "stdout",
          "output_type": "stream",
          "text": [
            "target\n",
            "amazon_echo            4449\n",
            "belkin_motion          4014\n",
            "belkin_switch          2926\n",
            "blipcare_bp_meter         3\n",
            "hp_printer               12\n",
            "ihome_plug               19\n",
            "lifx                   1447\n",
            "nest_smoke               15\n",
            "netatmo_cam             947\n",
            "netatmo_weather         248\n",
            "pixstar_photoframe      405\n",
            "samsung_cam            3555\n",
            "smart_things            584\n",
            "tp-link_cam             405\n",
            "tp-link_plug            176\n",
            "triby_speaker            27\n",
            "unknown               24569\n",
            "withings_scale            4\n",
            "withings_sleep         1183\n",
            "Name: Flow, dtype: int64\n"
          ]
        }
      ],
      "source": [
        "flow_counts = df_merged.groupby('target')['Flow'].nunique()\n",
        "print(flow_counts)"
      ]
    },
    {
      "cell_type": "code",
      "execution_count": 15,
      "metadata": {},
      "outputs": [],
      "source": [
        "# List of targets you want to keep\n",
        "desired_targets = ['amazon_echo', 'belkin_motion', 'belkin_switch', 'netatmo_cam', \n",
        "                   'netatmo_weather', 'pixstar_photoframe', 'samsung_cam', \n",
        "                   'smart_things', 'tp-link_cam', 'triby_speaker', 'unknown']\n",
        "\n",
        "# Filtering the DataFrame\n",
        "filtered_df = df_merged[df_merged['target'].isin(desired_targets)]"
      ]
    },
    {
      "cell_type": "code",
      "execution_count": 16,
      "metadata": {},
      "outputs": [
        {
          "name": "stdout",
          "output_type": "stream",
          "text": [
            "Number of packets for each target:\n",
            "target\n",
            "unknown               2617678\n",
            "samsung_cam             75405\n",
            "belkin_motion           70803\n",
            "belkin_switch           59506\n",
            "amazon_echo             57436\n",
            "netatmo_cam             29845\n",
            "smart_things            23918\n",
            "tp-link_cam             11350\n",
            "netatmo_weather          7161\n",
            "triby_speaker            6973\n",
            "pixstar_photoframe       2674\n",
            "Name: count, dtype: int64\n"
          ]
        }
      ],
      "source": [
        "# Count the number of packets for each target and print it\n",
        "target_counts = filtered_df['target'].value_counts()\n",
        "print(\"Number of packets for each target:\")\n",
        "print(target_counts)"
      ]
    },
    {
      "cell_type": "code",
      "execution_count": 17,
      "metadata": {},
      "outputs": [],
      "source": [
        "def limit_rows(group):\n",
        "    return group.head(20000)\n",
        "\n",
        "# Assuming df_merged is your DataFrame\n",
        "limited_df = filtered_df.groupby('target').apply(limit_rows).reset_index(drop=True)\n"
      ]
    },
    {
      "cell_type": "code",
      "execution_count": 19,
      "metadata": {},
      "outputs": [
        {
          "name": "stdout",
          "output_type": "stream",
          "text": [
            "Number of packets for each target:\n",
            "target\n",
            "amazon_echo           20000\n",
            "belkin_motion         20000\n",
            "belkin_switch         20000\n",
            "netatmo_cam           20000\n",
            "samsung_cam           20000\n",
            "smart_things          20000\n",
            "unknown               20000\n",
            "tp-link_cam           11350\n",
            "netatmo_weather        7161\n",
            "triby_speaker          6973\n",
            "pixstar_photoframe     2674\n",
            "Name: count, dtype: int64\n"
          ]
        }
      ],
      "source": [
        "# Count the number of packets for each target and print it\n",
        "target_counts = limited_df['target'].value_counts()\n",
        "print(\"Number of packets for each target:\")\n",
        "print(target_counts)"
      ]
    },
    {
      "cell_type": "code",
      "execution_count": 26,
      "metadata": {
        "id": "cVxqeoFMnw5-"
      },
      "outputs": [],
      "source": [
        "limited_df.to_excel(r'C:\\Users\\Meyer\\Documents\\Dom_Detecter\\limited_and_filtered_df_unsw_02_04.xlsx', index=False)"
      ]
    },
    {
      "cell_type": "code",
      "execution_count": null,
      "metadata": {
        "id": "i60ar2hldnMD"
      },
      "outputs": [],
      "source": [
        "# Set Pandas to display all columns and rows\n",
        "pd.set_option('display.max_columns', None)\n",
        "pd.set_option('display.max_rows', None)"
      ]
    }
  ],
  "metadata": {
    "colab": {
      "provenance": []
    },
    "kernelspec": {
      "display_name": "Python 3",
      "name": "python3"
    },
    "language_info": {
      "codemirror_mode": {
        "name": "ipython",
        "version": 3
      },
      "file_extension": ".py",
      "mimetype": "text/x-python",
      "name": "python",
      "nbconvert_exporter": "python",
      "pygments_lexer": "ipython3",
      "version": "3.9.13"
    }
  },
  "nbformat": 4,
  "nbformat_minor": 0
}
