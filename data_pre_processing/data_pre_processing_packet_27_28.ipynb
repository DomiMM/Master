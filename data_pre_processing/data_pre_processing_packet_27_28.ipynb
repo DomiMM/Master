{
  "cells": [
    {
      "cell_type": "code",
      "execution_count": 1,
      "metadata": {
        "id": "0xxOmpVSP8OH"
      },
      "outputs": [],
      "source": [
        "import pandas as pd\n",
        "import numpy as np\n",
        "import os"
      ]
    },
    {
      "cell_type": "code",
      "execution_count": 2,
      "metadata": {
        "colab": {
          "base_uri": "https://localhost:8080/"
        },
        "id": "kBgURNqlQIYq",
        "outputId": "ada18f02-49e4-4b33-824f-1086305a492c"
      },
      "outputs": [
        {
          "name": "stdout",
          "output_type": "stream",
          "text": [
            "Requirement already satisfied: pandas in c:\\users\\meyer\\documents\\dom_detecter_code\\dom_detecter\\dom_detecter_env\\lib\\site-packages (2.1.0)\n",
            "Requirement already satisfied: openpyxl in c:\\users\\meyer\\documents\\dom_detecter_code\\dom_detecter\\dom_detecter_env\\lib\\site-packages (3.1.2)\n",
            "Requirement already satisfied: pytz>=2020.1 in c:\\users\\meyer\\documents\\dom_detecter_code\\dom_detecter\\dom_detecter_env\\lib\\site-packages (from pandas) (2023.3.post1)\n",
            "Requirement already satisfied: tzdata>=2022.1 in c:\\users\\meyer\\documents\\dom_detecter_code\\dom_detecter\\dom_detecter_env\\lib\\site-packages (from pandas) (2023.3)\n",
            "Requirement already satisfied: numpy>=1.22.4 in c:\\users\\meyer\\documents\\dom_detecter_code\\dom_detecter\\dom_detecter_env\\lib\\site-packages (from pandas) (1.24.3)\n",
            "Requirement already satisfied: python-dateutil>=2.8.2 in c:\\users\\meyer\\documents\\dom_detecter_code\\dom_detecter\\dom_detecter_env\\lib\\site-packages (from pandas) (2.8.2)\n",
            "Requirement already satisfied: et-xmlfile in c:\\users\\meyer\\documents\\dom_detecter_code\\dom_detecter\\dom_detecter_env\\lib\\site-packages (from openpyxl) (1.1.0)\n",
            "Requirement already satisfied: six>=1.5 in c:\\users\\meyer\\documents\\dom_detecter_code\\dom_detecter\\dom_detecter_env\\lib\\site-packages (from python-dateutil>=2.8.2->pandas) (1.16.0)\n",
            "Note: you may need to restart the kernel to use updated packages.\n"
          ]
        },
        {
          "name": "stderr",
          "output_type": "stream",
          "text": [
            "WARNING: You are using pip version 22.0.4; however, version 23.3.1 is available.\n",
            "You should consider upgrading via the 'c:\\Users\\Meyer\\Documents\\Dom_Detecter_Code\\Dom_Detecter\\dom_detecter_env\\Scripts\\python.exe -m pip install --upgrade pip' command.\n"
          ]
        }
      ],
      "source": [
        "%pip install pandas openpyxl"
      ]
    },
    {
      "cell_type": "code",
      "execution_count": 3,
      "metadata": {},
      "outputs": [],
      "source": [
        "directory = r'C:\\Users\\Meyer\\Documents\\Dom_Detecter\\UNSW_csv_27_28'\n",
        "all_files = [f for f in os.listdir(directory) if os.path.isfile(os.path.join(directory, f))]"
      ]
    },
    {
      "cell_type": "code",
      "execution_count": 4,
      "metadata": {},
      "outputs": [
        {
          "name": "stderr",
          "output_type": "stream",
          "text": [
            "C:\\Users\\Meyer\\AppData\\Local\\Temp\\ipykernel_26092\\2217386177.py:1: DtypeWarning: Columns (24,25) have mixed types. Specify dtype option on import or set low_memory=False.\n",
            "  list_of_dataframes = [pd.read_csv(os.path.join(directory, f)) for f in all_files]\n"
          ]
        }
      ],
      "source": [
        "list_of_dataframes = [pd.read_csv(os.path.join(directory, f)) for f in all_files]\n",
        "merged_dataframe = pd.concat(list_of_dataframes, ignore_index=True)"
      ]
    },
    {
      "cell_type": "code",
      "execution_count": 5,
      "metadata": {},
      "outputs": [],
      "source": [
        "# Read the mapping DataFrame from Excel\n",
        "mapping_df = pd.read_excel(r'C:\\Users\\Meyer\\Documents\\Dom_Detecter\\UNSW_csv_23-02\\mapping\\mapping.xlsx', engine='openpyxl')"
      ]
    },
    {
      "cell_type": "code",
      "execution_count": 6,
      "metadata": {},
      "outputs": [],
      "source": [
        "df_merged = merged_dataframe"
      ]
    },
    {
      "cell_type": "code",
      "execution_count": 7,
      "metadata": {},
      "outputs": [],
      "source": [
        "# Create a mapping dictionary\n",
        "mapping_dict = dict(zip(mapping_df.packet_eth_src, mapping_df.target))"
      ]
    },
    {
      "cell_type": "code",
      "execution_count": 8,
      "metadata": {},
      "outputs": [],
      "source": [
        "# Apply the mapping to the 'packet_eth_src' column in df_merged\n",
        "df_merged['target'] = df_merged['packet_eth_src'].map(mapping_dict)\n",
        "\n",
        "# Fill any NaN values with 'unknown'\n",
        "df_merged['target'] = df_merged['target'].fillna('unknown')"
      ]
    },
    {
      "cell_type": "code",
      "execution_count": 9,
      "metadata": {
        "colab": {
          "base_uri": "https://localhost:8080/",
          "height": 400
        },
        "id": "ZvbgvcDGdCh3",
        "outputId": "f8d7e3c6-4b6d-414a-c565-f2a42d8425b9"
      },
      "outputs": [
        {
          "data": {
            "text/html": [
              "<div>\n",
              "<style scoped>\n",
              "    .dataframe tbody tr th:only-of-type {\n",
              "        vertical-align: middle;\n",
              "    }\n",
              "\n",
              "    .dataframe tbody tr th {\n",
              "        vertical-align: top;\n",
              "    }\n",
              "\n",
              "    .dataframe thead th {\n",
              "        text-align: right;\n",
              "    }\n",
              "</style>\n",
              "<table border=\"1\" class=\"dataframe\">\n",
              "  <thead>\n",
              "    <tr style=\"text-align: right;\">\n",
              "      <th></th>\n",
              "      <th>idx</th>\n",
              "      <th>protocol</th>\n",
              "      <th>src_ip</th>\n",
              "      <th>src_port</th>\n",
              "      <th>dst_ip</th>\n",
              "      <th>dst_port</th>\n",
              "      <th>packet_length</th>\n",
              "      <th>tcp_flags</th>\n",
              "      <th>window_size</th>\n",
              "      <th>ttl</th>\n",
              "      <th>...</th>\n",
              "      <th>End_Time</th>\n",
              "      <th>Duration</th>\n",
              "      <th>Flow_Volume</th>\n",
              "      <th>Flow_Rate</th>\n",
              "      <th>Inter_Arrival_Time</th>\n",
              "      <th>Total_Fwd_Packets</th>\n",
              "      <th>Total_Bwd_Packets</th>\n",
              "      <th>Fwd_Packet_Length_Total</th>\n",
              "      <th>Bwd_Packet_Length_Total</th>\n",
              "      <th>target</th>\n",
              "    </tr>\n",
              "  </thead>\n",
              "  <tbody>\n",
              "    <tr>\n",
              "      <th>2546030</th>\n",
              "      <td>2018996</td>\n",
              "      <td>TCP</td>\n",
              "      <td>192.168.1.166</td>\n",
              "      <td>58387.0</td>\n",
              "      <td>195.154.50.167</td>\n",
              "      <td>1935.0</td>\n",
              "      <td>66.0</td>\n",
              "      <td>ack</td>\n",
              "      <td>11632.0</td>\n",
              "      <td>64.0</td>\n",
              "      <td>...</td>\n",
              "      <td>1.475071e+09</td>\n",
              "      <td>6999.330991</td>\n",
              "      <td>187002</td>\n",
              "      <td>26.717125</td>\n",
              "      <td>1.424092</td>\n",
              "      <td>1371</td>\n",
              "      <td>1369</td>\n",
              "      <td>93567</td>\n",
              "      <td>93435</td>\n",
              "      <td>unknown</td>\n",
              "    </tr>\n",
              "    <tr>\n",
              "      <th>2546031</th>\n",
              "      <td>2018997</td>\n",
              "      <td>TCP</td>\n",
              "      <td>195.154.50.167</td>\n",
              "      <td>1935.0</td>\n",
              "      <td>192.168.1.166</td>\n",
              "      <td>58387.0</td>\n",
              "      <td>66.0</td>\n",
              "      <td>ack</td>\n",
              "      <td>34816.0</td>\n",
              "      <td>47.0</td>\n",
              "      <td>...</td>\n",
              "      <td>1.475071e+09</td>\n",
              "      <td>6999.330991</td>\n",
              "      <td>187002</td>\n",
              "      <td>26.717125</td>\n",
              "      <td>0.293056</td>\n",
              "      <td>1371</td>\n",
              "      <td>1369</td>\n",
              "      <td>93567</td>\n",
              "      <td>93435</td>\n",
              "      <td>unknown</td>\n",
              "    </tr>\n",
              "    <tr>\n",
              "      <th>2546032</th>\n",
              "      <td>2018998</td>\n",
              "      <td>NaN</td>\n",
              "      <td>NaN</td>\n",
              "      <td>NaN</td>\n",
              "      <td>NaN</td>\n",
              "      <td>NaN</td>\n",
              "      <td>NaN</td>\n",
              "      <td>NaN</td>\n",
              "      <td>NaN</td>\n",
              "      <td>NaN</td>\n",
              "      <td>...</td>\n",
              "      <td>0.000000e+00</td>\n",
              "      <td>0.000000</td>\n",
              "      <td>0</td>\n",
              "      <td>0.000000</td>\n",
              "      <td>1.062628</td>\n",
              "      <td>0</td>\n",
              "      <td>0</td>\n",
              "      <td>0</td>\n",
              "      <td>0</td>\n",
              "      <td>unknown</td>\n",
              "    </tr>\n",
              "    <tr>\n",
              "      <th>2546033</th>\n",
              "      <td>2018999</td>\n",
              "      <td>NaN</td>\n",
              "      <td>NaN</td>\n",
              "      <td>NaN</td>\n",
              "      <td>NaN</td>\n",
              "      <td>NaN</td>\n",
              "      <td>NaN</td>\n",
              "      <td>NaN</td>\n",
              "      <td>NaN</td>\n",
              "      <td>NaN</td>\n",
              "      <td>...</td>\n",
              "      <td>0.000000e+00</td>\n",
              "      <td>0.000000</td>\n",
              "      <td>0</td>\n",
              "      <td>0.000000</td>\n",
              "      <td>0.001853</td>\n",
              "      <td>0</td>\n",
              "      <td>0</td>\n",
              "      <td>0</td>\n",
              "      <td>0</td>\n",
              "      <td>unknown</td>\n",
              "    </tr>\n",
              "    <tr>\n",
              "      <th>2546034</th>\n",
              "      <td>2019000</td>\n",
              "      <td>TCP</td>\n",
              "      <td>192.168.1.106</td>\n",
              "      <td>47940.0</td>\n",
              "      <td>52.87.241.159</td>\n",
              "      <td>443.0</td>\n",
              "      <td>156.0</td>\n",
              "      <td>ack</td>\n",
              "      <td>20392.0</td>\n",
              "      <td>64.0</td>\n",
              "      <td>...</td>\n",
              "      <td>1.475071e+09</td>\n",
              "      <td>7086.521486</td>\n",
              "      <td>1983849</td>\n",
              "      <td>279.946798</td>\n",
              "      <td>0.823423</td>\n",
              "      <td>6672</td>\n",
              "      <td>6572</td>\n",
              "      <td>1530795</td>\n",
              "      <td>453054</td>\n",
              "      <td>unknown</td>\n",
              "    </tr>\n",
              "  </tbody>\n",
              "</table>\n",
              "<p>5 rows × 42 columns</p>\n",
              "</div>"
            ],
            "text/plain": [
              "             idx protocol          src_ip  src_port          dst_ip  dst_port  \\\n",
              "2546030  2018996      TCP   192.168.1.166   58387.0  195.154.50.167    1935.0   \n",
              "2546031  2018997      TCP  195.154.50.167    1935.0   192.168.1.166   58387.0   \n",
              "2546032  2018998      NaN             NaN       NaN             NaN       NaN   \n",
              "2546033  2018999      NaN             NaN       NaN             NaN       NaN   \n",
              "2546034  2019000      TCP   192.168.1.106   47940.0   52.87.241.159     443.0   \n",
              "\n",
              "         packet_length tcp_flags  window_size   ttl  ...      End_Time  \\\n",
              "2546030           66.0       ack      11632.0  64.0  ...  1.475071e+09   \n",
              "2546031           66.0       ack      34816.0  47.0  ...  1.475071e+09   \n",
              "2546032            NaN       NaN          NaN   NaN  ...  0.000000e+00   \n",
              "2546033            NaN       NaN          NaN   NaN  ...  0.000000e+00   \n",
              "2546034          156.0       ack      20392.0  64.0  ...  1.475071e+09   \n",
              "\n",
              "            Duration Flow_Volume   Flow_Rate  Inter_Arrival_Time  \\\n",
              "2546030  6999.330991      187002   26.717125            1.424092   \n",
              "2546031  6999.330991      187002   26.717125            0.293056   \n",
              "2546032     0.000000           0    0.000000            1.062628   \n",
              "2546033     0.000000           0    0.000000            0.001853   \n",
              "2546034  7086.521486     1983849  279.946798            0.823423   \n",
              "\n",
              "         Total_Fwd_Packets  Total_Bwd_Packets Fwd_Packet_Length_Total  \\\n",
              "2546030               1371               1369                   93567   \n",
              "2546031               1371               1369                   93567   \n",
              "2546032                  0                  0                       0   \n",
              "2546033                  0                  0                       0   \n",
              "2546034               6672               6572                 1530795   \n",
              "\n",
              "         Bwd_Packet_Length_Total   target  \n",
              "2546030                    93435  unknown  \n",
              "2546031                    93435  unknown  \n",
              "2546032                        0  unknown  \n",
              "2546033                        0  unknown  \n",
              "2546034                   453054  unknown  \n",
              "\n",
              "[5 rows x 42 columns]"
            ]
          },
          "execution_count": 9,
          "metadata": {},
          "output_type": "execute_result"
        }
      ],
      "source": [
        "df_merged.tail()"
      ]
    },
    {
      "cell_type": "code",
      "execution_count": 10,
      "metadata": {
        "colab": {
          "base_uri": "https://localhost:8080/"
        },
        "id": "bZ3YXv4_hbwX",
        "outputId": "d05b3135-2148-4003-a7e3-b2e2dad5ec79"
      },
      "outputs": [
        {
          "name": "stdout",
          "output_type": "stream",
          "text": [
            "The DataFrame has 2546035 rows.\n"
          ]
        }
      ],
      "source": [
        "# Count the number of rows\n",
        "num_rows = df_merged.shape[0]\n",
        "\n",
        "# Print the number of rows\n",
        "print(f\"The DataFrame has {num_rows} rows.\")"
      ]
    },
    {
      "cell_type": "code",
      "execution_count": 11,
      "metadata": {
        "colab": {
          "base_uri": "https://localhost:8080/"
        },
        "id": "oXGHJKD4uBfg",
        "outputId": "9304e0e3-e970-485c-b25a-b8dac73146ea"
      },
      "outputs": [
        {
          "name": "stdout",
          "output_type": "stream",
          "text": [
            "Number of packets for each target:\n",
            "target\n",
            "unknown               2159243\n",
            "samsung_cam             86763\n",
            "amazon_echo             65372\n",
            "tp-link_cam             51581\n",
            "netatmo_cam             49392\n",
            "belkin_motion           42694\n",
            "smart_things            24487\n",
            "belkin_switch           20292\n",
            "withings_sleep          11237\n",
            "triby_speaker            8580\n",
            "netatmo_weather          7325\n",
            "pixstar_photoframe       7175\n",
            "hp_printer               4354\n",
            "lifx                     2975\n",
            "tp-link_plug             2270\n",
            "ihome_plug               1760\n",
            "withings_scale            286\n",
            "nest_smoke                195\n",
            "blipcare_bp_meter          54\n",
            "Name: count, dtype: int64\n"
          ]
        }
      ],
      "source": [
        "# Count the number of packets for each target and print it\n",
        "target_counts = df_merged['target'].value_counts()\n",
        "print(\"Number of packets for each target:\")\n",
        "print(target_counts)"
      ]
    },
    {
      "cell_type": "code",
      "execution_count": 12,
      "metadata": {
        "colab": {
          "base_uri": "https://localhost:8080/"
        },
        "id": "GMEEDwd2uG98",
        "outputId": "6f5e4813-e2b2-439a-ba08-dd3ad3987290"
      },
      "outputs": [
        {
          "name": "stdout",
          "output_type": "stream",
          "text": [
            "target\n",
            "amazon_echo            4377\n",
            "belkin_motion          2789\n",
            "belkin_switch          1189\n",
            "blipcare_bp_meter         4\n",
            "hp_printer               22\n",
            "ihome_plug               16\n",
            "lifx                    449\n",
            "nest_smoke               12\n",
            "netatmo_cam            1375\n",
            "netatmo_weather         250\n",
            "pixstar_photoframe     1756\n",
            "samsung_cam            6081\n",
            "smart_things            619\n",
            "tp-link_cam             423\n",
            "tp-link_plug            178\n",
            "triby_speaker            49\n",
            "unknown               97110\n",
            "withings_scale            4\n",
            "withings_sleep          322\n",
            "Name: Flow, dtype: int64\n"
          ]
        }
      ],
      "source": [
        "# Group by device identifier and count unique flows\n",
        "unique_flows_per_device = df_merged.groupby('target')['Flow'].nunique()\n",
        "\n",
        "# Display the counts\n",
        "print(unique_flows_per_device)"
      ]
    },
    {
      "cell_type": "code",
      "execution_count": 13,
      "metadata": {
        "colab": {
          "base_uri": "https://localhost:8080/"
        },
        "id": "G9hR0MYXjQ29",
        "outputId": "1a23c370-8266-4cdb-938d-80c7e62265ea"
      },
      "outputs": [
        {
          "name": "stdout",
          "output_type": "stream",
          "text": [
            "Total unique flows: 117025\n"
          ]
        }
      ],
      "source": [
        "# Sum up all the unique flows\n",
        "total_unique_flows = unique_flows_per_device.sum()\n",
        "\n",
        "# Display the total count of unique flows\n",
        "print(f\"Total unique flows: {total_unique_flows}\")"
      ]
    },
    {
      "cell_type": "code",
      "execution_count": 15,
      "metadata": {},
      "outputs": [],
      "source": [
        "df = df_merged"
      ]
    },
    {
      "cell_type": "code",
      "execution_count": 16,
      "metadata": {},
      "outputs": [],
      "source": [
        "# Step 1: Filter out targets with less than 10,000 packets\n",
        "targets_to_keep = df['target'].value_counts()\n",
        "targets_to_keep = targets_to_keep[targets_to_keep >= 5000].index.tolist()\n",
        "filtered_df = df[df['target'].isin(targets_to_keep)]"
      ]
    },
    {
      "cell_type": "code",
      "execution_count": 17,
      "metadata": {},
      "outputs": [],
      "source": [
        "# Step 2: Sample 10,000 packets for each target\n",
        "sampled_df = pd.DataFrame()\n",
        "for target in filtered_df['target'].unique():\n",
        "    sampled_df = pd.concat([sampled_df, filtered_df[filtered_df['target'] == target].sample(n=5000, random_state=1)])\n",
        "\n",
        "# Reset index of the new DataFrame\n",
        "sampled_df = sampled_df.reset_index(drop=True)"
      ]
    },
    {
      "cell_type": "code",
      "execution_count": 20,
      "metadata": {},
      "outputs": [
        {
          "name": "stdout",
          "output_type": "stream",
          "text": [
            "Number of packets for each target:\n",
            "target\n",
            "unknown               5000\n",
            "netatmo_cam           5000\n",
            "amazon_echo           5000\n",
            "smart_things          5000\n",
            "samsung_cam           5000\n",
            "tp-link_cam           5000\n",
            "belkin_switch         5000\n",
            "triby_speaker         5000\n",
            "belkin_motion         5000\n",
            "pixstar_photoframe    5000\n",
            "netatmo_weather       5000\n",
            "withings_sleep        5000\n",
            "Name: count, dtype: int64\n"
          ]
        }
      ],
      "source": [
        "# Count the number of packets for each target and print it\n",
        "target_counts = sampled_df['target'].value_counts()\n",
        "print(\"Number of packets for each target:\")\n",
        "print(target_counts)"
      ]
    },
    {
      "cell_type": "code",
      "execution_count": 23,
      "metadata": {},
      "outputs": [],
      "source": [
        "# List of targets you want to keep\n",
        "targets_to_keep = [\n",
        "    'unknown', 'netatmo_cam', 'amazon_echo', 'smart_things', \n",
        "    'samsung_cam', 'tp-link_cam', 'belkin_switch', 'triby_speaker', \n",
        "    'belkin_motion', 'pixstar_photoframe', 'netatmo_weather'\n",
        "]\n",
        "\n",
        "# Filter the DataFrame to keep only the specified targets\n",
        "filtered_df = sampled_df[sampled_df['target'].isin(targets_to_keep)]"
      ]
    },
    {
      "cell_type": "code",
      "execution_count": 24,
      "metadata": {},
      "outputs": [
        {
          "name": "stdout",
          "output_type": "stream",
          "text": [
            "Number of packets for each target:\n",
            "target\n",
            "unknown               5000\n",
            "netatmo_cam           5000\n",
            "amazon_echo           5000\n",
            "smart_things          5000\n",
            "samsung_cam           5000\n",
            "tp-link_cam           5000\n",
            "belkin_switch         5000\n",
            "triby_speaker         5000\n",
            "belkin_motion         5000\n",
            "pixstar_photoframe    5000\n",
            "netatmo_weather       5000\n",
            "Name: count, dtype: int64\n"
          ]
        }
      ],
      "source": [
        "# Count the number of packets for each target and print it\n",
        "target_counts = filtered_df['target'].value_counts()\n",
        "print(\"Number of packets for each target:\")\n",
        "print(target_counts)"
      ]
    },
    {
      "cell_type": "code",
      "execution_count": null,
      "metadata": {},
      "outputs": [],
      "source": [
        "df_train_test.to_excel('/gdrive/MyDrive/IomT/unsw_data/flow/def_flow_data/df_test_sampled_df_packet_23_28.xlsx', index=False)"
      ]
    },
    {
      "cell_type": "code",
      "execution_count": null,
      "metadata": {},
      "outputs": [],
      "source": [
        "df_holdout.to_excel('/gdrive/MyDrive/IomT/unsw_data/flow/def_flow_data/df_holdout_sampled_df_flow_23_28.xlsx', index=False)"
      ]
    }
  ],
  "metadata": {
    "colab": {
      "provenance": []
    },
    "kernelspec": {
      "display_name": "Python 3",
      "name": "python3"
    },
    "language_info": {
      "codemirror_mode": {
        "name": "ipython",
        "version": 3
      },
      "file_extension": ".py",
      "mimetype": "text/x-python",
      "name": "python",
      "nbconvert_exporter": "python",
      "pygments_lexer": "ipython3",
      "version": "3.9.13"
    }
  },
  "nbformat": 4,
  "nbformat_minor": 0
}
