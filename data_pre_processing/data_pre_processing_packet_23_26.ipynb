{
  "cells": [
    {
      "cell_type": "code",
      "execution_count": 1,
      "metadata": {
        "id": "0xxOmpVSP8OH"
      },
      "outputs": [],
      "source": [
        "import pandas as pd\n",
        "import numpy as np\n",
        "import os"
      ]
    },
    {
      "cell_type": "code",
      "execution_count": 2,
      "metadata": {
        "colab": {
          "base_uri": "https://localhost:8080/"
        },
        "id": "kBgURNqlQIYq",
        "outputId": "ada18f02-49e4-4b33-824f-1086305a492c"
      },
      "outputs": [
        {
          "name": "stdout",
          "output_type": "stream",
          "text": [
            "Note: you may need to restart the kernel to use updated packages.Requirement already satisfied: pandas in c:\\users\\meyer\\documents\\dom_detecter_code\\dom_detecter\\dom_detecter_env\\lib\\site-packages (2.1.0)\n",
            "Requirement already satisfied: openpyxl in c:\\users\\meyer\\documents\\dom_detecter_code\\dom_detecter\\dom_detecter_env\\lib\\site-packages (3.1.2)\n",
            "Requirement already satisfied: numpy>=1.22.4 in c:\\users\\meyer\\documents\\dom_detecter_code\\dom_detecter\\dom_detecter_env\\lib\\site-packages (from pandas) (1.24.3)\n",
            "Requirement already satisfied: tzdata>=2022.1 in c:\\users\\meyer\\documents\\dom_detecter_code\\dom_detecter\\dom_detecter_env\\lib\\site-packages (from pandas) (2023.3)\n",
            "Requirement already satisfied: pytz>=2020.1 in c:\\users\\meyer\\documents\\dom_detecter_code\\dom_detecter\\dom_detecter_env\\lib\\site-packages (from pandas) (2023.3.post1)\n",
            "Requirement already satisfied: python-dateutil>=2.8.2 in c:\\users\\meyer\\documents\\dom_detecter_code\\dom_detecter\\dom_detecter_env\\lib\\site-packages (from pandas) (2.8.2)\n",
            "Requirement already satisfied: et-xmlfile in c:\\users\\meyer\\documents\\dom_detecter_code\\dom_detecter\\dom_detecter_env\\lib\\site-packages (from openpyxl) (1.1.0)\n",
            "Requirement already satisfied: six>=1.5 in c:\\users\\meyer\\documents\\dom_detecter_code\\dom_detecter\\dom_detecter_env\\lib\\site-packages (from python-dateutil>=2.8.2->pandas) (1.16.0)\n",
            "\n"
          ]
        },
        {
          "name": "stderr",
          "output_type": "stream",
          "text": [
            "WARNING: You are using pip version 22.0.4; however, version 23.3.1 is available.\n",
            "You should consider upgrading via the 'c:\\Users\\Meyer\\Documents\\Dom_Detecter_Code\\Dom_Detecter\\dom_detecter_env\\Scripts\\python.exe -m pip install --upgrade pip' command.\n"
          ]
        }
      ],
      "source": [
        "%pip install pandas openpyxl"
      ]
    },
    {
      "cell_type": "code",
      "execution_count": 3,
      "metadata": {},
      "outputs": [],
      "source": [
        "directory = r'C:\\Users\\Meyer\\Documents\\Dom_Detecter\\UNSW_csv_23-26'\n",
        "all_files = [f for f in os.listdir(directory) if os.path.isfile(os.path.join(directory, f))]"
      ]
    },
    {
      "cell_type": "code",
      "execution_count": 4,
      "metadata": {},
      "outputs": [],
      "source": [
        "list_of_dataframes = [pd.read_csv(os.path.join(directory, f)) for f in all_files]\n",
        "merged_dataframe = pd.concat(list_of_dataframes, ignore_index=True)"
      ]
    },
    {
      "cell_type": "code",
      "execution_count": 8,
      "metadata": {},
      "outputs": [],
      "source": [
        "# Read the mapping DataFrame from Excel\n",
        "mapping_df = pd.read_excel(r'C:\\Users\\Meyer\\Documents\\Dom_Detecter\\UNSW_csv_23-02\\mapping\\mapping.xlsx', engine='openpyxl')"
      ]
    },
    {
      "cell_type": "code",
      "execution_count": 9,
      "metadata": {},
      "outputs": [],
      "source": [
        "df_merged = merged_dataframe"
      ]
    },
    {
      "cell_type": "code",
      "execution_count": 13,
      "metadata": {},
      "outputs": [],
      "source": [
        "# Create a mapping dictionary\n",
        "mapping_dict = dict(zip(mapping_df.packet_eth_src, mapping_df.target))"
      ]
    },
    {
      "cell_type": "code",
      "execution_count": 14,
      "metadata": {},
      "outputs": [],
      "source": [
        "# Apply the mapping to the 'packet_eth_src' column in df_merged\n",
        "df_merged['target'] = df_merged['packet_eth_src'].map(mapping_dict)\n",
        "\n",
        "# Fill any NaN values with 'unknown'\n",
        "df_merged['target'] = df_merged['target'].fillna('unknown')"
      ]
    },
    {
      "cell_type": "code",
      "execution_count": 15,
      "metadata": {
        "colab": {
          "base_uri": "https://localhost:8080/",
          "height": 400
        },
        "id": "ZvbgvcDGdCh3",
        "outputId": "f8d7e3c6-4b6d-414a-c565-f2a42d8425b9"
      },
      "outputs": [
        {
          "data": {
            "text/html": [
              "<div>\n",
              "<style scoped>\n",
              "    .dataframe tbody tr th:only-of-type {\n",
              "        vertical-align: middle;\n",
              "    }\n",
              "\n",
              "    .dataframe tbody tr th {\n",
              "        vertical-align: top;\n",
              "    }\n",
              "\n",
              "    .dataframe thead th {\n",
              "        text-align: right;\n",
              "    }\n",
              "</style>\n",
              "<table border=\"1\" class=\"dataframe\">\n",
              "  <thead>\n",
              "    <tr style=\"text-align: right;\">\n",
              "      <th></th>\n",
              "      <th>idx</th>\n",
              "      <th>protocol</th>\n",
              "      <th>src_ip</th>\n",
              "      <th>src_port</th>\n",
              "      <th>dst_ip</th>\n",
              "      <th>dst_port</th>\n",
              "      <th>packet_length</th>\n",
              "      <th>tcp_flags</th>\n",
              "      <th>window_size</th>\n",
              "      <th>ttl</th>\n",
              "      <th>...</th>\n",
              "      <th>End_Time</th>\n",
              "      <th>Duration</th>\n",
              "      <th>Flow_Volume</th>\n",
              "      <th>Flow_Rate</th>\n",
              "      <th>Inter_Arrival_Time</th>\n",
              "      <th>Total_Fwd_Packets</th>\n",
              "      <th>Total_Bwd_Packets</th>\n",
              "      <th>Fwd_Packet_Length_Total</th>\n",
              "      <th>Bwd_Packet_Length_Total</th>\n",
              "      <th>target</th>\n",
              "    </tr>\n",
              "  </thead>\n",
              "  <tbody>\n",
              "    <tr>\n",
              "      <th>2857800</th>\n",
              "      <td>573844</td>\n",
              "      <td>TCP</td>\n",
              "      <td>192.168.1.106</td>\n",
              "      <td>40767.0</td>\n",
              "      <td>52.87.241.159</td>\n",
              "      <td>443.0</td>\n",
              "      <td>66.0</td>\n",
              "      <td>ack</td>\n",
              "      <td>20392.0</td>\n",
              "      <td>64.0</td>\n",
              "      <td>...</td>\n",
              "      <td>1.474898e+09</td>\n",
              "      <td>7700.960897</td>\n",
              "      <td>2164149</td>\n",
              "      <td>281.023242</td>\n",
              "      <td>0.061734</td>\n",
              "      <td>7575</td>\n",
              "      <td>7477</td>\n",
              "      <td>1649959</td>\n",
              "      <td>514190</td>\n",
              "      <td>unknown</td>\n",
              "    </tr>\n",
              "    <tr>\n",
              "      <th>2857801</th>\n",
              "      <td>573845</td>\n",
              "      <td>TCP</td>\n",
              "      <td>192.168.1.106</td>\n",
              "      <td>40767.0</td>\n",
              "      <td>52.87.241.159</td>\n",
              "      <td>443.0</td>\n",
              "      <td>156.0</td>\n",
              "      <td>ack</td>\n",
              "      <td>20392.0</td>\n",
              "      <td>64.0</td>\n",
              "      <td>...</td>\n",
              "      <td>1.474898e+09</td>\n",
              "      <td>7700.960897</td>\n",
              "      <td>2164149</td>\n",
              "      <td>281.023242</td>\n",
              "      <td>0.296371</td>\n",
              "      <td>7575</td>\n",
              "      <td>7477</td>\n",
              "      <td>1649959</td>\n",
              "      <td>514190</td>\n",
              "      <td>unknown</td>\n",
              "    </tr>\n",
              "    <tr>\n",
              "      <th>2857802</th>\n",
              "      <td>573846</td>\n",
              "      <td>TCP</td>\n",
              "      <td>52.87.241.159</td>\n",
              "      <td>443.0</td>\n",
              "      <td>192.168.1.106</td>\n",
              "      <td>40767.0</td>\n",
              "      <td>66.0</td>\n",
              "      <td>ack</td>\n",
              "      <td>428032.0</td>\n",
              "      <td>224.0</td>\n",
              "      <td>...</td>\n",
              "      <td>1.474898e+09</td>\n",
              "      <td>7700.960897</td>\n",
              "      <td>2164149</td>\n",
              "      <td>281.023242</td>\n",
              "      <td>0.215401</td>\n",
              "      <td>7575</td>\n",
              "      <td>7477</td>\n",
              "      <td>1649959</td>\n",
              "      <td>514190</td>\n",
              "      <td>unknown</td>\n",
              "    </tr>\n",
              "    <tr>\n",
              "      <th>2857803</th>\n",
              "      <td>573847</td>\n",
              "      <td>TCP</td>\n",
              "      <td>192.168.1.106</td>\n",
              "      <td>40767.0</td>\n",
              "      <td>52.87.241.159</td>\n",
              "      <td>443.0</td>\n",
              "      <td>156.0</td>\n",
              "      <td>ack</td>\n",
              "      <td>20392.0</td>\n",
              "      <td>64.0</td>\n",
              "      <td>...</td>\n",
              "      <td>1.474898e+09</td>\n",
              "      <td>7700.960897</td>\n",
              "      <td>2164149</td>\n",
              "      <td>281.023242</td>\n",
              "      <td>0.800442</td>\n",
              "      <td>7575</td>\n",
              "      <td>7477</td>\n",
              "      <td>1649959</td>\n",
              "      <td>514190</td>\n",
              "      <td>unknown</td>\n",
              "    </tr>\n",
              "    <tr>\n",
              "      <th>2857804</th>\n",
              "      <td>573848</td>\n",
              "      <td>TCP</td>\n",
              "      <td>52.87.241.159</td>\n",
              "      <td>443.0</td>\n",
              "      <td>192.168.1.106</td>\n",
              "      <td>40767.0</td>\n",
              "      <td>66.0</td>\n",
              "      <td>ack</td>\n",
              "      <td>428032.0</td>\n",
              "      <td>224.0</td>\n",
              "      <td>...</td>\n",
              "      <td>1.474898e+09</td>\n",
              "      <td>7700.960897</td>\n",
              "      <td>2164149</td>\n",
              "      <td>281.023242</td>\n",
              "      <td>0.216231</td>\n",
              "      <td>7575</td>\n",
              "      <td>7477</td>\n",
              "      <td>1649959</td>\n",
              "      <td>514190</td>\n",
              "      <td>unknown</td>\n",
              "    </tr>\n",
              "  </tbody>\n",
              "</table>\n",
              "<p>5 rows × 42 columns</p>\n",
              "</div>"
            ],
            "text/plain": [
              "            idx protocol         src_ip  src_port         dst_ip  dst_port  \\\n",
              "2857800  573844      TCP  192.168.1.106   40767.0  52.87.241.159     443.0   \n",
              "2857801  573845      TCP  192.168.1.106   40767.0  52.87.241.159     443.0   \n",
              "2857802  573846      TCP  52.87.241.159     443.0  192.168.1.106   40767.0   \n",
              "2857803  573847      TCP  192.168.1.106   40767.0  52.87.241.159     443.0   \n",
              "2857804  573848      TCP  52.87.241.159     443.0  192.168.1.106   40767.0   \n",
              "\n",
              "         packet_length tcp_flags  window_size    ttl  ...      End_Time  \\\n",
              "2857800           66.0       ack      20392.0   64.0  ...  1.474898e+09   \n",
              "2857801          156.0       ack      20392.0   64.0  ...  1.474898e+09   \n",
              "2857802           66.0       ack     428032.0  224.0  ...  1.474898e+09   \n",
              "2857803          156.0       ack      20392.0   64.0  ...  1.474898e+09   \n",
              "2857804           66.0       ack     428032.0  224.0  ...  1.474898e+09   \n",
              "\n",
              "            Duration Flow_Volume   Flow_Rate  Inter_Arrival_Time  \\\n",
              "2857800  7700.960897     2164149  281.023242            0.061734   \n",
              "2857801  7700.960897     2164149  281.023242            0.296371   \n",
              "2857802  7700.960897     2164149  281.023242            0.215401   \n",
              "2857803  7700.960897     2164149  281.023242            0.800442   \n",
              "2857804  7700.960897     2164149  281.023242            0.216231   \n",
              "\n",
              "         Total_Fwd_Packets  Total_Bwd_Packets Fwd_Packet_Length_Total  \\\n",
              "2857800               7575               7477                 1649959   \n",
              "2857801               7575               7477                 1649959   \n",
              "2857802               7575               7477                 1649959   \n",
              "2857803               7575               7477                 1649959   \n",
              "2857804               7575               7477                 1649959   \n",
              "\n",
              "         Bwd_Packet_Length_Total   target  \n",
              "2857800                   514190  unknown  \n",
              "2857801                   514190  unknown  \n",
              "2857802                   514190  unknown  \n",
              "2857803                   514190  unknown  \n",
              "2857804                   514190  unknown  \n",
              "\n",
              "[5 rows x 42 columns]"
            ]
          },
          "execution_count": 15,
          "metadata": {},
          "output_type": "execute_result"
        }
      ],
      "source": [
        "df_merged.tail()"
      ]
    },
    {
      "cell_type": "code",
      "execution_count": 16,
      "metadata": {
        "colab": {
          "base_uri": "https://localhost:8080/"
        },
        "id": "bZ3YXv4_hbwX",
        "outputId": "d05b3135-2148-4003-a7e3-b2e2dad5ec79"
      },
      "outputs": [
        {
          "name": "stdout",
          "output_type": "stream",
          "text": [
            "The DataFrame has 2857805 rows.\n"
          ]
        }
      ],
      "source": [
        "# Count the number of rows\n",
        "num_rows = df_merged.shape[0]\n",
        "\n",
        "# Print the number of rows\n",
        "print(f\"The DataFrame has {num_rows} rows.\")"
      ]
    },
    {
      "cell_type": "code",
      "execution_count": 17,
      "metadata": {
        "colab": {
          "base_uri": "https://localhost:8080/"
        },
        "id": "oXGHJKD4uBfg",
        "outputId": "9304e0e3-e970-485c-b25a-b8dac73146ea"
      },
      "outputs": [
        {
          "name": "stdout",
          "output_type": "stream",
          "text": [
            "Number of packets for each target:\n",
            "target\n",
            "unknown               2065416\n",
            "amazon_echo            193340\n",
            "samsung_cam            156424\n",
            "belkin_motion          147695\n",
            "belkin_switch          123192\n",
            "smart_things            48536\n",
            "netatmo_cam             45732\n",
            "tp-link_cam             22305\n",
            "netatmo_weather         14307\n",
            "triby_speaker           13722\n",
            "pixstar_photoframe      11795\n",
            "hp_printer               9741\n",
            "tp-link_plug             4574\n",
            "withings_scale            564\n",
            "nest_smoke                435\n",
            "blipcare_bp_meter          27\n",
            "Name: count, dtype: int64\n"
          ]
        }
      ],
      "source": [
        "# Count the number of packets for each target and print it\n",
        "target_counts = df_merged['target'].value_counts()\n",
        "print(\"Number of packets for each target:\")\n",
        "print(target_counts)"
      ]
    },
    {
      "cell_type": "code",
      "execution_count": 18,
      "metadata": {
        "colab": {
          "base_uri": "https://localhost:8080/"
        },
        "id": "GMEEDwd2uG98",
        "outputId": "6f5e4813-e2b2-439a-ba08-dd3ad3987290"
      },
      "outputs": [
        {
          "name": "stdout",
          "output_type": "stream",
          "text": [
            "target\n",
            "amazon_echo            9482\n",
            "belkin_motion          5035\n",
            "belkin_switch          3956\n",
            "blipcare_bp_meter         3\n",
            "hp_printer               98\n",
            "nest_smoke               22\n",
            "netatmo_cam            1519\n",
            "netatmo_weather         491\n",
            "pixstar_photoframe     2950\n",
            "samsung_cam            6788\n",
            "smart_things           1403\n",
            "tp-link_cam             827\n",
            "tp-link_plug            376\n",
            "triby_speaker            75\n",
            "unknown               29452\n",
            "withings_scale            4\n",
            "Name: Flow, dtype: int64\n"
          ]
        }
      ],
      "source": [
        "# Group by device identifier and count unique flows\n",
        "unique_flows_per_device = df_merged.groupby('target')['Flow'].nunique()\n",
        "\n",
        "# Display the counts\n",
        "print(unique_flows_per_device)"
      ]
    },
    {
      "cell_type": "code",
      "execution_count": 19,
      "metadata": {
        "colab": {
          "base_uri": "https://localhost:8080/"
        },
        "id": "G9hR0MYXjQ29",
        "outputId": "1a23c370-8266-4cdb-938d-80c7e62265ea"
      },
      "outputs": [
        {
          "name": "stdout",
          "output_type": "stream",
          "text": [
            "Total unique flows: 62481\n"
          ]
        }
      ],
      "source": [
        "# Sum up all the unique flows\n",
        "total_unique_flows = unique_flows_per_device.sum()\n",
        "\n",
        "# Display the total count of unique flows\n",
        "print(f\"Total unique flows: {total_unique_flows}\")"
      ]
    },
    {
      "cell_type": "code",
      "execution_count": null,
      "metadata": {},
      "outputs": [],
      "source": [
        "# Step 1: Filter out targets with less than 10,000 packets\n",
        "targets_to_keep = df['target'].value_counts()\n",
        "targets_to_keep = targets_to_keep[targets_to_keep >= 10000].index.tolist()\n",
        "filtered_df = df[df['target'].isin(targets_to_keep)]"
      ]
    },
    {
      "cell_type": "code",
      "execution_count": null,
      "metadata": {},
      "outputs": [],
      "source": [
        "# Step 2: Sample 10,000 packets for each target\n",
        "sampled_df = pd.DataFrame()\n",
        "for target in filtered_df['target'].unique():\n",
        "    sampled_df = pd.concat([sampled_df, filtered_df[filtered_df['target'] == target].sample(n=10000, random_state=1)])\n",
        "\n",
        "# Reset index of the new DataFrame\n",
        "sampled_df = sampled_df.reset_index(drop=True)"
      ]
    },
    {
      "cell_type": "code",
      "execution_count": null,
      "metadata": {},
      "outputs": [],
      "source": [
        "# Create empty DataFrames for the splits\n",
        "df_9000 = pd.DataFrame()\n",
        "df_1000 = pd.DataFrame()\n",
        "\n",
        "# Stratify and split the DataFrame for each target\n",
        "for target in sampled_df['target'].unique():\n",
        "    target_df = sampled_df[sampled_df['target'] == target]\n",
        "    \n",
        "    # Sample 9000 packets for the first DataFrame\n",
        "    df_train_test_split = target_df.sample(n=9000, random_state=1)\n",
        "    df_train_test = pd.concat([df_9000, df_9000_split])\n",
        "    \n",
        "    # Drop the sampled packets and sample 1000 packets for the second DataFrame\n",
        "    remaining_df = target_df.drop(df_9000_split.index)\n",
        "    df_holdout_split = remaining_df.sample(n=1000, random_state=1)\n",
        "    df_holdout = pd.concat([df_1000, df_1000_split])\n",
        "\n",
        "# Reset the index for both DataFrames\n",
        "df_train_test = df_9000.reset_index(drop=True)\n",
        "df_holdout = df_1000.reset_index(drop=True)"
      ]
    },
    {
      "cell_type": "code",
      "execution_count": null,
      "metadata": {},
      "outputs": [],
      "source": [
        "df_train_test.to_excel('/gdrive/MyDrive/IomT/unsw_data/flow/def_flow_data/df_test_sampled_df_packet_23_28.xlsx', index=False)"
      ]
    },
    {
      "cell_type": "code",
      "execution_count": null,
      "metadata": {},
      "outputs": [],
      "source": [
        "df_holdout.to_excel('/gdrive/MyDrive/IomT/unsw_data/flow/def_flow_data/df_holdout_sampled_df_flow_23_28.xlsx', index=False)"
      ]
    }
  ],
  "metadata": {
    "colab": {
      "provenance": []
    },
    "kernelspec": {
      "display_name": "Python 3",
      "name": "python3"
    },
    "language_info": {
      "codemirror_mode": {
        "name": "ipython",
        "version": 3
      },
      "file_extension": ".py",
      "mimetype": "text/x-python",
      "name": "python",
      "nbconvert_exporter": "python",
      "pygments_lexer": "ipython3",
      "version": "3.9.13"
    }
  },
  "nbformat": 4,
  "nbformat_minor": 0
}
