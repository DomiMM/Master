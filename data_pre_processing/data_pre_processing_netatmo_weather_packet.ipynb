{
  "cells": [
    {
      "cell_type": "code",
      "execution_count": 2,
      "metadata": {
        "id": "0xxOmpVSP8OH"
      },
      "outputs": [],
      "source": [
        "import pandas as pd\n",
        "import numpy as np\n",
        "import os"
      ]
    },
    {
      "cell_type": "code",
      "execution_count": 3,
      "metadata": {
        "colab": {
          "base_uri": "https://localhost:8080/"
        },
        "id": "kBgURNqlQIYq",
        "outputId": "ab49f060-9d7b-4db4-e827-99afe3431f6e"
      },
      "outputs": [
        {
          "name": "stdout",
          "output_type": "stream",
          "text": [
            "Requirement already satisfied: pandas in /usr/local/lib/python3.10/dist-packages (1.5.3)\n",
            "Requirement already satisfied: openpyxl in /usr/local/lib/python3.10/dist-packages (3.1.2)\n",
            "Requirement already satisfied: python-dateutil>=2.8.1 in /usr/local/lib/python3.10/dist-packages (from pandas) (2.8.2)\n",
            "Requirement already satisfied: pytz>=2020.1 in /usr/local/lib/python3.10/dist-packages (from pandas) (2023.3.post1)\n",
            "Requirement already satisfied: numpy>=1.21.0 in /usr/local/lib/python3.10/dist-packages (from pandas) (1.23.5)\n",
            "Requirement already satisfied: et-xmlfile in /usr/local/lib/python3.10/dist-packages (from openpyxl) (1.1.0)\n",
            "Requirement already satisfied: six>=1.5 in /usr/local/lib/python3.10/dist-packages (from python-dateutil>=2.8.1->pandas) (1.16.0)\n"
          ]
        }
      ],
      "source": [
        "%pip install pandas openpyxl"
      ]
    },
    {
      "cell_type": "code",
      "execution_count": 5,
      "metadata": {
        "id": "iiir7iZt1Kk0"
      },
      "outputs": [],
      "source": [
        "directory = '/gdrive/MyDrive/IomT/unsw_data/unsw_raw_data'  # Replace with your directory path\n",
        "all_files = [f for f in os.listdir(directory) if os.path.isfile(os.path.join(directory, f))]"
      ]
    },
    {
      "cell_type": "code",
      "execution_count": 6,
      "metadata": {
        "colab": {
          "base_uri": "https://localhost:8080/"
        },
        "id": "A7WW7TQh1hSG",
        "outputId": "39b13ad9-1997-422c-c4d4-1556befa6c9e"
      },
      "outputs": [
        {
          "name": "stderr",
          "output_type": "stream",
          "text": [
            "<ipython-input-6-d7b0382a8dad>:1: DtypeWarning: Columns (24,25) have mixed types. Specify dtype option on import or set low_memory=False.\n",
            "  list_of_dataframes = [pd.read_csv(os.path.join(directory, f)) for f in all_files]\n"
          ]
        }
      ],
      "source": [
        "list_of_dataframes = [pd.read_csv(os.path.join(directory, f)) for f in all_files]\n",
        "merged_dataframe = pd.concat(list_of_dataframes, ignore_index=True)"
      ]
    },
    {
      "cell_type": "code",
      "execution_count": null,
      "metadata": {
        "id": "EyEeMGfaMlGD"
      },
      "outputs": [],
      "source": [
        "# Set Pandas to display all columns and rows\n",
        "pd.set_option('display.max_columns', None)\n",
        "#pd.set_option('display.max_rows', None)"
      ]
    },
    {
      "cell_type": "code",
      "execution_count": 7,
      "metadata": {
        "id": "uGwiBFwl14eM"
      },
      "outputs": [],
      "source": [
        "df_merged = merged_dataframe"
      ]
    },
    {
      "cell_type": "code",
      "execution_count": 8,
      "metadata": {
        "colab": {
          "base_uri": "https://localhost:8080/",
          "height": 255
        },
        "id": "ZvbgvcDGdCh3",
        "outputId": "eef2d99a-5662-4f28-dcd0-634a48d362cb"
      },
      "outputs": [
        {
          "data": {
            "text/html": [
              "\n",
              "  <div id=\"df-1dfb62df-171c-44f0-8cb1-57c3fc917fdf\" class=\"colab-df-container\">\n",
              "    <div>\n",
              "<style scoped>\n",
              "    .dataframe tbody tr th:only-of-type {\n",
              "        vertical-align: middle;\n",
              "    }\n",
              "\n",
              "    .dataframe tbody tr th {\n",
              "        vertical-align: top;\n",
              "    }\n",
              "\n",
              "    .dataframe thead th {\n",
              "        text-align: right;\n",
              "    }\n",
              "</style>\n",
              "<table border=\"1\" class=\"dataframe\">\n",
              "  <thead>\n",
              "    <tr style=\"text-align: right;\">\n",
              "      <th></th>\n",
              "      <th>idx</th>\n",
              "      <th>protocol</th>\n",
              "      <th>src_ip</th>\n",
              "      <th>src_port</th>\n",
              "      <th>dst_ip</th>\n",
              "      <th>dst_port</th>\n",
              "      <th>packet_length</th>\n",
              "      <th>tcp_flags</th>\n",
              "      <th>window_size</th>\n",
              "      <th>ttl</th>\n",
              "      <th>...</th>\n",
              "      <th>Start_Time</th>\n",
              "      <th>End_Time</th>\n",
              "      <th>Duration</th>\n",
              "      <th>Flow_Volume</th>\n",
              "      <th>Flow_Rate</th>\n",
              "      <th>Inter_Arrival_Time</th>\n",
              "      <th>Total_Fwd_Packets</th>\n",
              "      <th>Total_Bwd_Packets</th>\n",
              "      <th>Fwd_Packet_Length_Total</th>\n",
              "      <th>Bwd_Packet_Length_Total</th>\n",
              "    </tr>\n",
              "  </thead>\n",
              "  <tbody>\n",
              "    <tr>\n",
              "      <th>8288305</th>\n",
              "      <td>607198</td>\n",
              "      <td>TCP</td>\n",
              "      <td>192.168.1.106</td>\n",
              "      <td>47940.0</td>\n",
              "      <td>52.87.241.159</td>\n",
              "      <td>443.0</td>\n",
              "      <td>156.0</td>\n",
              "      <td>ack</td>\n",
              "      <td>2549.0</td>\n",
              "      <td>64.0</td>\n",
              "      <td>...</td>\n",
              "      <td>1.475330e+09</td>\n",
              "      <td>1.475413e+09</td>\n",
              "      <td>82797.735474</td>\n",
              "      <td>17729288</td>\n",
              "      <td>214.127692</td>\n",
              "      <td>0.815169</td>\n",
              "      <td>78173</td>\n",
              "      <td>78116</td>\n",
              "      <td>12386218</td>\n",
              "      <td>5343070</td>\n",
              "    </tr>\n",
              "    <tr>\n",
              "      <th>8288306</th>\n",
              "      <td>607199</td>\n",
              "      <td>TCP</td>\n",
              "      <td>52.1.40.122</td>\n",
              "      <td>443.0</td>\n",
              "      <td>192.168.1.196</td>\n",
              "      <td>2179.0</td>\n",
              "      <td>54.0</td>\n",
              "      <td>ack</td>\n",
              "      <td>21976.0</td>\n",
              "      <td>32.0</td>\n",
              "      <td>...</td>\n",
              "      <td>1.475330e+09</td>\n",
              "      <td>1.475413e+09</td>\n",
              "      <td>82790.982727</td>\n",
              "      <td>1524540</td>\n",
              "      <td>18.414324</td>\n",
              "      <td>0.215737</td>\n",
              "      <td>11053</td>\n",
              "      <td>10783</td>\n",
              "      <td>799290</td>\n",
              "      <td>725250</td>\n",
              "    </tr>\n",
              "    <tr>\n",
              "      <th>8288307</th>\n",
              "      <td>607200</td>\n",
              "      <td>TCP</td>\n",
              "      <td>52.87.241.159</td>\n",
              "      <td>443.0</td>\n",
              "      <td>192.168.1.106</td>\n",
              "      <td>47940.0</td>\n",
              "      <td>66.0</td>\n",
              "      <td>ack</td>\n",
              "      <td>836.0</td>\n",
              "      <td>224.0</td>\n",
              "      <td>...</td>\n",
              "      <td>1.475330e+09</td>\n",
              "      <td>1.475413e+09</td>\n",
              "      <td>82797.735474</td>\n",
              "      <td>17729288</td>\n",
              "      <td>214.127692</td>\n",
              "      <td>0.215153</td>\n",
              "      <td>78173</td>\n",
              "      <td>78116</td>\n",
              "      <td>12386218</td>\n",
              "      <td>5343070</td>\n",
              "    </tr>\n",
              "    <tr>\n",
              "      <th>8288308</th>\n",
              "      <td>607201</td>\n",
              "      <td>NaN</td>\n",
              "      <td>fe80::16cc:20ff:fe51:33ea</td>\n",
              "      <td>NaN</td>\n",
              "      <td>ff02::2</td>\n",
              "      <td>NaN</td>\n",
              "      <td>NaN</td>\n",
              "      <td>NaN</td>\n",
              "      <td>NaN</td>\n",
              "      <td>1.0</td>\n",
              "      <td>...</td>\n",
              "      <td>0.000000e+00</td>\n",
              "      <td>0.000000e+00</td>\n",
              "      <td>0.000000</td>\n",
              "      <td>0</td>\n",
              "      <td>0.000000</td>\n",
              "      <td>0.600021</td>\n",
              "      <td>0</td>\n",
              "      <td>0</td>\n",
              "      <td>0</td>\n",
              "      <td>0</td>\n",
              "    </tr>\n",
              "    <tr>\n",
              "      <th>8288309</th>\n",
              "      <td>607202</td>\n",
              "      <td>TCP</td>\n",
              "      <td>192.168.1.106</td>\n",
              "      <td>47940.0</td>\n",
              "      <td>52.87.241.159</td>\n",
              "      <td>443.0</td>\n",
              "      <td>156.0</td>\n",
              "      <td>ack</td>\n",
              "      <td>2549.0</td>\n",
              "      <td>64.0</td>\n",
              "      <td>...</td>\n",
              "      <td>1.475330e+09</td>\n",
              "      <td>1.475413e+09</td>\n",
              "      <td>82797.735474</td>\n",
              "      <td>17729288</td>\n",
              "      <td>214.127692</td>\n",
              "      <td>0.823887</td>\n",
              "      <td>78173</td>\n",
              "      <td>78116</td>\n",
              "      <td>12386218</td>\n",
              "      <td>5343070</td>\n",
              "    </tr>\n",
              "  </tbody>\n",
              "</table>\n",
              "<p>5 rows × 41 columns</p>\n",
              "</div>\n",
              "    <div class=\"colab-df-buttons\">\n",
              "\n",
              "  <div class=\"colab-df-container\">\n",
              "    <button class=\"colab-df-convert\" onclick=\"convertToInteractive('df-1dfb62df-171c-44f0-8cb1-57c3fc917fdf')\"\n",
              "            title=\"Convert this dataframe to an interactive table.\"\n",
              "            style=\"display:none;\">\n",
              "\n",
              "  <svg xmlns=\"http://www.w3.org/2000/svg\" height=\"24px\" viewBox=\"0 -960 960 960\">\n",
              "    <path d=\"M120-120v-720h720v720H120Zm60-500h600v-160H180v160Zm220 220h160v-160H400v160Zm0 220h160v-160H400v160ZM180-400h160v-160H180v160Zm440 0h160v-160H620v160ZM180-180h160v-160H180v160Zm440 0h160v-160H620v160Z\"/>\n",
              "  </svg>\n",
              "    </button>\n",
              "\n",
              "  <style>\n",
              "    .colab-df-container {\n",
              "      display:flex;\n",
              "      gap: 12px;\n",
              "    }\n",
              "\n",
              "    .colab-df-convert {\n",
              "      background-color: #E8F0FE;\n",
              "      border: none;\n",
              "      border-radius: 50%;\n",
              "      cursor: pointer;\n",
              "      display: none;\n",
              "      fill: #1967D2;\n",
              "      height: 32px;\n",
              "      padding: 0 0 0 0;\n",
              "      width: 32px;\n",
              "    }\n",
              "\n",
              "    .colab-df-convert:hover {\n",
              "      background-color: #E2EBFA;\n",
              "      box-shadow: 0px 1px 2px rgba(60, 64, 67, 0.3), 0px 1px 3px 1px rgba(60, 64, 67, 0.15);\n",
              "      fill: #174EA6;\n",
              "    }\n",
              "\n",
              "    .colab-df-buttons div {\n",
              "      margin-bottom: 4px;\n",
              "    }\n",
              "\n",
              "    [theme=dark] .colab-df-convert {\n",
              "      background-color: #3B4455;\n",
              "      fill: #D2E3FC;\n",
              "    }\n",
              "\n",
              "    [theme=dark] .colab-df-convert:hover {\n",
              "      background-color: #434B5C;\n",
              "      box-shadow: 0px 1px 3px 1px rgba(0, 0, 0, 0.15);\n",
              "      filter: drop-shadow(0px 1px 2px rgba(0, 0, 0, 0.3));\n",
              "      fill: #FFFFFF;\n",
              "    }\n",
              "  </style>\n",
              "\n",
              "    <script>\n",
              "      const buttonEl =\n",
              "        document.querySelector('#df-1dfb62df-171c-44f0-8cb1-57c3fc917fdf button.colab-df-convert');\n",
              "      buttonEl.style.display =\n",
              "        google.colab.kernel.accessAllowed ? 'block' : 'none';\n",
              "\n",
              "      async function convertToInteractive(key) {\n",
              "        const element = document.querySelector('#df-1dfb62df-171c-44f0-8cb1-57c3fc917fdf');\n",
              "        const dataTable =\n",
              "          await google.colab.kernel.invokeFunction('convertToInteractive',\n",
              "                                                    [key], {});\n",
              "        if (!dataTable) return;\n",
              "\n",
              "        const docLinkHtml = 'Like what you see? Visit the ' +\n",
              "          '<a target=\"_blank\" href=https://colab.research.google.com/notebooks/data_table.ipynb>data table notebook</a>'\n",
              "          + ' to learn more about interactive tables.';\n",
              "        element.innerHTML = '';\n",
              "        dataTable['output_type'] = 'display_data';\n",
              "        await google.colab.output.renderOutput(dataTable, element);\n",
              "        const docLink = document.createElement('div');\n",
              "        docLink.innerHTML = docLinkHtml;\n",
              "        element.appendChild(docLink);\n",
              "      }\n",
              "    </script>\n",
              "  </div>\n",
              "\n",
              "\n",
              "<div id=\"df-aa457111-1de4-454f-be11-c1f1f7d2ac5e\">\n",
              "  <button class=\"colab-df-quickchart\" onclick=\"quickchart('df-aa457111-1de4-454f-be11-c1f1f7d2ac5e')\"\n",
              "            title=\"Suggest charts.\"\n",
              "            style=\"display:none;\">\n",
              "\n",
              "<svg xmlns=\"http://www.w3.org/2000/svg\" height=\"24px\"viewBox=\"0 0 24 24\"\n",
              "     width=\"24px\">\n",
              "    <g>\n",
              "        <path d=\"M19 3H5c-1.1 0-2 .9-2 2v14c0 1.1.9 2 2 2h14c1.1 0 2-.9 2-2V5c0-1.1-.9-2-2-2zM9 17H7v-7h2v7zm4 0h-2V7h2v10zm4 0h-2v-4h2v4z\"/>\n",
              "    </g>\n",
              "</svg>\n",
              "  </button>\n",
              "\n",
              "<style>\n",
              "  .colab-df-quickchart {\n",
              "      --bg-color: #E8F0FE;\n",
              "      --fill-color: #1967D2;\n",
              "      --hover-bg-color: #E2EBFA;\n",
              "      --hover-fill-color: #174EA6;\n",
              "      --disabled-fill-color: #AAA;\n",
              "      --disabled-bg-color: #DDD;\n",
              "  }\n",
              "\n",
              "  [theme=dark] .colab-df-quickchart {\n",
              "      --bg-color: #3B4455;\n",
              "      --fill-color: #D2E3FC;\n",
              "      --hover-bg-color: #434B5C;\n",
              "      --hover-fill-color: #FFFFFF;\n",
              "      --disabled-bg-color: #3B4455;\n",
              "      --disabled-fill-color: #666;\n",
              "  }\n",
              "\n",
              "  .colab-df-quickchart {\n",
              "    background-color: var(--bg-color);\n",
              "    border: none;\n",
              "    border-radius: 50%;\n",
              "    cursor: pointer;\n",
              "    display: none;\n",
              "    fill: var(--fill-color);\n",
              "    height: 32px;\n",
              "    padding: 0;\n",
              "    width: 32px;\n",
              "  }\n",
              "\n",
              "  .colab-df-quickchart:hover {\n",
              "    background-color: var(--hover-bg-color);\n",
              "    box-shadow: 0 1px 2px rgba(60, 64, 67, 0.3), 0 1px 3px 1px rgba(60, 64, 67, 0.15);\n",
              "    fill: var(--button-hover-fill-color);\n",
              "  }\n",
              "\n",
              "  .colab-df-quickchart-complete:disabled,\n",
              "  .colab-df-quickchart-complete:disabled:hover {\n",
              "    background-color: var(--disabled-bg-color);\n",
              "    fill: var(--disabled-fill-color);\n",
              "    box-shadow: none;\n",
              "  }\n",
              "\n",
              "  .colab-df-spinner {\n",
              "    border: 2px solid var(--fill-color);\n",
              "    border-color: transparent;\n",
              "    border-bottom-color: var(--fill-color);\n",
              "    animation:\n",
              "      spin 1s steps(1) infinite;\n",
              "  }\n",
              "\n",
              "  @keyframes spin {\n",
              "    0% {\n",
              "      border-color: transparent;\n",
              "      border-bottom-color: var(--fill-color);\n",
              "      border-left-color: var(--fill-color);\n",
              "    }\n",
              "    20% {\n",
              "      border-color: transparent;\n",
              "      border-left-color: var(--fill-color);\n",
              "      border-top-color: var(--fill-color);\n",
              "    }\n",
              "    30% {\n",
              "      border-color: transparent;\n",
              "      border-left-color: var(--fill-color);\n",
              "      border-top-color: var(--fill-color);\n",
              "      border-right-color: var(--fill-color);\n",
              "    }\n",
              "    40% {\n",
              "      border-color: transparent;\n",
              "      border-right-color: var(--fill-color);\n",
              "      border-top-color: var(--fill-color);\n",
              "    }\n",
              "    60% {\n",
              "      border-color: transparent;\n",
              "      border-right-color: var(--fill-color);\n",
              "    }\n",
              "    80% {\n",
              "      border-color: transparent;\n",
              "      border-right-color: var(--fill-color);\n",
              "      border-bottom-color: var(--fill-color);\n",
              "    }\n",
              "    90% {\n",
              "      border-color: transparent;\n",
              "      border-bottom-color: var(--fill-color);\n",
              "    }\n",
              "  }\n",
              "</style>\n",
              "\n",
              "  <script>\n",
              "    async function quickchart(key) {\n",
              "      const quickchartButtonEl =\n",
              "        document.querySelector('#' + key + ' button');\n",
              "      quickchartButtonEl.disabled = true;  // To prevent multiple clicks.\n",
              "      quickchartButtonEl.classList.add('colab-df-spinner');\n",
              "      try {\n",
              "        const charts = await google.colab.kernel.invokeFunction(\n",
              "            'suggestCharts', [key], {});\n",
              "      } catch (error) {\n",
              "        console.error('Error during call to suggestCharts:', error);\n",
              "      }\n",
              "      quickchartButtonEl.classList.remove('colab-df-spinner');\n",
              "      quickchartButtonEl.classList.add('colab-df-quickchart-complete');\n",
              "    }\n",
              "    (() => {\n",
              "      let quickchartButtonEl =\n",
              "        document.querySelector('#df-aa457111-1de4-454f-be11-c1f1f7d2ac5e button');\n",
              "      quickchartButtonEl.style.display =\n",
              "        google.colab.kernel.accessAllowed ? 'block' : 'none';\n",
              "    })();\n",
              "  </script>\n",
              "</div>\n",
              "    </div>\n",
              "  </div>\n"
            ],
            "text/plain": [
              "            idx protocol                     src_ip  src_port         dst_ip  \\\n",
              "8288305  607198      TCP              192.168.1.106   47940.0  52.87.241.159   \n",
              "8288306  607199      TCP                52.1.40.122     443.0  192.168.1.196   \n",
              "8288307  607200      TCP              52.87.241.159     443.0  192.168.1.106   \n",
              "8288308  607201      NaN  fe80::16cc:20ff:fe51:33ea       NaN        ff02::2   \n",
              "8288309  607202      TCP              192.168.1.106   47940.0  52.87.241.159   \n",
              "\n",
              "         dst_port  packet_length tcp_flags  window_size    ttl  ...  \\\n",
              "8288305     443.0          156.0       ack       2549.0   64.0  ...   \n",
              "8288306    2179.0           54.0       ack      21976.0   32.0  ...   \n",
              "8288307   47940.0           66.0       ack        836.0  224.0  ...   \n",
              "8288308       NaN            NaN       NaN          NaN    1.0  ...   \n",
              "8288309     443.0          156.0       ack       2549.0   64.0  ...   \n",
              "\n",
              "           Start_Time      End_Time      Duration  Flow_Volume   Flow_Rate  \\\n",
              "8288305  1.475330e+09  1.475413e+09  82797.735474     17729288  214.127692   \n",
              "8288306  1.475330e+09  1.475413e+09  82790.982727      1524540   18.414324   \n",
              "8288307  1.475330e+09  1.475413e+09  82797.735474     17729288  214.127692   \n",
              "8288308  0.000000e+00  0.000000e+00      0.000000            0    0.000000   \n",
              "8288309  1.475330e+09  1.475413e+09  82797.735474     17729288  214.127692   \n",
              "\n",
              "         Inter_Arrival_Time  Total_Fwd_Packets Total_Bwd_Packets  \\\n",
              "8288305            0.815169              78173             78116   \n",
              "8288306            0.215737              11053             10783   \n",
              "8288307            0.215153              78173             78116   \n",
              "8288308            0.600021                  0                 0   \n",
              "8288309            0.823887              78173             78116   \n",
              "\n",
              "         Fwd_Packet_Length_Total  Bwd_Packet_Length_Total  \n",
              "8288305                 12386218                  5343070  \n",
              "8288306                   799290                   725250  \n",
              "8288307                 12386218                  5343070  \n",
              "8288308                        0                        0  \n",
              "8288309                 12386218                  5343070  \n",
              "\n",
              "[5 rows x 41 columns]"
            ]
          },
          "execution_count": 8,
          "metadata": {},
          "output_type": "execute_result"
        }
      ],
      "source": [
        "df_merged.tail()"
      ]
    },
    {
      "cell_type": "code",
      "execution_count": 9,
      "metadata": {
        "colab": {
          "base_uri": "https://localhost:8080/"
        },
        "id": "bZ3YXv4_hbwX",
        "outputId": "7c501ef7-d54e-4cfa-eece-6f862f6a58f0"
      },
      "outputs": [
        {
          "name": "stdout",
          "output_type": "stream",
          "text": [
            "The DataFrame has 8288310 rows.\n"
          ]
        }
      ],
      "source": [
        "# Count the number of rows\n",
        "num_rows = df_merged.shape[0]\n",
        "\n",
        "# Print the number of rows\n",
        "print(f\"The DataFrame has {num_rows} rows.\")"
      ]
    },
    {
      "cell_type": "code",
      "execution_count": 10,
      "metadata": {
        "id": "BIc51wDCgxOc"
      },
      "outputs": [],
      "source": [
        "# Read the mapping DataFrame from Excel\n",
        "mapping_df = pd.read_excel('/gdrive/MyDrive/IomT/unsw_data/packet/mapping.xlsx', engine='openpyxl')"
      ]
    },
    {
      "cell_type": "code",
      "execution_count": 11,
      "metadata": {
        "id": "IhYgTwVcha0j"
      },
      "outputs": [],
      "source": [
        "# Create a mapping dictionary\n",
        "mapping_dict = dict(zip(mapping_df.packet_eth_src, mapping_df.target))"
      ]
    },
    {
      "cell_type": "code",
      "execution_count": 12,
      "metadata": {
        "id": "5dsDUkIgP-xF"
      },
      "outputs": [],
      "source": [
        "# Apply the mapping to the 'packet_eth_src' column in df_merged\n",
        "df_merged['target'] = df_merged['packet_eth_src'].map(mapping_dict)\n",
        "\n",
        "# Fill any NaN values with 'unknown'\n",
        "df_merged['target'] = df_merged['target'].fillna('unknown')"
      ]
    },
    {
      "cell_type": "code",
      "execution_count": 13,
      "metadata": {
        "colab": {
          "base_uri": "https://localhost:8080/"
        },
        "id": "oXGHJKD4uBfg",
        "outputId": "8c1761ff-c831-4377-fc05-0d9967adbcf9"
      },
      "outputs": [
        {
          "name": "stdout",
          "output_type": "stream",
          "text": [
            "Number of packets for each target:\n",
            "unknown               6214263\n",
            "samsung_cam            394107\n",
            "amazon_echo            374654\n",
            "belkin_motion          337982\n",
            "belkin_switch          265603\n",
            "tp-link_cam            161748\n",
            "netatmo_cam            160954\n",
            "smart_things           121100\n",
            "withings_sleep          87294\n",
            "triby_speaker           36834\n",
            "netatmo_weather         36063\n",
            "pixstar_photoframe      26119\n",
            "hp_printer              22698\n",
            "lifx                    21632\n",
            "ihome_plug              13540\n",
            "tp-link_plug            11211\n",
            "withings_scale           1387\n",
            "nest_smoke               1040\n",
            "blipcare_bp_meter          81\n",
            "Name: target, dtype: int64\n"
          ]
        }
      ],
      "source": [
        "# Count the number of packets for each target and print it\n",
        "target_counts = df_merged['target'].value_counts()\n",
        "print(\"Number of packets for each target:\")\n",
        "print(target_counts)"
      ]
    },
    {
      "cell_type": "code",
      "execution_count": null,
      "metadata": {
        "id": "E64b2P5_4T8e"
      },
      "outputs": [],
      "source": [
        "# Assuming df_merged is your DataFrame\n",
        "# First, filter targets with at least 10,000 packets\n",
        "filtered_df = df_merged[df_merged['target'].map(df_merged['target'].value_counts() >= 26000)]\n",
        "\n",
        "# Then, sample 10,000 packets per target\n",
        "sampled_df = filtered_df.groupby('target').apply(lambda x: x.sample(n=26000, random_state=1)).reset_index(drop=True)\n",
        "\n",
        "# Now, sampled_df will have 10,000 packets for each target that originally had at least 10,000 packets"
      ]
    },
    {
      "cell_type": "code",
      "execution_count": null,
      "metadata": {
        "colab": {
          "base_uri": "https://localhost:8080/"
        },
        "id": "fsYluqFj4yed",
        "outputId": "c8567404-619a-4941-cd5f-131468866e43"
      },
      "outputs": [
        {
          "name": "stdout",
          "output_type": "stream",
          "text": [
            "Number of packets for each target:\n",
            "amazon_echo           11000\n",
            "belkin_motion         11000\n",
            "belkin_switch         11000\n",
            "netatmo_cam           11000\n",
            "netatmo_weather       11000\n",
            "pixstar_photoframe    11000\n",
            "samsung_cam           11000\n",
            "smart_things          11000\n",
            "tp-link_cam           11000\n",
            "triby_speaker         11000\n",
            "unknown               11000\n",
            "Name: target, dtype: int64\n"
          ]
        }
      ],
      "source": [
        "# Count the number of packets for each target and print it\n",
        "target_counts_2 = sampled_df['target'].value_counts()\n",
        "print(\"Number of packets for each target:\")\n",
        "print(target_counts_2)"
      ]
    },
    {
      "cell_type": "code",
      "execution_count": null,
      "metadata": {
        "id": "PGiYXwx0263G"
      },
      "outputs": [],
      "source": [
        "# Assuming df is your DataFrame\n",
        "\n",
        "def split_group(group):\n",
        "    # Randomly sample 1000 rows for the test set\n",
        "    test = group.sample(n=1000, random_state=1)\n",
        "    # Use drop to remove the rows that were selected for the test set from the group to form the holdout set\n",
        "    holdout = group.drop(test.index)\n",
        "    return test, holdout\n",
        "\n",
        "# Initialize empty DataFrames for the test and holdout sets\n",
        "df_test = pd.DataFrame()\n",
        "df_holdout = pd.DataFrame()\n",
        "\n",
        "# Split each group and append to df_test and df_holdout\n",
        "for name, group in sampled_df.groupby('target'):\n",
        "    # Only split groups that have exactly 1100 flows\n",
        "    if len(group) == 1100:\n",
        "        test, holdout = split_group(group)\n",
        "        df_test = df_test.append(test)\n",
        "        df_holdout = df_holdout.append(holdout)\n",
        "\n",
        "# Reset the index of df_test and df_holdout\n",
        "df_test.reset_index(drop=True, inplace=True)\n",
        "df_holdout.reset_index(drop=True, inplace=True)\n",
        "\n",
        "# Now, df_test contains 1000 packets per target and df_holdout contains 100 packets per target for those targets with exactly 1100 flows,\n",
        "# with no overlapping packets between them\n"
      ]
    },
    {
      "cell_type": "code",
      "execution_count": null,
      "metadata": {
        "colab": {
          "base_uri": "https://localhost:8080/"
        },
        "id": "znWlcgbi4BXN",
        "outputId": "ceb44dc2-6f3b-4946-d75d-ed89ded44423"
      },
      "outputs": [
        {
          "name": "stdout",
          "output_type": "stream",
          "text": [
            "Number of packets for each target:\n",
            "amazon_echo           10000\n",
            "belkin_motion         10000\n",
            "belkin_switch         10000\n",
            "netatmo_cam           10000\n",
            "netatmo_weather       10000\n",
            "pixstar_photoframe    10000\n",
            "samsung_cam           10000\n",
            "smart_things          10000\n",
            "tp-link_cam           10000\n",
            "triby_speaker         10000\n",
            "unknown               10000\n",
            "Name: target, dtype: int64\n"
          ]
        }
      ],
      "source": [
        "# Count the number of packets for each target and print it\n",
        "target_counts_2 = df_test['target'].value_counts()\n",
        "print(\"Number of packets for each target:\")\n",
        "print(target_counts_2)"
      ]
    },
    {
      "cell_type": "code",
      "execution_count": null,
      "metadata": {
        "colab": {
          "base_uri": "https://localhost:8080/"
        },
        "id": "drYrr9-f4Me8",
        "outputId": "17dbafc4-d93d-4917-9b1b-4c875ad578ec"
      },
      "outputs": [
        {
          "name": "stdout",
          "output_type": "stream",
          "text": [
            "Number of packets for each target:\n",
            "amazon_echo           1000\n",
            "belkin_motion         1000\n",
            "belkin_switch         1000\n",
            "netatmo_cam           1000\n",
            "netatmo_weather       1000\n",
            "pixstar_photoframe    1000\n",
            "samsung_cam           1000\n",
            "smart_things          1000\n",
            "tp-link_cam           1000\n",
            "triby_speaker         1000\n",
            "unknown               1000\n",
            "Name: target, dtype: int64\n"
          ]
        }
      ],
      "source": [
        "# Count the number of packets for each target and print it\n",
        "target_counts_2 = df_holdout['target'].value_counts()\n",
        "print(\"Number of packets for each target:\")\n",
        "print(target_counts_2)"
      ]
    },
    {
      "cell_type": "code",
      "execution_count": null,
      "metadata": {
        "id": "cVxqeoFMnw5-"
      },
      "outputs": [],
      "source": [
        "df_test.to_excel('/gdrive/MyDrive/IomT/unsw_data/packet/def_packet_data/df_train_test_packet_23_26.xlsx.xlsx', index=False)"
      ]
    },
    {
      "cell_type": "code",
      "execution_count": null,
      "metadata": {
        "id": "Fw__aUBH5PXE"
      },
      "outputs": [],
      "source": [
        "df_holdout.to_excel('/gdrive/MyDrive/IomT/unsw_data/packet/def_packet_data/df_holdout_packet_23_26.xlsx.xlsx', index=False)"
      ]
    },
    {
      "cell_type": "code",
      "execution_count": null,
      "metadata": {
        "id": "i60ar2hldnMD"
      },
      "outputs": [],
      "source": [
        "# Set Pandas to display all columns and rows\n",
        "pd.set_option('display.max_columns', None)\n",
        "pd.set_option('display.max_rows', None)"
      ]
    }
  ],
  "metadata": {
    "colab": {
      "provenance": []
    },
    "kernelspec": {
      "display_name": "Python 3",
      "name": "python3"
    },
    "language_info": {
      "name": "python"
    }
  },
  "nbformat": 4,
  "nbformat_minor": 0
}
