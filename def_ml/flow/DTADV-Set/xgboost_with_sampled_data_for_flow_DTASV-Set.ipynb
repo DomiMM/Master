{
  "cells": [
    {
      "cell_type": "markdown",
      "metadata": {},
      "source": [
        "Pre Processing Data for DTADV-Set"
      ]
    },
    {
      "cell_type": "code",
      "execution_count": 59,
      "metadata": {},
      "outputs": [],
      "source": [
        "import pandas as pd\n",
        "import numpy as np\n",
        "import xgboost as xgb\n",
        "import os\n",
        "from sklearn.model_selection import KFold\n",
        "from sklearn.metrics import accuracy_score\n",
        "from sklearn.model_selection import GridSearchCV\n",
        "from sklearn.metrics import accuracy_score\n",
        "import numpy as np\n",
        "from sklearn.model_selection import train_test_split\n",
        "from joblib import dump, load\n",
        "from joblib import dump\n",
        "import pandas as pd\n",
        "import pickle\n",
        "from sklearn.metrics import confusion_matrix"
      ]
    },
    {
      "cell_type": "code",
      "execution_count": 60,
      "metadata": {
        "colab": {
          "base_uri": "https://localhost:8080/"
        },
        "id": "_50vMRw9Y9u3",
        "outputId": "68c61168-a3bf-42da-a5de-56b0472bd0bd"
      },
      "outputs": [
        {
          "name": "stdout",
          "output_type": "stream",
          "text": [
            "Requirement already satisfied: pandas in c:\\users\\meyer\\documents\\dom_detecter_code\\dom_detecter\\dom_detecter_env\\lib\\site-packages (2.1.0)Note: you may need to restart the kernel to use updated packages.\n",
            "\n",
            "Requirement already satisfied: openpyxl in c:\\users\\meyer\\documents\\dom_detecter_code\\dom_detecter\\dom_detecter_env\\lib\\site-packages (3.1.2)\n",
            "Requirement already satisfied: pytz>=2020.1 in c:\\users\\meyer\\documents\\dom_detecter_code\\dom_detecter\\dom_detecter_env\\lib\\site-packages (from pandas) (2023.3.post1)\n",
            "Requirement already satisfied: python-dateutil>=2.8.2 in c:\\users\\meyer\\documents\\dom_detecter_code\\dom_detecter\\dom_detecter_env\\lib\\site-packages (from pandas) (2.8.2)\n",
            "Requirement already satisfied: tzdata>=2022.1 in c:\\users\\meyer\\documents\\dom_detecter_code\\dom_detecter\\dom_detecter_env\\lib\\site-packages (from pandas) (2023.3)\n",
            "Requirement already satisfied: numpy>=1.22.4 in c:\\users\\meyer\\documents\\dom_detecter_code\\dom_detecter\\dom_detecter_env\\lib\\site-packages (from pandas) (1.24.3)\n",
            "Requirement already satisfied: et-xmlfile in c:\\users\\meyer\\documents\\dom_detecter_code\\dom_detecter\\dom_detecter_env\\lib\\site-packages (from openpyxl) (1.1.0)\n",
            "Requirement already satisfied: six>=1.5 in c:\\users\\meyer\\documents\\dom_detecter_code\\dom_detecter\\dom_detecter_env\\lib\\site-packages (from python-dateutil>=2.8.2->pandas) (1.16.0)\n"
          ]
        },
        {
          "name": "stderr",
          "output_type": "stream",
          "text": [
            "WARNING: You are using pip version 22.0.4; however, version 23.3.1 is available.\n",
            "You should consider upgrading via the 'c:\\Users\\Meyer\\Documents\\Dom_Detecter_Code\\Dom_Detecter\\dom_detecter_env\\Scripts\\python.exe -m pip install --upgrade pip' command.\n"
          ]
        }
      ],
      "source": [
        "%pip install pandas openpyxl"
      ]
    },
    {
      "cell_type": "code",
      "execution_count": 61,
      "metadata": {},
      "outputs": [],
      "source": [
        "directory = r'C:\\Users\\Meyer\\Documents\\Dom_Detecter\\own_data\\DTADSV-S\\csv'\n",
        "all_files = [f for f in os.listdir(directory) if os.path.isfile(os.path.join(directory, f))]"
      ]
    },
    {
      "cell_type": "code",
      "execution_count": 62,
      "metadata": {},
      "outputs": [],
      "source": [
        "list_of_dataframes = [pd.read_csv(os.path.join(directory, f)) for f in all_files]\n",
        "merged_dataframe = pd.concat(list_of_dataframes, ignore_index=True)"
      ]
    },
    {
      "cell_type": "code",
      "execution_count": 63,
      "metadata": {},
      "outputs": [],
      "source": [
        "df_merged = merged_dataframe"
      ]
    },
    {
      "cell_type": "code",
      "execution_count": 64,
      "metadata": {},
      "outputs": [],
      "source": [
        "# Read the mapping DataFrame from Excel\n",
        "mapping_df = pd.read_excel(r'C:\\Users\\Meyer\\Documents\\Dom_Detecter\\own_data\\DTADSV-S\\mapping.xlsx', engine='openpyxl')"
      ]
    },
    {
      "cell_type": "code",
      "execution_count": 65,
      "metadata": {},
      "outputs": [],
      "source": [
        "# Create a mapping dictionary\n",
        "mapping_dict = dict(zip(mapping_df.src_ip, mapping_df.target))"
      ]
    },
    {
      "cell_type": "code",
      "execution_count": 66,
      "metadata": {},
      "outputs": [],
      "source": [
        "# Apply the mapping to the 'packet_eth_src' column in df_merged\n",
        "df_merged['target'] = df_merged['src_ip'].map(mapping_dict)\n",
        "\n",
        "# Fill any NaN values with 'unknown'\n",
        "df_merged['target'] = df_merged['target'].fillna('unknown')"
      ]
    },
    {
      "cell_type": "code",
      "execution_count": 67,
      "metadata": {},
      "outputs": [],
      "source": [
        "flow_counts = df_merged.groupby('target')['Flow'].nunique()"
      ]
    },
    {
      "cell_type": "code",
      "execution_count": 68,
      "metadata": {},
      "outputs": [
        {
          "name": "stdout",
          "output_type": "stream",
          "text": [
            "Number of packets for each target:\n",
            "target\n",
            "unknown            3603642\n",
            "tp_link_c200         52627\n",
            "netatmo_cam          26126\n",
            "netatmo_weather       1340\n",
            "Name: count, dtype: int64\n"
          ]
        }
      ],
      "source": [
        "# Count the number of packets for each target and print it\n",
        "target_counts = df_merged['target'].value_counts()\n",
        "print(\"Number of packets for each target:\")\n",
        "print(target_counts)"
      ]
    },
    {
      "cell_type": "code",
      "execution_count": 69,
      "metadata": {},
      "outputs": [],
      "source": [
        "df = df_merged"
      ]
    },
    {
      "cell_type": "code",
      "execution_count": 70,
      "metadata": {},
      "outputs": [],
      "source": [
        "        df.replace('N/A', np.nan, inplace=True)\n",
        "        df['Start_Time'] = pd.to_datetime(df['Start_Time'])\n",
        "        df['End_Time'] = pd.to_datetime(df['End_Time'])\n",
        "        df['Flow_Duration'] = (df['End_Time'] - df['Start_Time']).dt.total_seconds()\n",
        "\n",
        "        df['Flow_Bytes/s'] = df['Flow_Volume'] / df['Flow_Duration']\n",
        "        df['Flow_Packets/s'] = df['Packet_Count'] / df['Flow_Duration']\n",
        "\n",
        "        df.loc[df['Total_Fwd_Packets'] > 0, 'Fwd_IAT'] = df['Inter_Arrival_Time']\n",
        "        df.loc[df['Total_Bwd_Packets'] > 0, 'Bwd_IAT'] = df['Inter_Arrival_Time']\n",
        "\n",
        "        feature_df = df.groupby('Flow').agg({\n",
        "            'Inter_Arrival_Time': ['mean', 'std', 'max', 'min'],\n",
        "            'Total_Fwd_Packets': ['sum'],\n",
        "            'Total_Bwd_Packets': ['sum'],\n",
        "            'Fwd_Packet_Length_Total': ['max', 'min', 'mean', 'std'],\n",
        "            'Bwd_Packet_Length_Total': ['max', 'min', 'mean', 'std'],\n",
        "            'Flow_Bytes/s': ['mean'],\n",
        "            'Flow_Packets/s': ['mean'],\n",
        "            'packet_length': ['min', 'max', 'mean', 'std', 'var'],\n",
        "            'Fwd_IAT': ['sum', 'mean', 'std', 'max', 'min'],\n",
        "            'Bwd_IAT': ['sum', 'mean', 'std', 'max', 'min'],\n",
        "        })"
      ]
    },
    {
      "cell_type": "code",
      "execution_count": 71,
      "metadata": {},
      "outputs": [],
      "source": [
        "# Adjust column names and merge\n",
        "feature_df.columns = ['_'.join(col) for col in feature_df.columns]\n",
        "feature_df.reset_index(inplace=True)\n",
        "df = pd.merge(df, feature_df, on='Flow', how='left')"
      ]
    },
    {
      "cell_type": "markdown",
      "metadata": {},
      "source": [
        "### **DTASV-Set**"
      ]
    },
    {
      "cell_type": "code",
      "execution_count": 72,
      "metadata": {
        "id": "cnI70J-fOt-m"
      },
      "outputs": [],
      "source": [
        "clf = load(r'C:\\Users\\Meyer\\Documents\\Dom_Detecter\\def_ml\\flow\\xgboost\\xgboost_trained_model.joblib')"
      ]
    },
    {
      "cell_type": "code",
      "execution_count": 73,
      "metadata": {},
      "outputs": [],
      "source": [
        "df_new = df"
      ]
    },
    {
      "cell_type": "code",
      "execution_count": 74,
      "metadata": {
        "colab": {
          "base_uri": "https://localhost:8080/"
        },
        "id": "gphkgEU2zZlP",
        "outputId": "721d53c7-4bbe-4a68-e921-d95b082edd31"
      },
      "outputs": [
        {
          "name": "stdout",
          "output_type": "stream",
          "text": [
            "Number of packets for each target:\n",
            "target\n",
            "unknown            3603642\n",
            "tp_link_c200         52627\n",
            "netatmo_cam          26126\n",
            "netatmo_weather       1340\n",
            "Name: count, dtype: int64\n"
          ]
        }
      ],
      "source": [
        "# Count the number of packets for each target\n",
        "target_counts = df['target'].value_counts()\n",
        "\n",
        "# Print the counts\n",
        "print(\"Number of packets for each target:\")\n",
        "print(target_counts)"
      ]
    },
    {
      "cell_type": "code",
      "execution_count": 75,
      "metadata": {},
      "outputs": [],
      "source": [
        "# Drop duplicate rows based on the 'Flow' column, keeping only the first occurrence\n",
        "df_new = df_new.drop_duplicates(subset=['Flow'], keep='first')"
      ]
    },
    {
      "cell_type": "code",
      "execution_count": 76,
      "metadata": {
        "id": "OlCRl4axUCIt"
      },
      "outputs": [],
      "source": [
        "df_new = pd.get_dummies(df_new, columns=['protocol'])"
      ]
    },
    {
      "cell_type": "code",
      "execution_count": 77,
      "metadata": {
        "id": "ff6O5hiOT_xR"
      },
      "outputs": [],
      "source": [
        "df_new['ip_id'] = df_new['ip_id'].apply(lambda x: int(x, 16) if isinstance(x, str) else x)"
      ]
    },
    {
      "cell_type": "code",
      "execution_count": 78,
      "metadata": {
        "id": "Ki9lYDfKO-ol"
      },
      "outputs": [],
      "source": [
        "df_new = df_new.fillna(0)"
      ]
    },
    {
      "cell_type": "code",
      "execution_count": 79,
      "metadata": {
        "id": "qzk9QI2RPHSQ"
      },
      "outputs": [],
      "source": [
        "from joblib import dump, load\n",
        "\n",
        "# Load reference headers\n",
        "ref_headers = load(r'C:\\Users\\Meyer\\Documents\\Dom_Detecter\\def_ml\\flow\\xgboost\\xgboost_header.joblib')\n",
        "\n",
        "current_headers = df_new.columns\n",
        "\n",
        "missing_headers = [col for col in ref_headers if col not in current_headers]\n",
        "\n",
        "for header in missing_headers:\n",
        "    df_new[header] = 0\n",
        "\n",
        "df_new = df_new[ref_headers]"
      ]
    },
    {
      "cell_type": "code",
      "execution_count": 80,
      "metadata": {
        "id": "U8s5BP550Wx_"
      },
      "outputs": [],
      "source": [
        "X_new = df_new.drop(columns=[\n",
        "    'target', 'src_ip', 'src_port', 'dst_ip', 'packet_eth_src', 'flow_label',\n",
        "    'traffic_class', 'Flow', 'Start_Time', 'End_Time', 'next_header', 'ip_len',\n",
        "    'udp_src_port', 'dsfield_ecn', 'dsfield_dscp', 'flags_mf', 'udp_checksum_status', 'udp_dst_port', 'udp_length','flags_df','ip_hdr_len',\n",
        "    \"packet.sniff_timestamp\", \"packet_length\", \"tcp_flags\", \"app_layer_protocol\", \"dst_port\", \"ttl\", \"Bwd_Packet_Length_Total\", \"Fwd_Packet_Length_Total\",\n",
        "    \"Total_Bwd_Packets\", \"Total_Fwd_Packets\", \"ip_id\", \"Bwd_IAT_min\", \"packet_length_var\", \"payload_len\", \"Fwd_IAT_min\", \n",
        "    \"protocol_TCP\", \"protocol_UDP\", \"Flow_Duration\", \"Fwd_IAT_std\", \"Flow_Packets/s\", \"Bwd_Packet_Length_Total_mean\"\n",
        "    ])"
      ]
    },
    {
      "cell_type": "code",
      "execution_count": 81,
      "metadata": {
        "id": "HoB-tN3am7hY"
      },
      "outputs": [],
      "source": [
        "Y_new = df_new.target"
      ]
    },
    {
      "cell_type": "code",
      "execution_count": 82,
      "metadata": {
        "id": "1ce7PlQJz6ZY"
      },
      "outputs": [],
      "source": [
        "X_new = X_new.astype(float)"
      ]
    },
    {
      "cell_type": "code",
      "execution_count": 83,
      "metadata": {
        "id": "kuJbwt6Mz8Qy"
      },
      "outputs": [],
      "source": [
        "Y_new = Y_new.astype(str)"
      ]
    },
    {
      "cell_type": "code",
      "execution_count": 84,
      "metadata": {
        "id": "jllWppsq3mns"
      },
      "outputs": [],
      "source": [
        "df_new = df_new.round(8)"
      ]
    },
    {
      "cell_type": "code",
      "execution_count": 85,
      "metadata": {
        "id": "m2hXwGXhGn_T"
      },
      "outputs": [],
      "source": [
        "X_new.fillna(0, inplace=True)"
      ]
    },
    {
      "cell_type": "code",
      "execution_count": 86,
      "metadata": {
        "id": "hfNPC3Iuz9hp"
      },
      "outputs": [
        {
          "name": "stderr",
          "output_type": "stream",
          "text": [
            "c:\\Users\\Meyer\\Documents\\Dom_Detecter_Code\\Dom_Detecter\\dom_detecter_env\\lib\\site-packages\\xgboost\\data.py:335: FutureWarning: is_sparse is deprecated and will be removed in a future version. Check `isinstance(dtype, pd.SparseDtype)` instead.\n",
            "  if is_sparse(dtype):\n",
            "c:\\Users\\Meyer\\Documents\\Dom_Detecter_Code\\Dom_Detecter\\dom_detecter_env\\lib\\site-packages\\xgboost\\data.py:338: FutureWarning: is_categorical_dtype is deprecated and will be removed in a future version. Use isinstance(dtype, CategoricalDtype) instead\n",
            "  is_categorical_dtype(dtype) or is_pa_ext_categorical_dtype(dtype)\n",
            "c:\\Users\\Meyer\\Documents\\Dom_Detecter_Code\\Dom_Detecter\\dom_detecter_env\\lib\\site-packages\\xgboost\\data.py:384: FutureWarning: is_categorical_dtype is deprecated and will be removed in a future version. Use isinstance(dtype, CategoricalDtype) instead\n",
            "  if is_categorical_dtype(dtype):\n",
            "c:\\Users\\Meyer\\Documents\\Dom_Detecter_Code\\Dom_Detecter\\dom_detecter_env\\lib\\site-packages\\xgboost\\data.py:359: FutureWarning: is_categorical_dtype is deprecated and will be removed in a future version. Use isinstance(dtype, CategoricalDtype) instead\n",
            "  return is_int or is_bool or is_float or is_categorical_dtype(dtype)\n"
          ]
        }
      ],
      "source": [
        "Y_new_pred = clf.predict(X_new)"
      ]
    },
    {
      "cell_type": "code",
      "execution_count": 87,
      "metadata": {
        "id": "dDacq2Ok2mHk"
      },
      "outputs": [],
      "source": [
        "Y_new_pred_df = pd.DataFrame(Y_new_pred, columns=['Predicted'])"
      ]
    },
    {
      "cell_type": "code",
      "execution_count": 88,
      "metadata": {
        "id": "5orH4ujwtj_w"
      },
      "outputs": [],
      "source": [
        "from sklearn.preprocessing import LabelEncoder\n",
        "label_encoder = LabelEncoder()\n",
        "Y_new_encoded = label_encoder.fit_transform(Y_new.astype(str))"
      ]
    },
    {
      "cell_type": "code",
      "execution_count": 89,
      "metadata": {
        "colab": {
          "base_uri": "https://localhost:8080/"
        },
        "id": "qAiAkzOlz_GD",
        "outputId": "cabbc61d-e6c3-4d98-e1e0-9b8c673843f1"
      },
      "outputs": [
        {
          "name": "stdout",
          "output_type": "stream",
          "text": [
            "Accuracy on new data: 0.00900933562947521\n"
          ]
        }
      ],
      "source": [
        "new_accuracy = accuracy_score(Y_new_encoded, Y_new_pred)\n",
        "print('Accuracy on new data:', new_accuracy)"
      ]
    },
    {
      "cell_type": "code",
      "execution_count": 90,
      "metadata": {
        "id": "veYrzo4BLXaY"
      },
      "outputs": [],
      "source": [
        "all_new_labels = ['amazon_echo', 'belkin_motion', 'belkin_switch', 'netatmo_cam', 'netatmo_weather', 'pixstar_photoframe', 'samsung_cam', 'smart_things', 'tp-link_cam', 'triby_speaker', 'unknown']"
      ]
    },
    {
      "cell_type": "code",
      "execution_count": 91,
      "metadata": {
        "id": "OONCZO-oLZoW"
      },
      "outputs": [],
      "source": [
        "cm = confusion_matrix(Y_new, Y_new_pred, labels=all_new_labels)"
      ]
    },
    {
      "cell_type": "code",
      "execution_count": 92,
      "metadata": {
        "colab": {
          "base_uri": "https://localhost:8080/"
        },
        "id": "WxNHD4gputNL",
        "outputId": "20e7632f-6f40-4ce7-e7b3-06c048fe0bab"
      },
      "outputs": [
        {
          "name": "stdout",
          "output_type": "stream",
          "text": [
            "Unique labels in Y_new: {'netatmo_cam', 'netatmo_weather', 'tp_link_c200', 'unknown'}\n",
            "Unique labels in Y_new_pred: {0, 1, 2, 3, 4, 5, 6, 7, 8, 9}\n"
          ]
        }
      ],
      "source": [
        "print(\"Unique labels in Y_new:\", set(Y_new))\n",
        "print(\"Unique labels in Y_new_pred:\", set(Y_new_pred))"
      ]
    },
    {
      "cell_type": "code",
      "execution_count": 93,
      "metadata": {
        "colab": {
          "base_uri": "https://localhost:8080/"
        },
        "id": "2_qej0GjLaxP",
        "outputId": "a0ef211e-e707-4112-bf82-2189cb60b724"
      },
      "outputs": [
        {
          "name": "stdout",
          "output_type": "stream",
          "text": [
            "Confusion Matrix:\n",
            "                    amazon_echo  belkin_motion  belkin_switch  netatmo_cam  \\\n",
            "amazon_echo                   0              0              0            0   \n",
            "belkin_motion                 0              0              0            0   \n",
            "belkin_switch                 0              0              0            0   \n",
            "netatmo_cam                   8              6              0            3   \n",
            "netatmo_weather               2              0              0            0   \n",
            "pixstar_photoframe            0              0              0            0   \n",
            "samsung_cam                   0              0              0            0   \n",
            "smart_things                  0              0              0            0   \n",
            "tp-link_cam                   0              0              0            0   \n",
            "tp_link_c200                338              0              1            1   \n",
            "triby_speaker                 0              0              0            0   \n",
            "unknown                    1175             78            450          488   \n",
            "\n",
            "                    netatmo_weather  pixstar_photoframe  samsung_cam  \\\n",
            "amazon_echo                       0                   0            0   \n",
            "belkin_motion                     0                   0            0   \n",
            "belkin_switch                     0                   0            0   \n",
            "netatmo_cam                       0                   5            1   \n",
            "netatmo_weather                   3                   0            0   \n",
            "pixstar_photoframe                0                   0            0   \n",
            "samsung_cam                       0                   0            0   \n",
            "smart_things                      0                   0            0   \n",
            "tp-link_cam                       0                   0            0   \n",
            "tp_link_c200                      0                   9            0   \n",
            "triby_speaker                     0                   0            0   \n",
            "unknown                          14                4981         4716   \n",
            "\n",
            "                    smart_things  tp-link_cam  tp_link_c200  triby_speaker  \\\n",
            "amazon_echo                    0            0             0              0   \n",
            "belkin_motion                  0            0             0              0   \n",
            "belkin_switch                  0            0             0              0   \n",
            "netatmo_cam                  341            0             0             34   \n",
            "netatmo_weather                0            6             0             52   \n",
            "pixstar_photoframe             0            0             0              0   \n",
            "samsung_cam                    0            0             0              0   \n",
            "smart_things                   0            0             0              0   \n",
            "tp-link_cam                    0            0             0              0   \n",
            "tp_link_c200                3681           60             0             48   \n",
            "triby_speaker                  0            0             0              0   \n",
            "unknown                      648         1772             0          36244   \n",
            "\n",
            "                    unknown  \n",
            "amazon_echo               0  \n",
            "belkin_motion             0  \n",
            "belkin_switch             0  \n",
            "netatmo_cam               0  \n",
            "netatmo_weather           0  \n",
            "pixstar_photoframe        0  \n",
            "samsung_cam               0  \n",
            "smart_things              0  \n",
            "tp-link_cam               0  \n",
            "tp_link_c200              0  \n",
            "triby_speaker             0  \n",
            "unknown                   0  \n"
          ]
        }
      ],
      "source": [
        "# Original categories\n",
        "original_labels = ['amazon_echo', 'belkin_motion', 'belkin_switch', 'netatmo_cam', 'netatmo_weather', 'pixstar_photoframe', 'samsung_cam', 'smart_things', 'tp-link_cam', 'triby_speaker', 'unknown']\n",
        "# Create a label_mapping based on the original categories\n",
        "label_mapping = {i: label for i, label in enumerate(sorted(original_labels))}\n",
        "\n",
        "# Convert numerical labels in Y_new_pred to string labels\n",
        "Y_new_pred_str = [label_mapping[label] for label in Y_new_pred]\n",
        "\n",
        "# Find all unique labels that appear either in Y_new or Y_new_pred_str\n",
        "all_labels = sorted(set(Y_new) | set(Y_new_pred_str))\n",
        "\n",
        "# Generate the confusion matrix using all unique labels\n",
        "cm = confusion_matrix(Y_new, Y_new_pred_str, labels=all_labels)\n",
        "\n",
        "# Convert the numpy array to a pandas DataFrame using all unique labels\n",
        "cm_df = pd.DataFrame(cm, index=all_labels, columns=all_labels)\n",
        "\n",
        "# Print the DataFrame\n",
        "print(\"Confusion Matrix:\")\n",
        "print(cm_df)"
      ]
    },
    {
      "cell_type": "code",
      "execution_count": 94,
      "metadata": {},
      "outputs": [
        {
          "data": {
            "text/html": [
              "<style>#sk-container-id-2 {color: black;}#sk-container-id-2 pre{padding: 0;}#sk-container-id-2 div.sk-toggleable {background-color: white;}#sk-container-id-2 label.sk-toggleable__label {cursor: pointer;display: block;width: 100%;margin-bottom: 0;padding: 0.3em;box-sizing: border-box;text-align: center;}#sk-container-id-2 label.sk-toggleable__label-arrow:before {content: \"▸\";float: left;margin-right: 0.25em;color: #696969;}#sk-container-id-2 label.sk-toggleable__label-arrow:hover:before {color: black;}#sk-container-id-2 div.sk-estimator:hover label.sk-toggleable__label-arrow:before {color: black;}#sk-container-id-2 div.sk-toggleable__content {max-height: 0;max-width: 0;overflow: hidden;text-align: left;background-color: #f0f8ff;}#sk-container-id-2 div.sk-toggleable__content pre {margin: 0.2em;color: black;border-radius: 0.25em;background-color: #f0f8ff;}#sk-container-id-2 input.sk-toggleable__control:checked~div.sk-toggleable__content {max-height: 200px;max-width: 100%;overflow: auto;}#sk-container-id-2 input.sk-toggleable__control:checked~label.sk-toggleable__label-arrow:before {content: \"▾\";}#sk-container-id-2 div.sk-estimator input.sk-toggleable__control:checked~label.sk-toggleable__label {background-color: #d4ebff;}#sk-container-id-2 div.sk-label input.sk-toggleable__control:checked~label.sk-toggleable__label {background-color: #d4ebff;}#sk-container-id-2 input.sk-hidden--visually {border: 0;clip: rect(1px 1px 1px 1px);clip: rect(1px, 1px, 1px, 1px);height: 1px;margin: -1px;overflow: hidden;padding: 0;position: absolute;width: 1px;}#sk-container-id-2 div.sk-estimator {font-family: monospace;background-color: #f0f8ff;border: 1px dotted black;border-radius: 0.25em;box-sizing: border-box;margin-bottom: 0.5em;}#sk-container-id-2 div.sk-estimator:hover {background-color: #d4ebff;}#sk-container-id-2 div.sk-parallel-item::after {content: \"\";width: 100%;border-bottom: 1px solid gray;flex-grow: 1;}#sk-container-id-2 div.sk-label:hover label.sk-toggleable__label {background-color: #d4ebff;}#sk-container-id-2 div.sk-serial::before {content: \"\";position: absolute;border-left: 1px solid gray;box-sizing: border-box;top: 0;bottom: 0;left: 50%;z-index: 0;}#sk-container-id-2 div.sk-serial {display: flex;flex-direction: column;align-items: center;background-color: white;padding-right: 0.2em;padding-left: 0.2em;position: relative;}#sk-container-id-2 div.sk-item {position: relative;z-index: 1;}#sk-container-id-2 div.sk-parallel {display: flex;align-items: stretch;justify-content: center;background-color: white;position: relative;}#sk-container-id-2 div.sk-item::before, #sk-container-id-2 div.sk-parallel-item::before {content: \"\";position: absolute;border-left: 1px solid gray;box-sizing: border-box;top: 0;bottom: 0;left: 50%;z-index: -1;}#sk-container-id-2 div.sk-parallel-item {display: flex;flex-direction: column;z-index: 1;position: relative;background-color: white;}#sk-container-id-2 div.sk-parallel-item:first-child::after {align-self: flex-end;width: 50%;}#sk-container-id-2 div.sk-parallel-item:last-child::after {align-self: flex-start;width: 50%;}#sk-container-id-2 div.sk-parallel-item:only-child::after {width: 0;}#sk-container-id-2 div.sk-dashed-wrapped {border: 1px dashed gray;margin: 0 0.4em 0.5em 0.4em;box-sizing: border-box;padding-bottom: 0.4em;background-color: white;}#sk-container-id-2 div.sk-label label {font-family: monospace;font-weight: bold;display: inline-block;line-height: 1.2em;}#sk-container-id-2 div.sk-label-container {text-align: center;}#sk-container-id-2 div.sk-container {/* jupyter's `normalize.less` sets `[hidden] { display: none; }` but bootstrap.min.css set `[hidden] { display: none !important; }` so we also need the `!important` here to be able to override the default hidden behavior on the sphinx rendered scikit-learn.org. See: https://github.com/scikit-learn/scikit-learn/issues/21755 */display: inline-block !important;position: relative;}#sk-container-id-2 div.sk-text-repr-fallback {display: none;}</style><div id=\"sk-container-id-2\" class=\"sk-top-container\"><div class=\"sk-text-repr-fallback\"><pre>LabelEncoder()</pre><b>In a Jupyter environment, please rerun this cell to show the HTML representation or trust the notebook. <br />On GitHub, the HTML representation is unable to render, please try loading this page with nbviewer.org.</b></div><div class=\"sk-container\" hidden><div class=\"sk-item\"><div class=\"sk-estimator sk-toggleable\"><input class=\"sk-toggleable__control sk-hidden--visually\" id=\"sk-estimator-id-2\" type=\"checkbox\" checked><label for=\"sk-estimator-id-2\" class=\"sk-toggleable__label sk-toggleable__label-arrow\">LabelEncoder</label><div class=\"sk-toggleable__content\"><pre>LabelEncoder()</pre></div></div></div></div></div>"
            ],
            "text/plain": [
              "LabelEncoder()"
            ]
          },
          "execution_count": 94,
          "metadata": {},
          "output_type": "execute_result"
        }
      ],
      "source": [
        "all_possible_labels = list(set(Y_new) | set(Y_new_pred_str))\n",
        "label_encoder.fit(all_possible_labels)"
      ]
    },
    {
      "cell_type": "code",
      "execution_count": 95,
      "metadata": {},
      "outputs": [],
      "source": [
        "# Transform the actual targets\n",
        "Y_new_encoded = label_encoder.transform(Y_new)\n",
        "Y_new_pred_encoded = label_encoder.transform(Y_new_pred_str)"
      ]
    },
    {
      "cell_type": "code",
      "execution_count": 97,
      "metadata": {
        "id": "WGd9p3SmLcCu"
      },
      "outputs": [],
      "source": [
        "cm_df.to_csv(r'C:\\Users\\Meyer\\Documents\\Dom_Detecter\\def_ml\\flow\\xgboost\\xgboost_DTADSV-Set\\xgboost_DTADVS-Set_cm.csv')"
      ]
    },
    {
      "cell_type": "code",
      "execution_count": 98,
      "metadata": {
        "id": "WrJdwwuDv4Tl"
      },
      "outputs": [],
      "source": [
        "Y_new_df = pd.DataFrame(Y_new, columns=['Actual'])\n",
        "Y_new_pred_df = pd.DataFrame(Y_new_pred, columns=['Predicted'])"
      ]
    },
    {
      "cell_type": "code",
      "execution_count": 99,
      "metadata": {
        "id": "p_I1jkOjv54V"
      },
      "outputs": [],
      "source": [
        "result_df = pd.concat([Y_new_df, Y_new_pred_df], axis=1)"
      ]
    },
    {
      "cell_type": "code",
      "execution_count": 100,
      "metadata": {
        "id": "1HmZ1ZkMcUhh"
      },
      "outputs": [],
      "source": [
        "# Create result_df first\n",
        "Y_new_df = pd.DataFrame(Y_new, columns=['Actual'])\n",
        "Y_new_pred_df = pd.DataFrame(Y_new_pred, columns=['Predicted'])\n",
        "result_df = pd.concat([Y_new_df, Y_new_pred_df], axis=1)"
      ]
    },
    {
      "cell_type": "code",
      "execution_count": 101,
      "metadata": {
        "id": "oiQ_FUn2v7Ky"
      },
      "outputs": [
        {
          "name": "stderr",
          "output_type": "stream",
          "text": [
            "c:\\Users\\Meyer\\Documents\\Dom_Detecter_Code\\Dom_Detecter\\dom_detecter_env\\lib\\site-packages\\xgboost\\data.py:335: FutureWarning: is_sparse is deprecated and will be removed in a future version. Check `isinstance(dtype, pd.SparseDtype)` instead.\n",
            "  if is_sparse(dtype):\n",
            "c:\\Users\\Meyer\\Documents\\Dom_Detecter_Code\\Dom_Detecter\\dom_detecter_env\\lib\\site-packages\\xgboost\\data.py:338: FutureWarning: is_categorical_dtype is deprecated and will be removed in a future version. Use isinstance(dtype, CategoricalDtype) instead\n",
            "  is_categorical_dtype(dtype) or is_pa_ext_categorical_dtype(dtype)\n",
            "c:\\Users\\Meyer\\Documents\\Dom_Detecter_Code\\Dom_Detecter\\dom_detecter_env\\lib\\site-packages\\xgboost\\data.py:384: FutureWarning: is_categorical_dtype is deprecated and will be removed in a future version. Use isinstance(dtype, CategoricalDtype) instead\n",
            "  if is_categorical_dtype(dtype):\n",
            "c:\\Users\\Meyer\\Documents\\Dom_Detecter_Code\\Dom_Detecter\\dom_detecter_env\\lib\\site-packages\\xgboost\\data.py:359: FutureWarning: is_categorical_dtype is deprecated and will be removed in a future version. Use isinstance(dtype, CategoricalDtype) instead\n",
            "  return is_int or is_bool or is_float or is_categorical_dtype(dtype)\n"
          ]
        }
      ],
      "source": [
        "Y_test_pred = clf.predict(X_new)"
      ]
    },
    {
      "cell_type": "code",
      "execution_count": 102,
      "metadata": {
        "id": "hhVRnxCCv9Nl"
      },
      "outputs": [],
      "source": [
        "df_new['Predicted_Target'] = Y_new_pred"
      ]
    },
    {
      "cell_type": "code",
      "execution_count": 103,
      "metadata": {
        "id": "XweYiMPav-5z"
      },
      "outputs": [],
      "source": [
        "wrong_predictions = df_new[df_new['target'] != df_new['Predicted_Target']]"
      ]
    },
    {
      "cell_type": "code",
      "execution_count": 104,
      "metadata": {
        "colab": {
          "base_uri": "https://localhost:8080/",
          "height": 256
        },
        "id": "wiULg6DHwAa4",
        "outputId": "2bccfa56-036f-4de0-a5e0-2818f7d8d10e"
      },
      "outputs": [
        {
          "data": {
            "text/html": [
              "<div>\n",
              "<style scoped>\n",
              "    .dataframe tbody tr th:only-of-type {\n",
              "        vertical-align: middle;\n",
              "    }\n",
              "\n",
              "    .dataframe tbody tr th {\n",
              "        vertical-align: top;\n",
              "    }\n",
              "\n",
              "    .dataframe thead th {\n",
              "        text-align: right;\n",
              "    }\n",
              "</style>\n",
              "<table border=\"1\" class=\"dataframe\">\n",
              "  <thead>\n",
              "    <tr style=\"text-align: right;\">\n",
              "      <th></th>\n",
              "      <th>src_ip</th>\n",
              "      <th>src_port</th>\n",
              "      <th>dst_ip</th>\n",
              "      <th>dst_port</th>\n",
              "      <th>packet_length</th>\n",
              "      <th>tcp_flags</th>\n",
              "      <th>window_size</th>\n",
              "      <th>ttl</th>\n",
              "      <th>frame_len</th>\n",
              "      <th>dsfield_dscp</th>\n",
              "      <th>...</th>\n",
              "      <th>Fwd_IAT_max</th>\n",
              "      <th>Fwd_IAT_min</th>\n",
              "      <th>Bwd_IAT_sum</th>\n",
              "      <th>Bwd_IAT_mean</th>\n",
              "      <th>Bwd_IAT_std</th>\n",
              "      <th>Bwd_IAT_max</th>\n",
              "      <th>Bwd_IAT_min</th>\n",
              "      <th>protocol_TCP</th>\n",
              "      <th>protocol_UDP</th>\n",
              "      <th>Predicted_Target</th>\n",
              "    </tr>\n",
              "  </thead>\n",
              "  <tbody>\n",
              "    <tr>\n",
              "      <th>0</th>\n",
              "      <td>fe80::acc:68ff:fe42:391a</td>\n",
              "      <td>0.0</td>\n",
              "      <td>fe80::1e24:cdff:fe81:ac40</td>\n",
              "      <td>0.0</td>\n",
              "      <td>0.0</td>\n",
              "      <td>0</td>\n",
              "      <td>0.0</td>\n",
              "      <td>255.0</td>\n",
              "      <td>0.0</td>\n",
              "      <td>0.0</td>\n",
              "      <td>...</td>\n",
              "      <td>0.000000</td>\n",
              "      <td>0.0</td>\n",
              "      <td>0.0</td>\n",
              "      <td>0.0</td>\n",
              "      <td>0.0</td>\n",
              "      <td>0.0</td>\n",
              "      <td>0.0</td>\n",
              "      <td>False</td>\n",
              "      <td>False</td>\n",
              "      <td>9</td>\n",
              "    </tr>\n",
              "    <tr>\n",
              "      <th>2</th>\n",
              "      <td>0</td>\n",
              "      <td>0.0</td>\n",
              "      <td>0</td>\n",
              "      <td>0.0</td>\n",
              "      <td>0.0</td>\n",
              "      <td>0</td>\n",
              "      <td>0.0</td>\n",
              "      <td>0.0</td>\n",
              "      <td>0.0</td>\n",
              "      <td>0.0</td>\n",
              "      <td>...</td>\n",
              "      <td>0.000000</td>\n",
              "      <td>0.0</td>\n",
              "      <td>0.0</td>\n",
              "      <td>0.0</td>\n",
              "      <td>0.0</td>\n",
              "      <td>0.0</td>\n",
              "      <td>0.0</td>\n",
              "      <td>False</td>\n",
              "      <td>False</td>\n",
              "      <td>9</td>\n",
              "    </tr>\n",
              "    <tr>\n",
              "      <th>3</th>\n",
              "      <td>192.168.1.111</td>\n",
              "      <td>50995.0</td>\n",
              "      <td>192.168.0.23</td>\n",
              "      <td>7680.0</td>\n",
              "      <td>66.0</td>\n",
              "      <td>syn</td>\n",
              "      <td>64240.0</td>\n",
              "      <td>128.0</td>\n",
              "      <td>66.0</td>\n",
              "      <td>0.0</td>\n",
              "      <td>...</td>\n",
              "      <td>8.014908</td>\n",
              "      <td>0.0</td>\n",
              "      <td>0.0</td>\n",
              "      <td>0.0</td>\n",
              "      <td>0.0</td>\n",
              "      <td>0.0</td>\n",
              "      <td>0.0</td>\n",
              "      <td>True</td>\n",
              "      <td>False</td>\n",
              "      <td>9</td>\n",
              "    </tr>\n",
              "    <tr>\n",
              "      <th>5</th>\n",
              "      <td>192.168.1.99</td>\n",
              "      <td>0.0</td>\n",
              "      <td>192.168.1.111</td>\n",
              "      <td>0.0</td>\n",
              "      <td>94.0</td>\n",
              "      <td>0</td>\n",
              "      <td>0.0</td>\n",
              "      <td>255.0</td>\n",
              "      <td>94.0</td>\n",
              "      <td>48.0</td>\n",
              "      <td>...</td>\n",
              "      <td>0.000000</td>\n",
              "      <td>0.0</td>\n",
              "      <td>0.0</td>\n",
              "      <td>0.0</td>\n",
              "      <td>0.0</td>\n",
              "      <td>0.0</td>\n",
              "      <td>0.0</td>\n",
              "      <td>False</td>\n",
              "      <td>False</td>\n",
              "      <td>6</td>\n",
              "    </tr>\n",
              "    <tr>\n",
              "      <th>6</th>\n",
              "      <td>192.168.1.111</td>\n",
              "      <td>50985.0</td>\n",
              "      <td>51.105.71.136</td>\n",
              "      <td>443.0</td>\n",
              "      <td>60.0</td>\n",
              "      <td>ack</td>\n",
              "      <td>515.0</td>\n",
              "      <td>128.0</td>\n",
              "      <td>60.0</td>\n",
              "      <td>0.0</td>\n",
              "      <td>...</td>\n",
              "      <td>0.000035</td>\n",
              "      <td>0.0</td>\n",
              "      <td>0.0</td>\n",
              "      <td>0.0</td>\n",
              "      <td>0.0</td>\n",
              "      <td>0.0</td>\n",
              "      <td>0.0</td>\n",
              "      <td>True</td>\n",
              "      <td>False</td>\n",
              "      <td>9</td>\n",
              "    </tr>\n",
              "  </tbody>\n",
              "</table>\n",
              "<p>5 rows × 79 columns</p>\n",
              "</div>"
            ],
            "text/plain": [
              "                     src_ip  src_port                     dst_ip  dst_port  \\\n",
              "0  fe80::acc:68ff:fe42:391a       0.0  fe80::1e24:cdff:fe81:ac40       0.0   \n",
              "2                         0       0.0                          0       0.0   \n",
              "3             192.168.1.111   50995.0               192.168.0.23    7680.0   \n",
              "5              192.168.1.99       0.0              192.168.1.111       0.0   \n",
              "6             192.168.1.111   50985.0              51.105.71.136     443.0   \n",
              "\n",
              "   packet_length tcp_flags  window_size    ttl  frame_len  dsfield_dscp  ...  \\\n",
              "0            0.0         0          0.0  255.0        0.0           0.0  ...   \n",
              "2            0.0         0          0.0    0.0        0.0           0.0  ...   \n",
              "3           66.0       syn      64240.0  128.0       66.0           0.0  ...   \n",
              "5           94.0         0          0.0  255.0       94.0          48.0  ...   \n",
              "6           60.0       ack        515.0  128.0       60.0           0.0  ...   \n",
              "\n",
              "  Fwd_IAT_max  Fwd_IAT_min  Bwd_IAT_sum  Bwd_IAT_mean  Bwd_IAT_std  \\\n",
              "0    0.000000          0.0          0.0           0.0          0.0   \n",
              "2    0.000000          0.0          0.0           0.0          0.0   \n",
              "3    8.014908          0.0          0.0           0.0          0.0   \n",
              "5    0.000000          0.0          0.0           0.0          0.0   \n",
              "6    0.000035          0.0          0.0           0.0          0.0   \n",
              "\n",
              "   Bwd_IAT_max  Bwd_IAT_min  protocol_TCP  protocol_UDP  Predicted_Target  \n",
              "0          0.0          0.0         False         False                 9  \n",
              "2          0.0          0.0         False         False                 9  \n",
              "3          0.0          0.0          True         False                 9  \n",
              "5          0.0          0.0         False         False                 6  \n",
              "6          0.0          0.0          True         False                 9  \n",
              "\n",
              "[5 rows x 79 columns]"
            ]
          },
          "execution_count": 104,
          "metadata": {},
          "output_type": "execute_result"
        }
      ],
      "source": [
        "wrong_predictions.head()"
      ]
    },
    {
      "cell_type": "code",
      "execution_count": 105,
      "metadata": {},
      "outputs": [
        {
          "name": "stdout",
          "output_type": "stream",
          "text": [
            "['amazon_echo' 'belkin_motion' 'belkin_switch' 'netatmo_cam'\n",
            " 'netatmo_weather' 'pixstar_photoframe' 'samsung_cam' 'smart_things'\n",
            " 'tp-link_cam' 'tp_link_c200' 'triby_speaker' 'unknown']\n"
          ]
        }
      ],
      "source": [
        "print(label_encoder.classes_)\n"
      ]
    },
    {
      "cell_type": "code",
      "execution_count": 106,
      "metadata": {},
      "outputs": [
        {
          "name": "stdout",
          "output_type": "stream",
          "text": [
            "[0 1 2 3 4 5 6 7 8 9]\n"
          ]
        }
      ],
      "source": [
        "print(np.unique(Y_new_pred))\n"
      ]
    },
    {
      "cell_type": "code",
      "execution_count": 107,
      "metadata": {
        "id": "tQLvtaQQanhk"
      },
      "outputs": [],
      "source": [
        "Y_new_pred_original = label_encoder.inverse_transform(Y_new_pred)"
      ]
    },
    {
      "cell_type": "code",
      "execution_count": 108,
      "metadata": {
        "id": "gbnsVq-6apKN"
      },
      "outputs": [],
      "source": [
        "# Add these original labels to your result DataFrame\n",
        "result_df['Predicted_Target_Original'] = Y_new_pred_original"
      ]
    },
    {
      "cell_type": "code",
      "execution_count": 109,
      "metadata": {
        "id": "SP8U6ofTarS0"
      },
      "outputs": [],
      "source": [
        "# Also add these to your df_new DataFrame if you want\n",
        "df_new['Predicted_Target_Original'] = Y_new_pred_original"
      ]
    },
    {
      "cell_type": "code",
      "execution_count": 110,
      "metadata": {
        "colab": {
          "base_uri": "https://localhost:8080/",
          "height": 256
        },
        "id": "ljzoP2eqwOOo",
        "outputId": "b500fb46-400b-4503-ccae-48c719460ac5"
      },
      "outputs": [
        {
          "data": {
            "text/html": [
              "<div>\n",
              "<style scoped>\n",
              "    .dataframe tbody tr th:only-of-type {\n",
              "        vertical-align: middle;\n",
              "    }\n",
              "\n",
              "    .dataframe tbody tr th {\n",
              "        vertical-align: top;\n",
              "    }\n",
              "\n",
              "    .dataframe thead th {\n",
              "        text-align: right;\n",
              "    }\n",
              "</style>\n",
              "<table border=\"1\" class=\"dataframe\">\n",
              "  <thead>\n",
              "    <tr style=\"text-align: right;\">\n",
              "      <th></th>\n",
              "      <th>src_ip</th>\n",
              "      <th>src_port</th>\n",
              "      <th>dst_ip</th>\n",
              "      <th>dst_port</th>\n",
              "      <th>packet_length</th>\n",
              "      <th>tcp_flags</th>\n",
              "      <th>window_size</th>\n",
              "      <th>ttl</th>\n",
              "      <th>frame_len</th>\n",
              "      <th>dsfield_dscp</th>\n",
              "      <th>...</th>\n",
              "      <th>Fwd_IAT_min</th>\n",
              "      <th>Bwd_IAT_sum</th>\n",
              "      <th>Bwd_IAT_mean</th>\n",
              "      <th>Bwd_IAT_std</th>\n",
              "      <th>Bwd_IAT_max</th>\n",
              "      <th>Bwd_IAT_min</th>\n",
              "      <th>protocol_TCP</th>\n",
              "      <th>protocol_UDP</th>\n",
              "      <th>Predicted_Target</th>\n",
              "      <th>Predicted_Target_Original</th>\n",
              "    </tr>\n",
              "  </thead>\n",
              "  <tbody>\n",
              "    <tr>\n",
              "      <th>0</th>\n",
              "      <td>fe80::acc:68ff:fe42:391a</td>\n",
              "      <td>0.0</td>\n",
              "      <td>fe80::1e24:cdff:fe81:ac40</td>\n",
              "      <td>0.0</td>\n",
              "      <td>0.0</td>\n",
              "      <td>0</td>\n",
              "      <td>0.0</td>\n",
              "      <td>255.0</td>\n",
              "      <td>0.0</td>\n",
              "      <td>0.0</td>\n",
              "      <td>...</td>\n",
              "      <td>0.0</td>\n",
              "      <td>0.0</td>\n",
              "      <td>0.0</td>\n",
              "      <td>0.0</td>\n",
              "      <td>0.0</td>\n",
              "      <td>0.0</td>\n",
              "      <td>False</td>\n",
              "      <td>False</td>\n",
              "      <td>9</td>\n",
              "      <td>tp_link_c200</td>\n",
              "    </tr>\n",
              "    <tr>\n",
              "      <th>2</th>\n",
              "      <td>0</td>\n",
              "      <td>0.0</td>\n",
              "      <td>0</td>\n",
              "      <td>0.0</td>\n",
              "      <td>0.0</td>\n",
              "      <td>0</td>\n",
              "      <td>0.0</td>\n",
              "      <td>0.0</td>\n",
              "      <td>0.0</td>\n",
              "      <td>0.0</td>\n",
              "      <td>...</td>\n",
              "      <td>0.0</td>\n",
              "      <td>0.0</td>\n",
              "      <td>0.0</td>\n",
              "      <td>0.0</td>\n",
              "      <td>0.0</td>\n",
              "      <td>0.0</td>\n",
              "      <td>False</td>\n",
              "      <td>False</td>\n",
              "      <td>9</td>\n",
              "      <td>tp_link_c200</td>\n",
              "    </tr>\n",
              "    <tr>\n",
              "      <th>3</th>\n",
              "      <td>192.168.1.111</td>\n",
              "      <td>50995.0</td>\n",
              "      <td>192.168.0.23</td>\n",
              "      <td>7680.0</td>\n",
              "      <td>66.0</td>\n",
              "      <td>syn</td>\n",
              "      <td>64240.0</td>\n",
              "      <td>128.0</td>\n",
              "      <td>66.0</td>\n",
              "      <td>0.0</td>\n",
              "      <td>...</td>\n",
              "      <td>0.0</td>\n",
              "      <td>0.0</td>\n",
              "      <td>0.0</td>\n",
              "      <td>0.0</td>\n",
              "      <td>0.0</td>\n",
              "      <td>0.0</td>\n",
              "      <td>True</td>\n",
              "      <td>False</td>\n",
              "      <td>9</td>\n",
              "      <td>tp_link_c200</td>\n",
              "    </tr>\n",
              "    <tr>\n",
              "      <th>5</th>\n",
              "      <td>192.168.1.99</td>\n",
              "      <td>0.0</td>\n",
              "      <td>192.168.1.111</td>\n",
              "      <td>0.0</td>\n",
              "      <td>94.0</td>\n",
              "      <td>0</td>\n",
              "      <td>0.0</td>\n",
              "      <td>255.0</td>\n",
              "      <td>94.0</td>\n",
              "      <td>48.0</td>\n",
              "      <td>...</td>\n",
              "      <td>0.0</td>\n",
              "      <td>0.0</td>\n",
              "      <td>0.0</td>\n",
              "      <td>0.0</td>\n",
              "      <td>0.0</td>\n",
              "      <td>0.0</td>\n",
              "      <td>False</td>\n",
              "      <td>False</td>\n",
              "      <td>6</td>\n",
              "      <td>samsung_cam</td>\n",
              "    </tr>\n",
              "    <tr>\n",
              "      <th>6</th>\n",
              "      <td>192.168.1.111</td>\n",
              "      <td>50985.0</td>\n",
              "      <td>51.105.71.136</td>\n",
              "      <td>443.0</td>\n",
              "      <td>60.0</td>\n",
              "      <td>ack</td>\n",
              "      <td>515.0</td>\n",
              "      <td>128.0</td>\n",
              "      <td>60.0</td>\n",
              "      <td>0.0</td>\n",
              "      <td>...</td>\n",
              "      <td>0.0</td>\n",
              "      <td>0.0</td>\n",
              "      <td>0.0</td>\n",
              "      <td>0.0</td>\n",
              "      <td>0.0</td>\n",
              "      <td>0.0</td>\n",
              "      <td>True</td>\n",
              "      <td>False</td>\n",
              "      <td>9</td>\n",
              "      <td>tp_link_c200</td>\n",
              "    </tr>\n",
              "  </tbody>\n",
              "</table>\n",
              "<p>5 rows × 80 columns</p>\n",
              "</div>"
            ],
            "text/plain": [
              "                     src_ip  src_port                     dst_ip  dst_port  \\\n",
              "0  fe80::acc:68ff:fe42:391a       0.0  fe80::1e24:cdff:fe81:ac40       0.0   \n",
              "2                         0       0.0                          0       0.0   \n",
              "3             192.168.1.111   50995.0               192.168.0.23    7680.0   \n",
              "5              192.168.1.99       0.0              192.168.1.111       0.0   \n",
              "6             192.168.1.111   50985.0              51.105.71.136     443.0   \n",
              "\n",
              "   packet_length tcp_flags  window_size    ttl  frame_len  dsfield_dscp  ...  \\\n",
              "0            0.0         0          0.0  255.0        0.0           0.0  ...   \n",
              "2            0.0         0          0.0    0.0        0.0           0.0  ...   \n",
              "3           66.0       syn      64240.0  128.0       66.0           0.0  ...   \n",
              "5           94.0         0          0.0  255.0       94.0          48.0  ...   \n",
              "6           60.0       ack        515.0  128.0       60.0           0.0  ...   \n",
              "\n",
              "  Fwd_IAT_min  Bwd_IAT_sum  Bwd_IAT_mean  Bwd_IAT_std  Bwd_IAT_max  \\\n",
              "0         0.0          0.0           0.0          0.0          0.0   \n",
              "2         0.0          0.0           0.0          0.0          0.0   \n",
              "3         0.0          0.0           0.0          0.0          0.0   \n",
              "5         0.0          0.0           0.0          0.0          0.0   \n",
              "6         0.0          0.0           0.0          0.0          0.0   \n",
              "\n",
              "   Bwd_IAT_min  protocol_TCP  protocol_UDP  Predicted_Target  \\\n",
              "0          0.0         False         False                 9   \n",
              "2          0.0         False         False                 9   \n",
              "3          0.0          True         False                 9   \n",
              "5          0.0         False         False                 6   \n",
              "6          0.0          True         False                 9   \n",
              "\n",
              "   Predicted_Target_Original  \n",
              "0               tp_link_c200  \n",
              "2               tp_link_c200  \n",
              "3               tp_link_c200  \n",
              "5                samsung_cam  \n",
              "6               tp_link_c200  \n",
              "\n",
              "[5 rows x 80 columns]"
            ]
          },
          "execution_count": 110,
          "metadata": {},
          "output_type": "execute_result"
        }
      ],
      "source": [
        "df_new.head()"
      ]
    },
    {
      "cell_type": "code",
      "execution_count": 111,
      "metadata": {
        "id": "OWmZhsFVwnME"
      },
      "outputs": [],
      "source": [
        "df_new['Predicted_Target'] = df_new['Predicted_Target'].map(label_mapping)"
      ]
    },
    {
      "cell_type": "code",
      "execution_count": 112,
      "metadata": {
        "id": "dYvPoiy34uR_"
      },
      "outputs": [],
      "source": [
        "df_new.to_csv(r'C:\\Users\\Meyer\\Documents\\Dom_Detecter\\def_ml\\flow\\xgboost\\xgboost_DTADSV-Set\\xgboost_new_data_DTADSV-Set.csv', index=False)"
      ]
    },
    {
      "cell_type": "code",
      "execution_count": 113,
      "metadata": {
        "colab": {
          "base_uri": "https://localhost:8080/",
          "height": 256
        },
        "id": "dOXYapDbxKaw",
        "outputId": "fa66f97f-189e-4e2b-8f62-5c52f35de9d1"
      },
      "outputs": [
        {
          "data": {
            "text/html": [
              "<div>\n",
              "<style scoped>\n",
              "    .dataframe tbody tr th:only-of-type {\n",
              "        vertical-align: middle;\n",
              "    }\n",
              "\n",
              "    .dataframe tbody tr th {\n",
              "        vertical-align: top;\n",
              "    }\n",
              "\n",
              "    .dataframe thead th {\n",
              "        text-align: right;\n",
              "    }\n",
              "</style>\n",
              "<table border=\"1\" class=\"dataframe\">\n",
              "  <thead>\n",
              "    <tr style=\"text-align: right;\">\n",
              "      <th></th>\n",
              "      <th>src_ip</th>\n",
              "      <th>src_port</th>\n",
              "      <th>dst_ip</th>\n",
              "      <th>dst_port</th>\n",
              "      <th>packet_length</th>\n",
              "      <th>tcp_flags</th>\n",
              "      <th>window_size</th>\n",
              "      <th>ttl</th>\n",
              "      <th>frame_len</th>\n",
              "      <th>dsfield_dscp</th>\n",
              "      <th>...</th>\n",
              "      <th>Fwd_IAT_max</th>\n",
              "      <th>Fwd_IAT_min</th>\n",
              "      <th>Bwd_IAT_sum</th>\n",
              "      <th>Bwd_IAT_mean</th>\n",
              "      <th>Bwd_IAT_std</th>\n",
              "      <th>Bwd_IAT_max</th>\n",
              "      <th>Bwd_IAT_min</th>\n",
              "      <th>protocol_TCP</th>\n",
              "      <th>protocol_UDP</th>\n",
              "      <th>Predicted_Target</th>\n",
              "    </tr>\n",
              "  </thead>\n",
              "  <tbody>\n",
              "    <tr>\n",
              "      <th>0</th>\n",
              "      <td>fe80::acc:68ff:fe42:391a</td>\n",
              "      <td>0.0</td>\n",
              "      <td>fe80::1e24:cdff:fe81:ac40</td>\n",
              "      <td>0.0</td>\n",
              "      <td>0.0</td>\n",
              "      <td>0</td>\n",
              "      <td>0.0</td>\n",
              "      <td>255.0</td>\n",
              "      <td>0.0</td>\n",
              "      <td>0.0</td>\n",
              "      <td>...</td>\n",
              "      <td>0.000000</td>\n",
              "      <td>0.0</td>\n",
              "      <td>0.0</td>\n",
              "      <td>0.0</td>\n",
              "      <td>0.0</td>\n",
              "      <td>0.0</td>\n",
              "      <td>0.0</td>\n",
              "      <td>False</td>\n",
              "      <td>False</td>\n",
              "      <td>9</td>\n",
              "    </tr>\n",
              "    <tr>\n",
              "      <th>2</th>\n",
              "      <td>0</td>\n",
              "      <td>0.0</td>\n",
              "      <td>0</td>\n",
              "      <td>0.0</td>\n",
              "      <td>0.0</td>\n",
              "      <td>0</td>\n",
              "      <td>0.0</td>\n",
              "      <td>0.0</td>\n",
              "      <td>0.0</td>\n",
              "      <td>0.0</td>\n",
              "      <td>...</td>\n",
              "      <td>0.000000</td>\n",
              "      <td>0.0</td>\n",
              "      <td>0.0</td>\n",
              "      <td>0.0</td>\n",
              "      <td>0.0</td>\n",
              "      <td>0.0</td>\n",
              "      <td>0.0</td>\n",
              "      <td>False</td>\n",
              "      <td>False</td>\n",
              "      <td>9</td>\n",
              "    </tr>\n",
              "    <tr>\n",
              "      <th>3</th>\n",
              "      <td>192.168.1.111</td>\n",
              "      <td>50995.0</td>\n",
              "      <td>192.168.0.23</td>\n",
              "      <td>7680.0</td>\n",
              "      <td>66.0</td>\n",
              "      <td>syn</td>\n",
              "      <td>64240.0</td>\n",
              "      <td>128.0</td>\n",
              "      <td>66.0</td>\n",
              "      <td>0.0</td>\n",
              "      <td>...</td>\n",
              "      <td>8.014908</td>\n",
              "      <td>0.0</td>\n",
              "      <td>0.0</td>\n",
              "      <td>0.0</td>\n",
              "      <td>0.0</td>\n",
              "      <td>0.0</td>\n",
              "      <td>0.0</td>\n",
              "      <td>True</td>\n",
              "      <td>False</td>\n",
              "      <td>9</td>\n",
              "    </tr>\n",
              "    <tr>\n",
              "      <th>5</th>\n",
              "      <td>192.168.1.99</td>\n",
              "      <td>0.0</td>\n",
              "      <td>192.168.1.111</td>\n",
              "      <td>0.0</td>\n",
              "      <td>94.0</td>\n",
              "      <td>0</td>\n",
              "      <td>0.0</td>\n",
              "      <td>255.0</td>\n",
              "      <td>94.0</td>\n",
              "      <td>48.0</td>\n",
              "      <td>...</td>\n",
              "      <td>0.000000</td>\n",
              "      <td>0.0</td>\n",
              "      <td>0.0</td>\n",
              "      <td>0.0</td>\n",
              "      <td>0.0</td>\n",
              "      <td>0.0</td>\n",
              "      <td>0.0</td>\n",
              "      <td>False</td>\n",
              "      <td>False</td>\n",
              "      <td>6</td>\n",
              "    </tr>\n",
              "    <tr>\n",
              "      <th>6</th>\n",
              "      <td>192.168.1.111</td>\n",
              "      <td>50985.0</td>\n",
              "      <td>51.105.71.136</td>\n",
              "      <td>443.0</td>\n",
              "      <td>60.0</td>\n",
              "      <td>ack</td>\n",
              "      <td>515.0</td>\n",
              "      <td>128.0</td>\n",
              "      <td>60.0</td>\n",
              "      <td>0.0</td>\n",
              "      <td>...</td>\n",
              "      <td>0.000035</td>\n",
              "      <td>0.0</td>\n",
              "      <td>0.0</td>\n",
              "      <td>0.0</td>\n",
              "      <td>0.0</td>\n",
              "      <td>0.0</td>\n",
              "      <td>0.0</td>\n",
              "      <td>True</td>\n",
              "      <td>False</td>\n",
              "      <td>9</td>\n",
              "    </tr>\n",
              "  </tbody>\n",
              "</table>\n",
              "<p>5 rows × 79 columns</p>\n",
              "</div>"
            ],
            "text/plain": [
              "                     src_ip  src_port                     dst_ip  dst_port  \\\n",
              "0  fe80::acc:68ff:fe42:391a       0.0  fe80::1e24:cdff:fe81:ac40       0.0   \n",
              "2                         0       0.0                          0       0.0   \n",
              "3             192.168.1.111   50995.0               192.168.0.23    7680.0   \n",
              "5              192.168.1.99       0.0              192.168.1.111       0.0   \n",
              "6             192.168.1.111   50985.0              51.105.71.136     443.0   \n",
              "\n",
              "   packet_length tcp_flags  window_size    ttl  frame_len  dsfield_dscp  ...  \\\n",
              "0            0.0         0          0.0  255.0        0.0           0.0  ...   \n",
              "2            0.0         0          0.0    0.0        0.0           0.0  ...   \n",
              "3           66.0       syn      64240.0  128.0       66.0           0.0  ...   \n",
              "5           94.0         0          0.0  255.0       94.0          48.0  ...   \n",
              "6           60.0       ack        515.0  128.0       60.0           0.0  ...   \n",
              "\n",
              "  Fwd_IAT_max  Fwd_IAT_min  Bwd_IAT_sum  Bwd_IAT_mean  Bwd_IAT_std  \\\n",
              "0    0.000000          0.0          0.0           0.0          0.0   \n",
              "2    0.000000          0.0          0.0           0.0          0.0   \n",
              "3    8.014908          0.0          0.0           0.0          0.0   \n",
              "5    0.000000          0.0          0.0           0.0          0.0   \n",
              "6    0.000035          0.0          0.0           0.0          0.0   \n",
              "\n",
              "   Bwd_IAT_max  Bwd_IAT_min  protocol_TCP  protocol_UDP  Predicted_Target  \n",
              "0          0.0          0.0         False         False                 9  \n",
              "2          0.0          0.0         False         False                 9  \n",
              "3          0.0          0.0          True         False                 9  \n",
              "5          0.0          0.0         False         False                 6  \n",
              "6          0.0          0.0          True         False                 9  \n",
              "\n",
              "[5 rows x 79 columns]"
            ]
          },
          "execution_count": 113,
          "metadata": {},
          "output_type": "execute_result"
        }
      ],
      "source": [
        "wrong_predictions.head()"
      ]
    },
    {
      "cell_type": "code",
      "execution_count": 114,
      "metadata": {
        "id": "vblmFHTjxQdy"
      },
      "outputs": [],
      "source": [
        "df_new['is_correct'] = df_new['target'] == df_new['Predicted_Target']"
      ]
    },
    {
      "cell_type": "code",
      "execution_count": 115,
      "metadata": {
        "id": "0IqQrSxJxT1b"
      },
      "outputs": [],
      "source": [
        "# Group by the true label (i.e., the actual device type)\n",
        "grouped = df_new.groupby('target')"
      ]
    },
    {
      "cell_type": "code",
      "execution_count": 116,
      "metadata": {
        "id": "O6hDE2PHxVC4"
      },
      "outputs": [],
      "source": [
        "accuracy_per_device = {}"
      ]
    },
    {
      "cell_type": "code",
      "execution_count": 117,
      "metadata": {
        "id": "HpH5RB_NxWQc"
      },
      "outputs": [],
      "source": [
        "# Calculate accuracy for each device type\n",
        "for name, group in grouped:\n",
        "    accuracy = accuracy_score(group['target'], group['Predicted_Target'])\n",
        "    accuracy_per_device[name] = accuracy"
      ]
    },
    {
      "cell_type": "code",
      "execution_count": 118,
      "metadata": {
        "colab": {
          "base_uri": "https://localhost:8080/"
        },
        "id": "mzAUhWYMxYB3",
        "outputId": "b36dc4c0-322f-433f-c673-f160dc1af765"
      },
      "outputs": [
        {
          "name": "stdout",
          "output_type": "stream",
          "text": [
            "Accuracy per device type: {'netatmo_cam': 0.007537688442211055, 'netatmo_weather': 0.047619047619047616, 'tp_link_c200': 0.0, 'unknown': 0.0}\n"
          ]
        }
      ],
      "source": [
        "print(\"Accuracy per device type:\", accuracy_per_device)"
      ]
    }
  ],
  "metadata": {
    "colab": {
      "provenance": []
    },
    "kernelspec": {
      "display_name": "Python 3",
      "name": "python3"
    },
    "language_info": {
      "codemirror_mode": {
        "name": "ipython",
        "version": 3
      },
      "file_extension": ".py",
      "mimetype": "text/x-python",
      "name": "python",
      "nbconvert_exporter": "python",
      "pygments_lexer": "ipython3",
      "version": "3.9.13"
    }
  },
  "nbformat": 4,
  "nbformat_minor": 0
}
