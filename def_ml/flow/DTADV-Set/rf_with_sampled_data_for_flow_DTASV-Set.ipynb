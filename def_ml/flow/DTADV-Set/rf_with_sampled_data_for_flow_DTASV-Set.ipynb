{
  "cells": [
    {
      "cell_type": "markdown",
      "metadata": {},
      "source": [
        "Pre Processing Netatmo Weather"
      ]
    },
    {
      "cell_type": "code",
      "execution_count": 1,
      "metadata": {},
      "outputs": [],
      "source": [
        "import pandas as pd\n",
        "import os\n",
        "import numpy as np\n",
        "import pandas as pd\n",
        "from sklearn.ensemble import RandomForestClassifier\n",
        "from sklearn.model_selection import KFold\n",
        "from sklearn.metrics import accuracy_score\n",
        "from sklearn.model_selection import GridSearchCV\n",
        "from sklearn.metrics import accuracy_score\n",
        "import numpy as np\n",
        "from sklearn.model_selection import train_test_split\n",
        "from joblib import dump, load\n",
        "from joblib import dump\n",
        "import pandas as pd\n",
        "import pickle\n",
        "from sklearn.metrics import confusion_matrix"
      ]
    },
    {
      "cell_type": "code",
      "execution_count": 2,
      "metadata": {
        "colab": {
          "base_uri": "https://localhost:8080/"
        },
        "id": "_50vMRw9Y9u3",
        "outputId": "1f4a8ea3-f3ba-4a64-f3db-e05011a3ff26"
      },
      "outputs": [
        {
          "name": "stdout",
          "output_type": "stream",
          "text": [
            "Requirement already satisfied: pandas in c:\\users\\meyer\\documents\\dom_detecter_code\\dom_detecter\\dom_detecter_env\\lib\\site-packages (2.1.0)\n",
            "Requirement already satisfied: openpyxl in c:\\users\\meyer\\documents\\dom_detecter_code\\dom_detecter\\dom_detecter_env\\lib\\site-packages (3.1.2)\n",
            "Requirement already satisfied: tzdata>=2022.1 in c:\\users\\meyer\\documents\\dom_detecter_code\\dom_detecter\\dom_detecter_env\\lib\\site-packages (from pandas) (2023.3)\n",
            "Requirement already satisfied: pytz>=2020.1 in c:\\users\\meyer\\documents\\dom_detecter_code\\dom_detecter\\dom_detecter_env\\lib\\site-packages (from pandas) (2023.3.post1)\n",
            "Requirement already satisfied: numpy>=1.22.4 in c:\\users\\meyer\\documents\\dom_detecter_code\\dom_detecter\\dom_detecter_env\\lib\\site-packages (from pandas) (1.24.3)\n",
            "Requirement already satisfied: python-dateutil>=2.8.2 in c:\\users\\meyer\\documents\\dom_detecter_code\\dom_detecter\\dom_detecter_env\\lib\\site-packages (from pandas) (2.8.2)\n",
            "Requirement already satisfied: et-xmlfile in c:\\users\\meyer\\documents\\dom_detecter_code\\dom_detecter\\dom_detecter_env\\lib\\site-packages (from openpyxl) (1.1.0)\n",
            "Requirement already satisfied: six>=1.5 in c:\\users\\meyer\\documents\\dom_detecter_code\\dom_detecter\\dom_detecter_env\\lib\\site-packages (from python-dateutil>=2.8.2->pandas) (1.16.0)\n",
            "Note: you may need to restart the kernel to use updated packages.\n"
          ]
        },
        {
          "name": "stderr",
          "output_type": "stream",
          "text": [
            "WARNING: You are using pip version 22.0.4; however, version 23.3.1 is available.\n",
            "You should consider upgrading via the 'c:\\Users\\Meyer\\Documents\\Dom_Detecter_Code\\Dom_Detecter\\dom_detecter_env\\Scripts\\python.exe -m pip install --upgrade pip' command.\n"
          ]
        }
      ],
      "source": [
        "%pip install pandas openpyxl"
      ]
    },
    {
      "cell_type": "code",
      "execution_count": 3,
      "metadata": {},
      "outputs": [],
      "source": [
        "directory = r'C:\\Users\\Meyer\\Documents\\Dom_Detecter\\own_data\\DTADSV-S\\csv'\n",
        "all_files = [f for f in os.listdir(directory) if os.path.isfile(os.path.join(directory, f))]"
      ]
    },
    {
      "cell_type": "code",
      "execution_count": 4,
      "metadata": {},
      "outputs": [],
      "source": [
        "list_of_dataframes = [pd.read_csv(os.path.join(directory, f)) for f in all_files]\n",
        "merged_dataframe = pd.concat(list_of_dataframes, ignore_index=True)"
      ]
    },
    {
      "cell_type": "code",
      "execution_count": 5,
      "metadata": {},
      "outputs": [],
      "source": [
        "df_merged = merged_dataframe"
      ]
    },
    {
      "cell_type": "code",
      "execution_count": 6,
      "metadata": {},
      "outputs": [],
      "source": [
        "# Read the mapping DataFrame from Excel\n",
        "mapping_df = pd.read_excel(r'C:\\Users\\Meyer\\Documents\\Dom_Detecter\\own_data\\DTADSV-S\\mapping.xlsx', engine='openpyxl')"
      ]
    },
    {
      "cell_type": "code",
      "execution_count": 7,
      "metadata": {},
      "outputs": [],
      "source": [
        "# Create a mapping dictionary\n",
        "mapping_dict = dict(zip(mapping_df.src_ip, mapping_df.target))"
      ]
    },
    {
      "cell_type": "code",
      "execution_count": 8,
      "metadata": {},
      "outputs": [],
      "source": [
        "# Apply the mapping to the 'packet_eth_src' column in df_merged\n",
        "df_merged['target'] = df_merged['src_ip'].map(mapping_dict)\n",
        "\n",
        "# Fill any NaN values with 'unknown'\n",
        "df_merged['target'] = df_merged['target'].fillna('unknown')"
      ]
    },
    {
      "cell_type": "code",
      "execution_count": 9,
      "metadata": {},
      "outputs": [],
      "source": [
        "flow_counts = df_merged.groupby('target')['Flow'].nunique()"
      ]
    },
    {
      "cell_type": "code",
      "execution_count": 10,
      "metadata": {},
      "outputs": [
        {
          "name": "stdout",
          "output_type": "stream",
          "text": [
            "Number of packets for each target:\n",
            "target\n",
            "unknown            3603642\n",
            "tp_link_c200         52627\n",
            "netatmo_cam          26126\n",
            "netatmo_weather       1340\n",
            "Name: count, dtype: int64\n"
          ]
        }
      ],
      "source": [
        "# Count the number of packets for each target and print it\n",
        "target_counts = df_merged['target'].value_counts()\n",
        "print(\"Number of packets for each target:\")\n",
        "print(target_counts)"
      ]
    },
    {
      "cell_type": "code",
      "execution_count": 11,
      "metadata": {},
      "outputs": [],
      "source": [
        "df = df_merged"
      ]
    },
    {
      "cell_type": "code",
      "execution_count": 12,
      "metadata": {},
      "outputs": [],
      "source": [
        "        df.replace('N/A', np.nan, inplace=True)\n",
        "        df['Start_Time'] = pd.to_datetime(df['Start_Time'])\n",
        "        df['End_Time'] = pd.to_datetime(df['End_Time'])\n",
        "        df['Flow_Duration'] = (df['End_Time'] - df['Start_Time']).dt.total_seconds()\n",
        "\n",
        "        df['Flow_Bytes/s'] = df['Flow_Volume'] / df['Flow_Duration']\n",
        "        df['Flow_Packets/s'] = df['Packet_Count'] / df['Flow_Duration']\n",
        "\n",
        "        df.loc[df['Total_Fwd_Packets'] > 0, 'Fwd_IAT'] = df['Inter_Arrival_Time']\n",
        "        df.loc[df['Total_Bwd_Packets'] > 0, 'Bwd_IAT'] = df['Inter_Arrival_Time']\n",
        "\n",
        "        feature_df = df.groupby('Flow').agg({\n",
        "            'Inter_Arrival_Time': ['mean', 'std', 'max', 'min'],\n",
        "            'Total_Fwd_Packets': ['sum'],\n",
        "            'Total_Bwd_Packets': ['sum'],\n",
        "            'Fwd_Packet_Length_Total': ['max', 'min', 'mean', 'std'],\n",
        "            'Bwd_Packet_Length_Total': ['max', 'min', 'mean', 'std'],\n",
        "            'Flow_Bytes/s': ['mean'],\n",
        "            'Flow_Packets/s': ['mean'],\n",
        "            'packet_length': ['min', 'max', 'mean', 'std', 'var'],\n",
        "            'Fwd_IAT': ['sum', 'mean', 'std', 'max', 'min'],\n",
        "            'Bwd_IAT': ['sum', 'mean', 'std', 'max', 'min'],\n",
        "        })"
      ]
    },
    {
      "cell_type": "code",
      "execution_count": 13,
      "metadata": {},
      "outputs": [
        {
          "name": "stdout",
          "output_type": "stream",
          "text": [
            "Columns in df:  Index(['idx', 'protocol', 'src_ip', 'src_port', 'dst_ip', 'dst_port',\n",
            "       'packet_length', 'tcp_flags', 'window_size', 'ttl', 'frame_len',\n",
            "       'dsfield_dscp', 'app_layer_protocol', 'dsfield_ecn', 'flags_df',\n",
            "       'flags_mf', 'ip_hdr_len', 'ip_id', 'ip_len', 'udp_src_port',\n",
            "       'udp_dst_port', 'udp_length', 'udp_checksum_status', 'packet_eth_src',\n",
            "       'flow_label', 'traffic_class', 'next_header', 'payload_len',\n",
            "       'packet.sniff_timestamp', 'Flow', 'Packet_Count', 'Start_Time',\n",
            "       'End_Time', 'Duration', 'Flow_Volume', 'Flow_Rate',\n",
            "       'Inter_Arrival_Time', 'Total_Fwd_Packets', 'Total_Bwd_Packets',\n",
            "       'Fwd_Packet_Length_Total', 'Bwd_Packet_Length_Total', 'target',\n",
            "       'Flow_Duration', 'Flow_Bytes/s', 'Flow_Packets/s', 'Fwd_IAT',\n",
            "       'Bwd_IAT'],\n",
            "      dtype='object')\n",
            "Columns in feature_df:  MultiIndex([(     'Inter_Arrival_Time', 'mean'),\n",
            "            (     'Inter_Arrival_Time',  'std'),\n",
            "            (     'Inter_Arrival_Time',  'max'),\n",
            "            (     'Inter_Arrival_Time',  'min'),\n",
            "            (      'Total_Fwd_Packets',  'sum'),\n",
            "            (      'Total_Bwd_Packets',  'sum'),\n",
            "            ('Fwd_Packet_Length_Total',  'max'),\n",
            "            ('Fwd_Packet_Length_Total',  'min'),\n",
            "            ('Fwd_Packet_Length_Total', 'mean'),\n",
            "            ('Fwd_Packet_Length_Total',  'std'),\n",
            "            ('Bwd_Packet_Length_Total',  'max'),\n",
            "            ('Bwd_Packet_Length_Total',  'min'),\n",
            "            ('Bwd_Packet_Length_Total', 'mean'),\n",
            "            ('Bwd_Packet_Length_Total',  'std'),\n",
            "            (           'Flow_Bytes/s', 'mean'),\n",
            "            (         'Flow_Packets/s', 'mean'),\n",
            "            (          'packet_length',  'min'),\n",
            "            (          'packet_length',  'max'),\n",
            "            (          'packet_length', 'mean'),\n",
            "            (          'packet_length',  'std'),\n",
            "            (          'packet_length',  'var'),\n",
            "            (                'Fwd_IAT',  'sum'),\n",
            "            (                'Fwd_IAT', 'mean'),\n",
            "            (                'Fwd_IAT',  'std'),\n",
            "            (                'Fwd_IAT',  'max'),\n",
            "            (                'Fwd_IAT',  'min'),\n",
            "            (                'Bwd_IAT',  'sum'),\n",
            "            (                'Bwd_IAT', 'mean'),\n",
            "            (                'Bwd_IAT',  'std'),\n",
            "            (                'Bwd_IAT',  'max'),\n",
            "            (                'Bwd_IAT',  'min')],\n",
            "           )\n"
          ]
        }
      ],
      "source": [
        "print(\"Columns in df: \", df.columns)\n",
        "print(\"Columns in feature_df: \", feature_df.columns)"
      ]
    },
    {
      "cell_type": "code",
      "execution_count": 14,
      "metadata": {},
      "outputs": [],
      "source": [
        "# Adjust column names and merge\n",
        "feature_df.columns = ['_'.join(col) for col in feature_df.columns]\n",
        "feature_df.reset_index(inplace=True)\n",
        "df = pd.merge(df, feature_df, on='Flow', how='left')"
      ]
    },
    {
      "cell_type": "markdown",
      "metadata": {},
      "source": [
        "-------------------------------------------------------------------------------------------"
      ]
    },
    {
      "cell_type": "markdown",
      "metadata": {
        "id": "d1x6sivPGP3R"
      },
      "source": [
        "### **DTV-Set**"
      ]
    },
    {
      "cell_type": "code",
      "execution_count": 15,
      "metadata": {
        "id": "cnI70J-fOt-m"
      },
      "outputs": [],
      "source": [
        "clf = load(r'C:\\Users\\Meyer\\Documents\\Dom_Detecter\\def_ml\\rf_trained_model.joblib')"
      ]
    },
    {
      "cell_type": "code",
      "execution_count": 16,
      "metadata": {},
      "outputs": [],
      "source": [
        "df_new = df"
      ]
    },
    {
      "cell_type": "code",
      "execution_count": 17,
      "metadata": {},
      "outputs": [
        {
          "data": {
            "text/html": [
              "<div>\n",
              "<style scoped>\n",
              "    .dataframe tbody tr th:only-of-type {\n",
              "        vertical-align: middle;\n",
              "    }\n",
              "\n",
              "    .dataframe tbody tr th {\n",
              "        vertical-align: top;\n",
              "    }\n",
              "\n",
              "    .dataframe thead th {\n",
              "        text-align: right;\n",
              "    }\n",
              "</style>\n",
              "<table border=\"1\" class=\"dataframe\">\n",
              "  <thead>\n",
              "    <tr style=\"text-align: right;\">\n",
              "      <th></th>\n",
              "      <th>idx</th>\n",
              "      <th>protocol</th>\n",
              "      <th>src_ip</th>\n",
              "      <th>src_port</th>\n",
              "      <th>dst_ip</th>\n",
              "      <th>dst_port</th>\n",
              "      <th>packet_length</th>\n",
              "      <th>tcp_flags</th>\n",
              "      <th>window_size</th>\n",
              "      <th>ttl</th>\n",
              "      <th>...</th>\n",
              "      <th>Fwd_IAT_sum</th>\n",
              "      <th>Fwd_IAT_mean</th>\n",
              "      <th>Fwd_IAT_std</th>\n",
              "      <th>Fwd_IAT_max</th>\n",
              "      <th>Fwd_IAT_min</th>\n",
              "      <th>Bwd_IAT_sum</th>\n",
              "      <th>Bwd_IAT_mean</th>\n",
              "      <th>Bwd_IAT_std</th>\n",
              "      <th>Bwd_IAT_max</th>\n",
              "      <th>Bwd_IAT_min</th>\n",
              "    </tr>\n",
              "  </thead>\n",
              "  <tbody>\n",
              "    <tr>\n",
              "      <th>3683730</th>\n",
              "      <td>1562</td>\n",
              "      <td>TCP</td>\n",
              "      <td>154.52.17.92</td>\n",
              "      <td>443.0</td>\n",
              "      <td>192.168.1.99</td>\n",
              "      <td>8094.0</td>\n",
              "      <td>1308.0</td>\n",
              "      <td>ack</td>\n",
              "      <td>35840.0</td>\n",
              "      <td>51.0</td>\n",
              "      <td>...</td>\n",
              "      <td>0.703296</td>\n",
              "      <td>0.04137</td>\n",
              "      <td>0.068393</td>\n",
              "      <td>0.165497</td>\n",
              "      <td>0.0</td>\n",
              "      <td>0.703296</td>\n",
              "      <td>0.04137</td>\n",
              "      <td>0.068393</td>\n",
              "      <td>0.165497</td>\n",
              "      <td>0.0</td>\n",
              "    </tr>\n",
              "    <tr>\n",
              "      <th>3683731</th>\n",
              "      <td>1563</td>\n",
              "      <td>TCP</td>\n",
              "      <td>192.168.1.99</td>\n",
              "      <td>8094.0</td>\n",
              "      <td>154.52.17.92</td>\n",
              "      <td>443.0</td>\n",
              "      <td>66.0</td>\n",
              "      <td>ack</td>\n",
              "      <td>26192.0</td>\n",
              "      <td>64.0</td>\n",
              "      <td>...</td>\n",
              "      <td>0.703296</td>\n",
              "      <td>0.04137</td>\n",
              "      <td>0.068393</td>\n",
              "      <td>0.165497</td>\n",
              "      <td>0.0</td>\n",
              "      <td>0.703296</td>\n",
              "      <td>0.04137</td>\n",
              "      <td>0.068393</td>\n",
              "      <td>0.165497</td>\n",
              "      <td>0.0</td>\n",
              "    </tr>\n",
              "    <tr>\n",
              "      <th>3683732</th>\n",
              "      <td>1564</td>\n",
              "      <td>TCP</td>\n",
              "      <td>192.168.1.99</td>\n",
              "      <td>8094.0</td>\n",
              "      <td>154.52.17.92</td>\n",
              "      <td>443.0</td>\n",
              "      <td>375.0</td>\n",
              "      <td>ack</td>\n",
              "      <td>26192.0</td>\n",
              "      <td>64.0</td>\n",
              "      <td>...</td>\n",
              "      <td>0.703296</td>\n",
              "      <td>0.04137</td>\n",
              "      <td>0.068393</td>\n",
              "      <td>0.165497</td>\n",
              "      <td>0.0</td>\n",
              "      <td>0.703296</td>\n",
              "      <td>0.04137</td>\n",
              "      <td>0.068393</td>\n",
              "      <td>0.165497</td>\n",
              "      <td>0.0</td>\n",
              "    </tr>\n",
              "    <tr>\n",
              "      <th>3683733</th>\n",
              "      <td>1565</td>\n",
              "      <td>TCP</td>\n",
              "      <td>154.52.17.92</td>\n",
              "      <td>443.0</td>\n",
              "      <td>192.168.1.99</td>\n",
              "      <td>8094.0</td>\n",
              "      <td>66.0</td>\n",
              "      <td>ack</td>\n",
              "      <td>38912.0</td>\n",
              "      <td>51.0</td>\n",
              "      <td>...</td>\n",
              "      <td>0.703296</td>\n",
              "      <td>0.04137</td>\n",
              "      <td>0.068393</td>\n",
              "      <td>0.165497</td>\n",
              "      <td>0.0</td>\n",
              "      <td>0.703296</td>\n",
              "      <td>0.04137</td>\n",
              "      <td>0.068393</td>\n",
              "      <td>0.165497</td>\n",
              "      <td>0.0</td>\n",
              "    </tr>\n",
              "    <tr>\n",
              "      <th>3683734</th>\n",
              "      <td>1566</td>\n",
              "      <td>TCP</td>\n",
              "      <td>192.168.1.99</td>\n",
              "      <td>8094.0</td>\n",
              "      <td>154.52.17.92</td>\n",
              "      <td>443.0</td>\n",
              "      <td>455.0</td>\n",
              "      <td>ack</td>\n",
              "      <td>26192.0</td>\n",
              "      <td>64.0</td>\n",
              "      <td>...</td>\n",
              "      <td>0.703296</td>\n",
              "      <td>0.04137</td>\n",
              "      <td>0.068393</td>\n",
              "      <td>0.165497</td>\n",
              "      <td>0.0</td>\n",
              "      <td>0.703296</td>\n",
              "      <td>0.04137</td>\n",
              "      <td>0.068393</td>\n",
              "      <td>0.165497</td>\n",
              "      <td>0.0</td>\n",
              "    </tr>\n",
              "  </tbody>\n",
              "</table>\n",
              "<p>5 rows × 78 columns</p>\n",
              "</div>"
            ],
            "text/plain": [
              "          idx protocol        src_ip  src_port        dst_ip  dst_port  \\\n",
              "3683730  1562      TCP  154.52.17.92     443.0  192.168.1.99    8094.0   \n",
              "3683731  1563      TCP  192.168.1.99    8094.0  154.52.17.92     443.0   \n",
              "3683732  1564      TCP  192.168.1.99    8094.0  154.52.17.92     443.0   \n",
              "3683733  1565      TCP  154.52.17.92     443.0  192.168.1.99    8094.0   \n",
              "3683734  1566      TCP  192.168.1.99    8094.0  154.52.17.92     443.0   \n",
              "\n",
              "         packet_length tcp_flags  window_size   ttl  ...  Fwd_IAT_sum  \\\n",
              "3683730         1308.0       ack      35840.0  51.0  ...     0.703296   \n",
              "3683731           66.0       ack      26192.0  64.0  ...     0.703296   \n",
              "3683732          375.0       ack      26192.0  64.0  ...     0.703296   \n",
              "3683733           66.0       ack      38912.0  51.0  ...     0.703296   \n",
              "3683734          455.0       ack      26192.0  64.0  ...     0.703296   \n",
              "\n",
              "         Fwd_IAT_mean Fwd_IAT_std  Fwd_IAT_max  Fwd_IAT_min  Bwd_IAT_sum  \\\n",
              "3683730       0.04137    0.068393     0.165497          0.0     0.703296   \n",
              "3683731       0.04137    0.068393     0.165497          0.0     0.703296   \n",
              "3683732       0.04137    0.068393     0.165497          0.0     0.703296   \n",
              "3683733       0.04137    0.068393     0.165497          0.0     0.703296   \n",
              "3683734       0.04137    0.068393     0.165497          0.0     0.703296   \n",
              "\n",
              "         Bwd_IAT_mean Bwd_IAT_std  Bwd_IAT_max  Bwd_IAT_min  \n",
              "3683730       0.04137    0.068393     0.165497          0.0  \n",
              "3683731       0.04137    0.068393     0.165497          0.0  \n",
              "3683732       0.04137    0.068393     0.165497          0.0  \n",
              "3683733       0.04137    0.068393     0.165497          0.0  \n",
              "3683734       0.04137    0.068393     0.165497          0.0  \n",
              "\n",
              "[5 rows x 78 columns]"
            ]
          },
          "execution_count": 17,
          "metadata": {},
          "output_type": "execute_result"
        }
      ],
      "source": [
        "df_new.tail()"
      ]
    },
    {
      "cell_type": "code",
      "execution_count": 18,
      "metadata": {
        "colab": {
          "base_uri": "https://localhost:8080/"
        },
        "id": "gphkgEU2zZlP",
        "outputId": "fb949297-edc0-4d8b-c061-d1ce5df461b8"
      },
      "outputs": [
        {
          "name": "stdout",
          "output_type": "stream",
          "text": [
            "Number of packets for each target:\n",
            "target\n",
            "unknown            3603642\n",
            "tp_link_c200         52627\n",
            "netatmo_cam          26126\n",
            "netatmo_weather       1340\n",
            "Name: count, dtype: int64\n"
          ]
        }
      ],
      "source": [
        "# Count the number of packets for each target\n",
        "target_counts = df_new['target'].value_counts()\n",
        "\n",
        "# Print the counts\n",
        "print(\"Number of packets for each target:\")\n",
        "print(target_counts)"
      ]
    },
    {
      "cell_type": "code",
      "execution_count": 19,
      "metadata": {},
      "outputs": [],
      "source": [
        "# Drop duplicate rows based on the 'Flow' column, keeping only the first occurrence\n",
        "df_new = df_new.drop_duplicates(subset=['Flow'], keep='first')"
      ]
    },
    {
      "cell_type": "code",
      "execution_count": 20,
      "metadata": {},
      "outputs": [
        {
          "name": "stdout",
          "output_type": "stream",
          "text": [
            "Number of packets for each target:\n",
            "target\n",
            "unknown            50566\n",
            "tp_link_c200        4138\n",
            "netatmo_cam          398\n",
            "netatmo_weather       63\n",
            "Name: count, dtype: int64\n"
          ]
        }
      ],
      "source": [
        "# Count the number of packets for each target\n",
        "target_counts = df_new['target'].value_counts()\n",
        "\n",
        "# Print the counts\n",
        "print(\"Number of packets for each target:\")\n",
        "print(target_counts)"
      ]
    },
    {
      "cell_type": "code",
      "execution_count": 21,
      "metadata": {
        "id": "OlCRl4axUCIt"
      },
      "outputs": [],
      "source": [
        "df_new = pd.get_dummies(df_new, columns=['protocol'])"
      ]
    },
    {
      "cell_type": "code",
      "execution_count": 22,
      "metadata": {
        "id": "ff6O5hiOT_xR"
      },
      "outputs": [],
      "source": [
        "df_new['ip_id'] = df_new['ip_id'].apply(lambda x: int(x, 16) if isinstance(x, str) else x)"
      ]
    },
    {
      "cell_type": "code",
      "execution_count": 23,
      "metadata": {
        "id": "Ki9lYDfKO-ol"
      },
      "outputs": [],
      "source": [
        "df_new = df_new.fillna(0)"
      ]
    },
    {
      "cell_type": "code",
      "execution_count": 24,
      "metadata": {},
      "outputs": [
        {
          "data": {
            "text/html": [
              "<div>\n",
              "<style scoped>\n",
              "    .dataframe tbody tr th:only-of-type {\n",
              "        vertical-align: middle;\n",
              "    }\n",
              "\n",
              "    .dataframe tbody tr th {\n",
              "        vertical-align: top;\n",
              "    }\n",
              "\n",
              "    .dataframe thead th {\n",
              "        text-align: right;\n",
              "    }\n",
              "</style>\n",
              "<table border=\"1\" class=\"dataframe\">\n",
              "  <thead>\n",
              "    <tr style=\"text-align: right;\">\n",
              "      <th></th>\n",
              "      <th>idx</th>\n",
              "      <th>src_ip</th>\n",
              "      <th>src_port</th>\n",
              "      <th>dst_ip</th>\n",
              "      <th>dst_port</th>\n",
              "      <th>packet_length</th>\n",
              "      <th>tcp_flags</th>\n",
              "      <th>window_size</th>\n",
              "      <th>ttl</th>\n",
              "      <th>frame_len</th>\n",
              "      <th>...</th>\n",
              "      <th>Fwd_IAT_std</th>\n",
              "      <th>Fwd_IAT_max</th>\n",
              "      <th>Fwd_IAT_min</th>\n",
              "      <th>Bwd_IAT_sum</th>\n",
              "      <th>Bwd_IAT_mean</th>\n",
              "      <th>Bwd_IAT_std</th>\n",
              "      <th>Bwd_IAT_max</th>\n",
              "      <th>Bwd_IAT_min</th>\n",
              "      <th>protocol_TCP</th>\n",
              "      <th>protocol_UDP</th>\n",
              "    </tr>\n",
              "  </thead>\n",
              "  <tbody>\n",
              "    <tr>\n",
              "      <th>3683553</th>\n",
              "      <td>1385</td>\n",
              "      <td>192.168.1.112</td>\n",
              "      <td>60816.0</td>\n",
              "      <td>208.91.112.53</td>\n",
              "      <td>53.0</td>\n",
              "      <td>66.0</td>\n",
              "      <td>syn</td>\n",
              "      <td>64240.0</td>\n",
              "      <td>128.0</td>\n",
              "      <td>66.0</td>\n",
              "      <td>...</td>\n",
              "      <td>0.005893</td>\n",
              "      <td>0.014769</td>\n",
              "      <td>0.0</td>\n",
              "      <td>0.000000</td>\n",
              "      <td>0.00000</td>\n",
              "      <td>0.000000</td>\n",
              "      <td>0.000000</td>\n",
              "      <td>0.0</td>\n",
              "      <td>True</td>\n",
              "      <td>False</td>\n",
              "    </tr>\n",
              "    <tr>\n",
              "      <th>3683555</th>\n",
              "      <td>1387</td>\n",
              "      <td>192.168.1.112</td>\n",
              "      <td>60817.0</td>\n",
              "      <td>208.91.112.53</td>\n",
              "      <td>53.0</td>\n",
              "      <td>66.0</td>\n",
              "      <td>syn</td>\n",
              "      <td>64240.0</td>\n",
              "      <td>128.0</td>\n",
              "      <td>66.0</td>\n",
              "      <td>...</td>\n",
              "      <td>0.006364</td>\n",
              "      <td>0.014854</td>\n",
              "      <td>0.0</td>\n",
              "      <td>0.000000</td>\n",
              "      <td>0.00000</td>\n",
              "      <td>0.000000</td>\n",
              "      <td>0.000000</td>\n",
              "      <td>0.0</td>\n",
              "      <td>True</td>\n",
              "      <td>False</td>\n",
              "    </tr>\n",
              "    <tr>\n",
              "      <th>3683602</th>\n",
              "      <td>1434</td>\n",
              "      <td>192.168.1.112</td>\n",
              "      <td>60822.0</td>\n",
              "      <td>208.91.112.53</td>\n",
              "      <td>53.0</td>\n",
              "      <td>66.0</td>\n",
              "      <td>syn</td>\n",
              "      <td>64240.0</td>\n",
              "      <td>128.0</td>\n",
              "      <td>66.0</td>\n",
              "      <td>...</td>\n",
              "      <td>0.006495</td>\n",
              "      <td>0.018601</td>\n",
              "      <td>0.0</td>\n",
              "      <td>0.000000</td>\n",
              "      <td>0.00000</td>\n",
              "      <td>0.000000</td>\n",
              "      <td>0.000000</td>\n",
              "      <td>0.0</td>\n",
              "      <td>True</td>\n",
              "      <td>False</td>\n",
              "    </tr>\n",
              "    <tr>\n",
              "      <th>3683656</th>\n",
              "      <td>1488</td>\n",
              "      <td>192.168.1.112</td>\n",
              "      <td>60826.0</td>\n",
              "      <td>208.91.112.53</td>\n",
              "      <td>53.0</td>\n",
              "      <td>66.0</td>\n",
              "      <td>syn</td>\n",
              "      <td>64240.0</td>\n",
              "      <td>128.0</td>\n",
              "      <td>66.0</td>\n",
              "      <td>...</td>\n",
              "      <td>0.005478</td>\n",
              "      <td>0.012971</td>\n",
              "      <td>0.0</td>\n",
              "      <td>0.000000</td>\n",
              "      <td>0.00000</td>\n",
              "      <td>0.000000</td>\n",
              "      <td>0.000000</td>\n",
              "      <td>0.0</td>\n",
              "      <td>True</td>\n",
              "      <td>False</td>\n",
              "    </tr>\n",
              "    <tr>\n",
              "      <th>3683716</th>\n",
              "      <td>1548</td>\n",
              "      <td>192.168.1.99</td>\n",
              "      <td>8094.0</td>\n",
              "      <td>154.52.17.92</td>\n",
              "      <td>443.0</td>\n",
              "      <td>74.0</td>\n",
              "      <td>syn</td>\n",
              "      <td>14600.0</td>\n",
              "      <td>64.0</td>\n",
              "      <td>74.0</td>\n",
              "      <td>...</td>\n",
              "      <td>0.068393</td>\n",
              "      <td>0.165497</td>\n",
              "      <td>0.0</td>\n",
              "      <td>0.703296</td>\n",
              "      <td>0.04137</td>\n",
              "      <td>0.068393</td>\n",
              "      <td>0.165497</td>\n",
              "      <td>0.0</td>\n",
              "      <td>True</td>\n",
              "      <td>False</td>\n",
              "    </tr>\n",
              "  </tbody>\n",
              "</table>\n",
              "<p>5 rows × 79 columns</p>\n",
              "</div>"
            ],
            "text/plain": [
              "          idx         src_ip  src_port         dst_ip  dst_port  \\\n",
              "3683553  1385  192.168.1.112   60816.0  208.91.112.53      53.0   \n",
              "3683555  1387  192.168.1.112   60817.0  208.91.112.53      53.0   \n",
              "3683602  1434  192.168.1.112   60822.0  208.91.112.53      53.0   \n",
              "3683656  1488  192.168.1.112   60826.0  208.91.112.53      53.0   \n",
              "3683716  1548   192.168.1.99    8094.0   154.52.17.92     443.0   \n",
              "\n",
              "         packet_length tcp_flags  window_size    ttl  frame_len  ...  \\\n",
              "3683553           66.0       syn      64240.0  128.0       66.0  ...   \n",
              "3683555           66.0       syn      64240.0  128.0       66.0  ...   \n",
              "3683602           66.0       syn      64240.0  128.0       66.0  ...   \n",
              "3683656           66.0       syn      64240.0  128.0       66.0  ...   \n",
              "3683716           74.0       syn      14600.0   64.0       74.0  ...   \n",
              "\n",
              "         Fwd_IAT_std Fwd_IAT_max  Fwd_IAT_min  Bwd_IAT_sum  Bwd_IAT_mean  \\\n",
              "3683553     0.005893    0.014769          0.0     0.000000       0.00000   \n",
              "3683555     0.006364    0.014854          0.0     0.000000       0.00000   \n",
              "3683602     0.006495    0.018601          0.0     0.000000       0.00000   \n",
              "3683656     0.005478    0.012971          0.0     0.000000       0.00000   \n",
              "3683716     0.068393    0.165497          0.0     0.703296       0.04137   \n",
              "\n",
              "         Bwd_IAT_std  Bwd_IAT_max  Bwd_IAT_min  protocol_TCP  protocol_UDP  \n",
              "3683553     0.000000     0.000000          0.0          True         False  \n",
              "3683555     0.000000     0.000000          0.0          True         False  \n",
              "3683602     0.000000     0.000000          0.0          True         False  \n",
              "3683656     0.000000     0.000000          0.0          True         False  \n",
              "3683716     0.068393     0.165497          0.0          True         False  \n",
              "\n",
              "[5 rows x 79 columns]"
            ]
          },
          "execution_count": 24,
          "metadata": {},
          "output_type": "execute_result"
        }
      ],
      "source": [
        "df_new.tail()"
      ]
    },
    {
      "cell_type": "code",
      "execution_count": 25,
      "metadata": {
        "id": "qzk9QI2RPHSQ"
      },
      "outputs": [],
      "source": [
        "from joblib import load\n",
        "import pandas as pd\n",
        "\n",
        "# Load reference headers\n",
        "ref_headers = load(r'C:\\Users\\Meyer\\Documents\\Dom_Detecter\\def_ml\\flow\\rf\\rf_reference_header.joblib')\n",
        "\n",
        "current_headers = df_new.columns\n",
        "\n",
        "missing_headers = [col for col in ref_headers if col not in current_headers]\n",
        "\n",
        "# Create a DataFrame containing the missing columns initialized to 0\n",
        "df_missing = pd.DataFrame(0, index=df_new.index, columns=missing_headers)\n",
        "\n",
        "# Concatenate the original and the new DataFrame along the columns\n",
        "df_new = pd.concat([df_new, df_missing], axis=1)\n",
        "\n",
        "# Reorder the DataFrame according to ref_headers\n",
        "df_new = df_new[ref_headers]\n"
      ]
    },
    {
      "cell_type": "code",
      "execution_count": 26,
      "metadata": {},
      "outputs": [
        {
          "data": {
            "text/html": [
              "<div>\n",
              "<style scoped>\n",
              "    .dataframe tbody tr th:only-of-type {\n",
              "        vertical-align: middle;\n",
              "    }\n",
              "\n",
              "    .dataframe tbody tr th {\n",
              "        vertical-align: top;\n",
              "    }\n",
              "\n",
              "    .dataframe thead th {\n",
              "        text-align: right;\n",
              "    }\n",
              "</style>\n",
              "<table border=\"1\" class=\"dataframe\">\n",
              "  <thead>\n",
              "    <tr style=\"text-align: right;\">\n",
              "      <th></th>\n",
              "      <th>src_ip</th>\n",
              "      <th>src_port</th>\n",
              "      <th>dst_ip</th>\n",
              "      <th>dst_port</th>\n",
              "      <th>packet_length</th>\n",
              "      <th>tcp_flags</th>\n",
              "      <th>window_size</th>\n",
              "      <th>ttl</th>\n",
              "      <th>frame_len</th>\n",
              "      <th>dsfield_dscp</th>\n",
              "      <th>...</th>\n",
              "      <th>Fwd_IAT_std</th>\n",
              "      <th>Fwd_IAT_max</th>\n",
              "      <th>Fwd_IAT_min</th>\n",
              "      <th>Bwd_IAT_sum</th>\n",
              "      <th>Bwd_IAT_mean</th>\n",
              "      <th>Bwd_IAT_std</th>\n",
              "      <th>Bwd_IAT_max</th>\n",
              "      <th>Bwd_IAT_min</th>\n",
              "      <th>protocol_TCP</th>\n",
              "      <th>protocol_UDP</th>\n",
              "    </tr>\n",
              "  </thead>\n",
              "  <tbody>\n",
              "    <tr>\n",
              "      <th>3683553</th>\n",
              "      <td>192.168.1.112</td>\n",
              "      <td>60816.0</td>\n",
              "      <td>208.91.112.53</td>\n",
              "      <td>53.0</td>\n",
              "      <td>66.0</td>\n",
              "      <td>syn</td>\n",
              "      <td>64240.0</td>\n",
              "      <td>128.0</td>\n",
              "      <td>66.0</td>\n",
              "      <td>0.0</td>\n",
              "      <td>...</td>\n",
              "      <td>0.005893</td>\n",
              "      <td>0.014769</td>\n",
              "      <td>0.0</td>\n",
              "      <td>0.000000</td>\n",
              "      <td>0.00000</td>\n",
              "      <td>0.000000</td>\n",
              "      <td>0.000000</td>\n",
              "      <td>0.0</td>\n",
              "      <td>True</td>\n",
              "      <td>False</td>\n",
              "    </tr>\n",
              "    <tr>\n",
              "      <th>3683555</th>\n",
              "      <td>192.168.1.112</td>\n",
              "      <td>60817.0</td>\n",
              "      <td>208.91.112.53</td>\n",
              "      <td>53.0</td>\n",
              "      <td>66.0</td>\n",
              "      <td>syn</td>\n",
              "      <td>64240.0</td>\n",
              "      <td>128.0</td>\n",
              "      <td>66.0</td>\n",
              "      <td>0.0</td>\n",
              "      <td>...</td>\n",
              "      <td>0.006364</td>\n",
              "      <td>0.014854</td>\n",
              "      <td>0.0</td>\n",
              "      <td>0.000000</td>\n",
              "      <td>0.00000</td>\n",
              "      <td>0.000000</td>\n",
              "      <td>0.000000</td>\n",
              "      <td>0.0</td>\n",
              "      <td>True</td>\n",
              "      <td>False</td>\n",
              "    </tr>\n",
              "    <tr>\n",
              "      <th>3683602</th>\n",
              "      <td>192.168.1.112</td>\n",
              "      <td>60822.0</td>\n",
              "      <td>208.91.112.53</td>\n",
              "      <td>53.0</td>\n",
              "      <td>66.0</td>\n",
              "      <td>syn</td>\n",
              "      <td>64240.0</td>\n",
              "      <td>128.0</td>\n",
              "      <td>66.0</td>\n",
              "      <td>0.0</td>\n",
              "      <td>...</td>\n",
              "      <td>0.006495</td>\n",
              "      <td>0.018601</td>\n",
              "      <td>0.0</td>\n",
              "      <td>0.000000</td>\n",
              "      <td>0.00000</td>\n",
              "      <td>0.000000</td>\n",
              "      <td>0.000000</td>\n",
              "      <td>0.0</td>\n",
              "      <td>True</td>\n",
              "      <td>False</td>\n",
              "    </tr>\n",
              "    <tr>\n",
              "      <th>3683656</th>\n",
              "      <td>192.168.1.112</td>\n",
              "      <td>60826.0</td>\n",
              "      <td>208.91.112.53</td>\n",
              "      <td>53.0</td>\n",
              "      <td>66.0</td>\n",
              "      <td>syn</td>\n",
              "      <td>64240.0</td>\n",
              "      <td>128.0</td>\n",
              "      <td>66.0</td>\n",
              "      <td>0.0</td>\n",
              "      <td>...</td>\n",
              "      <td>0.005478</td>\n",
              "      <td>0.012971</td>\n",
              "      <td>0.0</td>\n",
              "      <td>0.000000</td>\n",
              "      <td>0.00000</td>\n",
              "      <td>0.000000</td>\n",
              "      <td>0.000000</td>\n",
              "      <td>0.0</td>\n",
              "      <td>True</td>\n",
              "      <td>False</td>\n",
              "    </tr>\n",
              "    <tr>\n",
              "      <th>3683716</th>\n",
              "      <td>192.168.1.99</td>\n",
              "      <td>8094.0</td>\n",
              "      <td>154.52.17.92</td>\n",
              "      <td>443.0</td>\n",
              "      <td>74.0</td>\n",
              "      <td>syn</td>\n",
              "      <td>14600.0</td>\n",
              "      <td>64.0</td>\n",
              "      <td>74.0</td>\n",
              "      <td>0.0</td>\n",
              "      <td>...</td>\n",
              "      <td>0.068393</td>\n",
              "      <td>0.165497</td>\n",
              "      <td>0.0</td>\n",
              "      <td>0.703296</td>\n",
              "      <td>0.04137</td>\n",
              "      <td>0.068393</td>\n",
              "      <td>0.165497</td>\n",
              "      <td>0.0</td>\n",
              "      <td>True</td>\n",
              "      <td>False</td>\n",
              "    </tr>\n",
              "  </tbody>\n",
              "</table>\n",
              "<p>5 rows × 78 columns</p>\n",
              "</div>"
            ],
            "text/plain": [
              "                src_ip  src_port         dst_ip  dst_port  packet_length  \\\n",
              "3683553  192.168.1.112   60816.0  208.91.112.53      53.0           66.0   \n",
              "3683555  192.168.1.112   60817.0  208.91.112.53      53.0           66.0   \n",
              "3683602  192.168.1.112   60822.0  208.91.112.53      53.0           66.0   \n",
              "3683656  192.168.1.112   60826.0  208.91.112.53      53.0           66.0   \n",
              "3683716   192.168.1.99    8094.0   154.52.17.92     443.0           74.0   \n",
              "\n",
              "        tcp_flags  window_size    ttl  frame_len  dsfield_dscp  ...  \\\n",
              "3683553       syn      64240.0  128.0       66.0           0.0  ...   \n",
              "3683555       syn      64240.0  128.0       66.0           0.0  ...   \n",
              "3683602       syn      64240.0  128.0       66.0           0.0  ...   \n",
              "3683656       syn      64240.0  128.0       66.0           0.0  ...   \n",
              "3683716       syn      14600.0   64.0       74.0           0.0  ...   \n",
              "\n",
              "        Fwd_IAT_std  Fwd_IAT_max  Fwd_IAT_min  Bwd_IAT_sum  Bwd_IAT_mean  \\\n",
              "3683553    0.005893     0.014769          0.0     0.000000       0.00000   \n",
              "3683555    0.006364     0.014854          0.0     0.000000       0.00000   \n",
              "3683602    0.006495     0.018601          0.0     0.000000       0.00000   \n",
              "3683656    0.005478     0.012971          0.0     0.000000       0.00000   \n",
              "3683716    0.068393     0.165497          0.0     0.703296       0.04137   \n",
              "\n",
              "         Bwd_IAT_std  Bwd_IAT_max  Bwd_IAT_min  protocol_TCP  protocol_UDP  \n",
              "3683553     0.000000     0.000000          0.0          True         False  \n",
              "3683555     0.000000     0.000000          0.0          True         False  \n",
              "3683602     0.000000     0.000000          0.0          True         False  \n",
              "3683656     0.000000     0.000000          0.0          True         False  \n",
              "3683716     0.068393     0.165497          0.0          True         False  \n",
              "\n",
              "[5 rows x 78 columns]"
            ]
          },
          "execution_count": 26,
          "metadata": {},
          "output_type": "execute_result"
        }
      ],
      "source": [
        "df_new.tail()"
      ]
    },
    {
      "cell_type": "code",
      "execution_count": 27,
      "metadata": {
        "id": "U8s5BP550Wx_"
      },
      "outputs": [],
      "source": [
        "X_new = df_new.drop(columns=[\n",
        "    'target', 'src_ip', 'src_port', 'dst_ip', 'packet_eth_src', 'flow_label',\n",
        "    'traffic_class', 'Flow', 'Start_Time', 'End_Time', 'next_header', 'ip_len',\n",
        "    'udp_src_port', 'dsfield_ecn', 'dsfield_dscp', 'flags_mf', 'udp_checksum_status', 'udp_dst_port', 'udp_length','flags_df','ip_hdr_len',\n",
        "    \"packet.sniff_timestamp\", \"packet_length\", \"tcp_flags\", \"app_layer_protocol\", \"dst_port\", \"ttl\", \"Bwd_Packet_Length_Total\", \"Fwd_Packet_Length_Total\",\n",
        "    \"Total_Bwd_Packets\", \"Total_Fwd_Packets\", \"ip_id\", \"Bwd_IAT_min\", \"packet_length_var\", \"payload_len\", \"Fwd_IAT_min\", \n",
        "    \"protocol_TCP\", \"protocol_UDP\", \"Flow_Duration\", \"Fwd_IAT_std\", \"Flow_Packets/s\", \"Bwd_Packet_Length_Total_mean\"\n",
        "    ])"
      ]
    },
    {
      "cell_type": "code",
      "execution_count": 28,
      "metadata": {
        "id": "HoB-tN3am7hY"
      },
      "outputs": [],
      "source": [
        "Y_new = df_new.target"
      ]
    },
    {
      "cell_type": "code",
      "execution_count": 29,
      "metadata": {
        "id": "1ce7PlQJz6ZY"
      },
      "outputs": [],
      "source": [
        "X_new = X_new.astype(float)"
      ]
    },
    {
      "cell_type": "code",
      "execution_count": 30,
      "metadata": {
        "id": "kuJbwt6Mz8Qy"
      },
      "outputs": [],
      "source": [
        "Y_new = Y_new.astype(str)"
      ]
    },
    {
      "cell_type": "code",
      "execution_count": 31,
      "metadata": {
        "id": "fk5xGPs5jbUk"
      },
      "outputs": [],
      "source": [
        "df = df.round(8)"
      ]
    },
    {
      "cell_type": "code",
      "execution_count": 32,
      "metadata": {
        "id": "m2hXwGXhGn_T"
      },
      "outputs": [],
      "source": [
        "X_new.fillna(0, inplace=True)"
      ]
    },
    {
      "cell_type": "code",
      "execution_count": 33,
      "metadata": {
        "id": "bAy2Rk_g2CS9"
      },
      "outputs": [],
      "source": [
        "from sklearn.ensemble import RandomForestClassifier"
      ]
    },
    {
      "cell_type": "code",
      "execution_count": 34,
      "metadata": {},
      "outputs": [],
      "source": [
        "X_new[np.isinf(X_new)] = 0"
      ]
    },
    {
      "cell_type": "code",
      "execution_count": 35,
      "metadata": {
        "colab": {
          "base_uri": "https://localhost:8080/"
        },
        "id": "hfNPC3Iuz9hp",
        "outputId": "32aac2f6-bc65-4c9a-feb7-d35af26b661a"
      },
      "outputs": [
        {
          "name": "stderr",
          "output_type": "stream",
          "text": [
            "c:\\Users\\Meyer\\Documents\\Dom_Detecter_Code\\Dom_Detecter\\dom_detecter_env\\lib\\site-packages\\sklearn\\base.py:457: UserWarning: X has feature names, but RandomForestClassifier was fitted without feature names\n",
            "  warnings.warn(\n"
          ]
        }
      ],
      "source": [
        "Y_new_pred = clf.predict(X_new)"
      ]
    },
    {
      "cell_type": "code",
      "execution_count": 36,
      "metadata": {
        "id": "dDacq2Ok2mHk"
      },
      "outputs": [],
      "source": [
        "Y_new_pred_df = pd.DataFrame(Y_new_pred, columns=['Predicted'])"
      ]
    },
    {
      "cell_type": "code",
      "execution_count": 37,
      "metadata": {
        "colab": {
          "base_uri": "https://localhost:8080/"
        },
        "id": "qAiAkzOlz_GD",
        "outputId": "7e89eba4-7f74-490a-b8e6-52459d814491"
      },
      "outputs": [
        {
          "name": "stdout",
          "output_type": "stream",
          "text": [
            "Accuracy on new data: 0.5860781292486178\n"
          ]
        }
      ],
      "source": [
        "new_accuracy = accuracy_score(Y_new, Y_new_pred)\n",
        "print('Accuracy on new data:', new_accuracy)"
      ]
    },
    {
      "cell_type": "code",
      "execution_count": 38,
      "metadata": {},
      "outputs": [],
      "source": [
        "all_labels = ['amazon_echo', 'belkin_motion', 'belkin_switch', 'netatmo_cam', 'netatmo_weather', 'pixstar_photoframe', 'samsung_cam', 'smart_things', 'tp-link_cam', 'triby_speaker', 'unknown', 'tp_link_c200']\n",
        "# Ensure a consistent order of labels\n",
        "labels_ordered = list(set(all_labels))"
      ]
    },
    {
      "cell_type": "code",
      "execution_count": 39,
      "metadata": {
        "id": "Bq-yhcx2kKC4"
      },
      "outputs": [],
      "source": [
        "cm = confusion_matrix(Y_new, Y_new_pred, labels=labels_ordered)"
      ]
    },
    {
      "cell_type": "code",
      "execution_count": 40,
      "metadata": {},
      "outputs": [
        {
          "name": "stdout",
          "output_type": "stream",
          "text": [
            "Confusion Matrix:\n",
            "                    tp_link_c200  tp-link_cam  netatmo_weather  belkin_motion  \\\n",
            "tp_link_c200                   0           34                0              2   \n",
            "tp-link_cam                    0            0                0              0   \n",
            "netatmo_weather                0            0               59              2   \n",
            "belkin_motion                  0            0                0              0   \n",
            "smart_things                   0            0                0              0   \n",
            "netatmo_cam                    0            0                0             41   \n",
            "samsung_cam                    0            0                0              0   \n",
            "amazon_echo                    0            0                0              0   \n",
            "pixstar_photoframe             0            0                0              0   \n",
            "unknown                        0         1472                3           1241   \n",
            "triby_speaker                  0            0                0              0   \n",
            "belkin_switch                  0            0                0              0   \n",
            "\n",
            "                    smart_things  netatmo_cam  samsung_cam  amazon_echo  \\\n",
            "tp_link_c200                3028          605            0          383   \n",
            "tp-link_cam                    0            0            0            0   \n",
            "netatmo_weather                0            0            0            2   \n",
            "belkin_motion                  0            0            0            0   \n",
            "smart_things                   0            0            0            0   \n",
            "netatmo_cam                   75          272            1            1   \n",
            "samsung_cam                    0            0            0            0   \n",
            "amazon_echo                    0            0            0            0   \n",
            "pixstar_photoframe             0            0            0            0   \n",
            "unknown                     1030          331         4413         1605   \n",
            "triby_speaker                  0            0            0            0   \n",
            "belkin_switch                  0            0            0            0   \n",
            "\n",
            "                    pixstar_photoframe  unknown  triby_speaker  belkin_switch  \n",
            "tp_link_c200                        71       15              0              0  \n",
            "tp-link_cam                          0        0              0              0  \n",
            "netatmo_weather                      0        0              0              0  \n",
            "belkin_motion                        0        0              0              0  \n",
            "smart_things                         0        0              0              0  \n",
            "netatmo_cam                          4        3              0              1  \n",
            "samsung_cam                          0        0              0              0  \n",
            "amazon_echo                          0        0              0              0  \n",
            "pixstar_photoframe                   0        0              0              0  \n",
            "unknown                           7850    32000              0            621  \n",
            "triby_speaker                        0        0              0              0  \n",
            "belkin_switch                        0        0              0              0  \n"
          ]
        }
      ],
      "source": [
        "cm_df = pd.DataFrame(cm, index=labels_ordered, columns=labels_ordered)\n",
        "print(\"Confusion Matrix:\")\n",
        "print(cm_df)"
      ]
    },
    {
      "cell_type": "code",
      "execution_count": 41,
      "metadata": {},
      "outputs": [],
      "source": [
        "cm_df.to_csv(r'C:\\Users\\Meyer\\Documents\\Dom_Detecter\\def_ml\\flow\\rf\\rf_DTADSV-S\\rf_cm_DTADSV-Set.csv')"
      ]
    },
    {
      "cell_type": "code",
      "execution_count": 42,
      "metadata": {
        "id": "KAZ2w9lRn4UL"
      },
      "outputs": [],
      "source": [
        "Y_new_df = pd.DataFrame(Y_new, columns=['Actual'])\n",
        "Y_new_pred_df = pd.DataFrame(Y_new_pred, columns=['Predicted'])"
      ]
    },
    {
      "cell_type": "code",
      "execution_count": 43,
      "metadata": {
        "id": "h0MavK_wn5Rw"
      },
      "outputs": [],
      "source": [
        "result_df = pd.concat([Y_new_df, Y_new_pred_df], axis=1)"
      ]
    },
    {
      "cell_type": "code",
      "execution_count": 44,
      "metadata": {
        "colab": {
          "base_uri": "https://localhost:8080/"
        },
        "id": "7LHbLybBn6WL",
        "outputId": "250c9075-6ae0-4779-eefa-517d84ebcece"
      },
      "outputs": [
        {
          "name": "stderr",
          "output_type": "stream",
          "text": [
            "c:\\Users\\Meyer\\Documents\\Dom_Detecter_Code\\Dom_Detecter\\dom_detecter_env\\lib\\site-packages\\sklearn\\base.py:457: UserWarning: X has feature names, but RandomForestClassifier was fitted without feature names\n",
            "  warnings.warn(\n"
          ]
        }
      ],
      "source": [
        "Y_test_pred = clf.predict(X_new)"
      ]
    },
    {
      "cell_type": "code",
      "execution_count": 45,
      "metadata": {
        "id": "YTLAbGYbn75r"
      },
      "outputs": [],
      "source": [
        "df_new['Predicted_Target'] = Y_new_pred"
      ]
    },
    {
      "cell_type": "code",
      "execution_count": 46,
      "metadata": {
        "id": "4h5T1H3mn9Gh"
      },
      "outputs": [],
      "source": [
        "wrong_predictions = df_new[df_new['target'] != df_new['Predicted_Target']]"
      ]
    },
    {
      "cell_type": "code",
      "execution_count": 47,
      "metadata": {
        "id": "eroH3QbSn_Uj"
      },
      "outputs": [],
      "source": [
        "df_new['is_correct'] = df_new['target'] == df_new['Predicted_Target']"
      ]
    },
    {
      "cell_type": "code",
      "execution_count": 48,
      "metadata": {
        "id": "IVN-xgjHoAy0"
      },
      "outputs": [],
      "source": [
        "df_new.to_csv(r'C:\\Users\\Meyer\\Documents\\Dom_Detecter\\def_ml\\flow\\rf\\rf_DTADSV-S\\rf_DTADSV-Set.csv', index=False)"
      ]
    },
    {
      "cell_type": "code",
      "execution_count": 49,
      "metadata": {
        "id": "JDdXuImmoEuG"
      },
      "outputs": [],
      "source": [
        "# Group by the true label (i.e., the actual device type)\n",
        "grouped = df_new.groupby('target')"
      ]
    },
    {
      "cell_type": "code",
      "execution_count": 50,
      "metadata": {
        "id": "Jl-WU6AUoF4G"
      },
      "outputs": [],
      "source": [
        "accuracy_per_device = {}"
      ]
    },
    {
      "cell_type": "code",
      "execution_count": 51,
      "metadata": {
        "id": "f7udZj8boHAc"
      },
      "outputs": [],
      "source": [
        "# Calculate accuracy for each device type\n",
        "for name, group in grouped:\n",
        "    accuracy = accuracy_score(group['target'], group['Predicted_Target'])\n",
        "    accuracy_per_device[name] = accuracy"
      ]
    },
    {
      "cell_type": "code",
      "execution_count": 52,
      "metadata": {
        "colab": {
          "base_uri": "https://localhost:8080/"
        },
        "id": "1PDHrSPxoIS1",
        "outputId": "dd93417b-a0f0-48f9-9440-ba16981e92dc"
      },
      "outputs": [
        {
          "name": "stdout",
          "output_type": "stream",
          "text": [
            "Accuracy per device type: {'netatmo_cam': 0.6834170854271356, 'netatmo_weather': 0.9365079365079365, 'tp_link_c200': 0.0, 'unknown': 0.6328362931614128}\n"
          ]
        }
      ],
      "source": [
        "print(\"Accuracy per device type:\", accuracy_per_device)"
      ]
    }
  ],
  "metadata": {
    "colab": {
      "provenance": []
    },
    "kernelspec": {
      "display_name": "Python 3",
      "name": "python3"
    },
    "language_info": {
      "codemirror_mode": {
        "name": "ipython",
        "version": 3
      },
      "file_extension": ".py",
      "mimetype": "text/x-python",
      "name": "python",
      "nbconvert_exporter": "python",
      "pygments_lexer": "ipython3",
      "version": "3.9.13"
    }
  },
  "nbformat": 4,
  "nbformat_minor": 0
}
